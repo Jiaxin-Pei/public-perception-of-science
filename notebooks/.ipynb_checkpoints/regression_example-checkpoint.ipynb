{
 "cells": [
  {
   "cell_type": "code",
   "execution_count": 1,
   "id": "a540cced-a861-4878-adac-38ee5eb97240",
   "metadata": {},
   "outputs": [
    {
     "name": "stdout",
     "output_type": "stream",
     "text": [
      "[2023-11-15 05:00:30,396] [INFO] [real_accelerator.py:158:get_accelerator] Setting ds_accelerator to cuda (auto detect)\n"
     ]
    }
   ],
   "source": [
    "\n",
    "from inference import Estimator"
   ]
  },
  {
   "cell_type": "code",
   "execution_count": null,
   "id": "6d0a1fee-bea7-4644-b98e-4b8b87bb1bdc",
   "metadata": {},
   "outputs": [],
   "source": [
    "def get_formality(texts):\n",
    "    os.environ[\"CUDA_DEVICE_ORDER\"]=\"PCI_BUS_ID\"   \n",
    "    os.environ[\"CUDA_VISIBLE_DEVICES\"]=\"0\"\n",
    "    model = Estimator(tokenizer='roberta-large', model='../models/src/new_model/roberta-large-seeds/0/best_model',num_labels=2,cuda = False)\n",
    "    return model.predict(texts)"
   ]
  }
 ],
 "metadata": {
  "kernelspec": {
   "display_name": "Python 3",
   "language": "python",
   "name": "python3"
  },
  "language_info": {
   "codemirror_mode": {
    "name": "ipython",
    "version": 3
   },
   "file_extension": ".py",
   "mimetype": "text/x-python",
   "name": "python",
   "nbconvert_exporter": "python",
   "pygments_lexer": "ipython3",
   "version": "3.9.12"
  }
 },
 "nbformat": 4,
 "nbformat_minor": 5
}
