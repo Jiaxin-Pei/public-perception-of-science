{
 "cells": [
  {
   "cell_type": "code",
   "execution_count": 205,
   "metadata": {},
   "outputs": [],
   "source": [
    "import os\n",
    "import json\n",
    "from tqdm.notebook import tqdm\n",
    "import pickle\n",
    "import lzma\n",
    "import argparse\n",
    "import bz2\n",
    "import re\n",
    "#import zstd\n",
    "from collections import defaultdict\n",
    "import pandas as pd\n",
    "#from inference import Estimator\n",
    "\n",
    "from shared_apis import write_file, read_file,split_labels\n",
    "import math\n",
    "import numpy as np\n",
    "import seaborn as sns\n",
    "import matplotlib.pyplot as plt\n",
    "import matplotlib.colors\n",
    "import matplotlib.cm as cm\n",
    "import statsmodels.api as sm\n",
    "from statsmodels.formula.api import ols, mixedlm\n",
    "from urllib.parse import urlparse"
   ]
  },
  {
   "cell_type": "code",
   "execution_count": 206,
   "metadata": {},
   "outputs": [
    {
     "data": {
      "text/plain": [
       "Index(['has_indirect_mention', 'mentions_first_author_institution',\n",
       "       'has_first_author_quote', 'url', 'doi', 'first_aut_name',\n",
       "       'first_aut_last_name', 'first_fname_length', 'first_fname_prob',\n",
       "       'eth_first_author_ethnea',\n",
       "       ...\n",
       "       'Unlikely_to_share', 'Could_interest_the_general_public',\n",
       "       'I_learned_something_useful', 'A_public_segment',\n",
       "       'News_story_is_exaggerated', 'Popular_print_media',\n",
       "       'Would_share_directly', 'General_news_outlets',\n",
       "       'Shouldnt_be_public_outside_science', 'Sci_Tech_media'],\n",
       "      dtype='object', length=658)"
      ]
     },
     "execution_count": 206,
     "metadata": {},
     "output_type": "execute_result"
    }
   ],
   "source": [
    "df = pd.read_csv('../data/unique_df_with_scores.csv')\n",
    "df.columns\n"
   ]
  },
  {
   "cell_type": "code",
   "execution_count": null,
   "metadata": {},
   "outputs": [],
   "source": []
  }
 ],
 "metadata": {
  "kernelspec": {
   "display_name": "Python 3",
   "language": "python",
   "name": "python3"
  },
  "language_info": {
   "codemirror_mode": {
    "name": "ipython",
    "version": 3
   },
   "file_extension": ".py",
   "mimetype": "text/x-python",
   "name": "python",
   "nbconvert_exporter": "python",
   "pygments_lexer": "ipython3",
   "version": "3.9.12"
  }
 },
 "nbformat": 4,
 "nbformat_minor": 2
}
