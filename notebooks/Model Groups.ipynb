{
 "cells": [
  {
   "cell_type": "code",
   "execution_count": 1,
   "metadata": {},
   "outputs": [],
   "source": [
    "%load_ext autoreload\n",
    "%autoreload 2\n",
    "%matplotlib inline"
   ]
  },
  {
   "cell_type": "code",
   "execution_count": 2,
   "metadata": {},
   "outputs": [],
   "source": [
    "import pandas as pd\n",
    "import numpy as np\n",
    "from ast import literal_eval\n",
    "from collections import defaultdict\n",
    "import matplotlib.pyplot as plt\n",
    "import seaborn as sns\n",
    "import os\n",
    "\n",
    "sns.set()"
   ]
  },
  {
   "cell_type": "code",
   "execution_count": 3,
   "metadata": {},
   "outputs": [],
   "source": [
    "data = pd.read_csv('./data/agg_df_with_full_text.csv', converters={\n",
    "    \"users\": literal_eval,\n",
    "    \"scores\": literal_eval\n",
    "    })\n",
    "dimension_to_id = {dim: j for j,dim in enumerate(set(data['dimension']))}\n",
    "annotator_set = set([id_ for j,row in data.iterrows() for id_ in row['users']])\n",
    "ann_to_id = {ann: j for j,ann in enumerate(annotator_set)}\n",
    "instance_to_row = {id_: j for j,id_ in enumerate(set(data['instance_id']))}"
   ]
  },
  {
   "cell_type": "code",
   "execution_count": 4,
   "metadata": {},
   "outputs": [
    {
     "data": {
      "text/plain": [
       "Index(['instance_id', 'scores', 'users', 'scores_num', 'label', 'dimension',\n",
       "       'doi', 'url', 'Mention title', 'category', 'outlet', 'coverage_type',\n",
       "       'statement', 'FleschReadingEase', 'big_field', 'cleaned_text',\n",
       "       'statement_full', 'split'],\n",
       "      dtype='object')"
      ]
     },
     "execution_count": 4,
     "metadata": {},
     "output_type": "execute_result"
    }
   ],
   "source": [
    "data.columns"
   ]
  },
  {
   "cell_type": "markdown",
   "metadata": {},
   "source": [
    "## Demographic information"
   ]
  },
  {
   "cell_type": "code",
   "execution_count": null,
   "metadata": {},
   "outputs": [],
   "source": [
    "question2key = {\n",
    "    \"What is your gender?\": \"gender\",\n",
    "    \"What is your age?\": \"age\",\n",
    "    \"How do you describe your race or ethnicity (You may select more than one option)\": \"race\",\n",
    "    \"What is your education level?\": \"education\",\n",
    "    'How frequently do you read science news?': \"science_news_consumption\",\n",
    "   'Which of the following, if any, do you regularly get your science news from (Select all that apply)?': \"get_news_from_outlets\",\n",
    "   'Which, if any, of these science-related topics are you interested in?':'topic_of_interests',\n",
    "   'In general, how much would you say that you trust science?':\"trust_in_science\",\n",
    "   'In general, how much do you trust scientists to find out accurate information about the world?':\"trust_in_scientist_ability\",\n",
    "   'How much do you trust scientists to do their work with the intention of benefiting the public?':\"trust_in_scientist_intentin\",\n",
    "   'How much do you know about what scientists do?':\"knowledge_about_scientists\",\n",
    "   'How satisfied do you feel about your experience participating our study?':\"study_experience\",\n",
    "   'How do you feel about your experience participating our study compared with other studies?':\"study_experience_comparison\",\n",
    "   'If you choose Asian above, please specify (please choose Not Applicable if you are not Asian)':\"Asian_details\",\n",
    "   'What is your employment status?': \"employment\"\n",
    "}\n",
    "\n",
    "def load_info_dict(path='data/selective-reporting/annotation/news_values/surveyflow', files = ['demographic_information','experience_with_science','political_orientation']):\n",
    "    info_dict = {}\n",
    "    question_dict = {}\n",
    "    for f in files:\n",
    "        info_dict[f] = {}\n",
    "        t_df = pd.read_json(os.path.join(path, f) + '.jsonl', orient='records', lines=True)\n",
    "        for i,row in t_df.iterrows():\n",
    "            info_dict[f][row['text']] = dict(row)\n",
    "            question_dict[row['text']] = dict(row)\n",
    "            question_dict[row['text']]['category'] = f\n",
    "    return info_dict, question_dict\n",
    "\n",
    "def read_csv(path, cat):\n",
    "    df = pd.read_csv(path,sep='\\t')\n",
    "    df['sample'] = cat\n",
    "    return df\n",
    "\n",
    "info_dict, question_dict = load_info_dict()\n",
    "labels = ['Strongly Disagree', 'Disagree', 'Neutral', 'Agree' , 'Strongly Agree']\n",
    "label2score = {l:i for i,l in enumerate(labels)}\n",
    "\n",
    "def convert_data(df, multirate_keys = ['Readability and newsworthiness', 'Practical implications and controversy', 'Sharing','benefit','publishing']):\n",
    "    return_dict = defaultdict(list)\n",
    "    cols = list(df.columns)\n",
    "    for i, row in df.iterrows():\n",
    "        item = {}\n",
    "        for key_label in cols:\n",
    "            key = key_label.split(\":::\")\n",
    "            if len(key) == 1:\n",
    "                item[key[0]] = row[key_label]\n",
    "            elif key[0] == 'span_annotation':\n",
    "                item[key[0]] = eval(row[key_label])\n",
    "            elif key[1]=='bad_text':\n",
    "                item['bad_text'] = row[key_label]\n",
    "            elif len(key) == 2:\n",
    "                #print(key_label, row[key_label])\n",
    "                if key[0] in multirate_keys:\n",
    "                    if str(row[key_label]) == 'nan':\n",
    "                        item[key_label] = np.nan\n",
    "                    else:\n",
    "                        item[key_label] = label2score[row[key_label]]\n",
    "                elif key[0] in question_dict:\n",
    "                    if question_dict[key[0]]['schema'] == 'radio':\n",
    "                        if key[0] not in item:\n",
    "                            item[key[0]] = np.nan\n",
    "                        if str(row[key_label]) != 'nan':\n",
    "                            item[key[0]] = key[1]\n",
    "                    elif question_dict[key[0]]['schema'] == 'multiselect':\n",
    "                        if key[0] not in item:\n",
    "                            item[key[0]] = []\n",
    "                        if str(row[key_label]) != 'nan':\n",
    "                            item[key[0]].append(key[1])\n",
    "                    \n",
    "                else:\n",
    "                    #print(str(row[key_label]))\n",
    "                    if key[0] not in item:\n",
    "                        item[key[0]] = None\n",
    "\n",
    "                    elif str(row[key_label]) != 'nan':\n",
    "                        item[key[0]] = row[key_label]\n",
    "                \n",
    "                #if key[0] not in item:\n",
    "                #    item[key[0]] = None\n",
    "                #if row[key_label] == True:\n",
    "                #    if key[1][:5] == 'scale':\n",
    "                #        item[key[0]] = int(key[1].split('_')[1])\n",
    "                #    else:\n",
    "                #        item[key[0]] = key[1]\n",
    "            else:\n",
    "                print('error key: ', key)\n",
    "        for key in item:\n",
    "            return_dict[key].append(item[key])\n",
    "    for key in return_dict:\n",
    "        print(key,len(return_dict))\n",
    "    return pd.DataFrame(return_dict)\n",
    "\n",
    "def get_user_dict(ann_df):\n",
    "    user_keys = set(ann_df['user'])\n",
    "    user_dict = defaultdict(dict)\n",
    "    for key in info_dict:\n",
    "        df = ann_df[ann_df.instance_id.str.contains(key)]\n",
    "        for i, row in df.iterrows():\n",
    "            for k in info_dict[key]:\n",
    "                user_dict[row['user']][k] = row[k]#.split(':::')[-1] if type(v)==str else v\n",
    "    return user_dict\n",
    "\n",
    "\n",
    "data_df = pd.concat([\n",
    "    read_csv('data/selective-reporting/annotation/news_values/annotation_output/full/batch_1/US/annotated_instances.tsv','US'),\n",
    "    read_csv('data/selective-reporting/annotation/news_values/annotation_output/full/batch_1/UK/annotated_instances.tsv','UK')\n",
    "])\n",
    "data_df = convert_data(data_df)\n",
    "user_dict = get_user_dict(data_df)\n"
   ]
  },
  {
   "cell_type": "code",
   "execution_count": null,
   "metadata": {},
   "outputs": [],
   "source": [
    "user_dict"
   ]
  },
  {
   "cell_type": "code",
   "execution_count": null,
   "metadata": {},
   "outputs": [],
   "source": [
    "info_dict"
   ]
  },
  {
   "cell_type": "markdown",
   "metadata": {},
   "source": [
    "# PCA stuff"
   ]
  },
  {
   "cell_type": "code",
   "execution_count": 29,
   "metadata": {},
   "outputs": [],
   "source": [
    "# Get all the data in a nice tensor I x D x A\n",
    "# I: instance\n",
    "# D: dimension\n",
    "# A: annotator\n",
    "#annotation_tensor = np.array([[[-1]*len(ann_to_id)]*len(dimension_to_id)]*len(instance_to_row))\n",
    "score_vector_set = defaultdict(lambda: [np.nan]*len(dimension_to_id))\n",
    "for j,row in data.iterrows():\n",
    "    for ann,score in zip(row['users'], row['scores']):\n",
    "        score_vector_set[(row['instance_id'],ann)][dimension_to_id[row['dimension']]] = score\n",
    "# Get a matrix of scores\n",
    "score_mat = np.array(list(score_vector_set.values()))"
   ]
  },
  {
   "cell_type": "code",
   "execution_count": null,
   "metadata": {},
   "outputs": [],
   "source": [
    "from sklearn.impute import KNNImputer\n",
    "\n",
    "# Impute missing values\n",
    "imputer = KNNImputer(n_neighbors=2, weights=\"uniform\")\n",
    "score_mat_full = imputer.fit_transform(score_mat)"
   ]
  },
  {
   "cell_type": "code",
   "execution_count": null,
   "metadata": {},
   "outputs": [],
   "source": [
    "mu = score_mat_full.mean(0)\n",
    "diffs = score_mat_full - mu\n",
    "# Divide by N - 1 for unbaised estimate\n",
    "cov = (diffs.T @ diffs) / (score_mat_full.shape[0] - 1)\n",
    "\n",
    "# Compute eigenvectors and eigenvalues\n",
    "eig = np.linalg.eig(cov)\n",
    "# Get percentage of explained variance\n",
    "pVar = eig[0] / eig[0].sum()\n",
    "# Sort eigenvectors and eigenvalues\n",
    "order = np.argsort(eig[0])[::-1]\n",
    "# Eigenvectors stored as column vectors\n",
    "features = eig[1][:,order]\n",
    "\n",
    "# Reduce to K dimensions\n",
    "K = 2\n",
    "pca_vectors = features[:,:K].T @ diffs.T"
   ]
  },
  {
   "cell_type": "code",
   "execution_count": null,
   "metadata": {},
   "outputs": [],
   "source": [
    "plt.scatter(pca_vectors[0], pca_vectors[1], s=1)"
   ]
  },
  {
   "cell_type": "code",
   "execution_count": null,
   "metadata": {},
   "outputs": [],
   "source": [
    "from sklearn.decomposition import PCA\n",
    "\n",
    "pca = PCA(n_components=2)\n",
    "test_vecs = pca.fit_transform(score_mat_full)\n",
    "plt.scatter(test_vecs[:,0], test_vecs[:,1], s=1)"
   ]
  },
  {
   "cell_type": "code",
   "execution_count": null,
   "metadata": {},
   "outputs": [],
   "source": [
    "(test_vecs.T - pca_vectors).mean()"
   ]
  },
  {
   "cell_type": "markdown",
   "metadata": {},
   "source": [
    "## See if any clusters come up based on user or instance attributes"
   ]
  },
  {
   "cell_type": "code",
   "execution_count": null,
   "metadata": {},
   "outputs": [],
   "source": [
    "# Get instance categories for each row\n",
    "inst_to_cat = {row['instance_id']: row['category'] for j,row in data.iterrows()}\n",
    "categories = [inst_to_cat[key[0]] for key in score_vector_set]\n",
    "\n",
    "# Get instance field for each row\n",
    "inst_to_field = {row['instance_id']: row['big_field'] for j,row in data.iterrows()}\n",
    "fields = [inst_to_field[key[0]] for key in score_vector_set]\n",
    "\n",
    "# Get user gender for each for\n",
    "gender = [user_dict[key[1]]['What is your gender?'] for key in score_vector_set]\n",
    "\n",
    "# Get user age\n",
    "age = [user_dict[key[1]]['What is your age?'] for key in score_vector_set]"
   ]
  },
  {
   "cell_type": "code",
   "execution_count": null,
   "metadata": {},
   "outputs": [],
   "source": [
    "sns.scatterplot(x=test_vecs[:,0], y=test_vecs[:,1], s=10, hue=categories)"
   ]
  },
  {
   "cell_type": "code",
   "execution_count": null,
   "metadata": {},
   "outputs": [],
   "source": [
    "sns.scatterplot(x=test_vecs[:,0], y=test_vecs[:,1], s=10, hue=fields)"
   ]
  },
  {
   "cell_type": "code",
   "execution_count": null,
   "metadata": {},
   "outputs": [],
   "source": [
    "sns.scatterplot(x=test_vecs[:,0], y=test_vecs[:,1], s=10, hue=gender)"
   ]
  },
  {
   "cell_type": "code",
   "execution_count": null,
   "metadata": {},
   "outputs": [],
   "source": [
    "plt.figure(figsize=(10,10))\n",
    "sns.scatterplot(x=test_vecs[:,0], y=test_vecs[:,1], s=15, hue=age)"
   ]
  },
  {
   "cell_type": "markdown",
   "metadata": {},
   "source": [
    "# K-Means Clustering"
   ]
  },
  {
   "cell_type": "code",
   "execution_count": 51,
   "metadata": {},
   "outputs": [],
   "source": [
    "from sklearn.cluster import KMeans"
   ]
  },
  {
   "cell_type": "code",
   "execution_count": null,
   "metadata": {},
   "outputs": [],
   "source": [
    "kmeans = KMeans(n_clusters=2, random_state=0, n_init=\"auto\").fit(pca_vectors.T)"
   ]
  },
  {
   "cell_type": "code",
   "execution_count": null,
   "metadata": {},
   "outputs": [],
   "source": [
    "plt.figure(figsize=(10,10))\n",
    "sns.scatterplot(x=test_vecs[:,0], y=test_vecs[:,1], s=15, hue=kmeans.labels_)"
   ]
  },
  {
   "cell_type": "code",
   "execution_count": null,
   "metadata": {},
   "outputs": [],
   "source": [
    "# Get statistics on the two clusters\n",
    "inst_to_cluster = {key[0]: lab for key,lab in zip(score_vector_set, kmeans.labels_)}\n",
    "inst_to_cluster = {key[0]: lab for key,lab in zip(score_vector_set, kmeans.labels_)}"
   ]
  },
  {
   "cell_type": "markdown",
   "metadata": {},
   "source": [
    "# Get aggregated article level features"
   ]
  },
  {
   "cell_type": "code",
   "execution_count": 27,
   "metadata": {},
   "outputs": [
    {
     "name": "stderr",
     "output_type": "stream",
     "text": [
      "2023-10-24 11:02:29.871482: I tensorflow/core/platform/cpu_feature_guard.cc:182] This TensorFlow binary is optimized to use available CPU instructions in performance-critical operations.\n",
      "To enable the following instructions: AVX2 FMA, in other operations, rebuild TensorFlow with the appropriate compiler flags.\n"
     ]
    }
   ],
   "source": [
    "import os\n",
    "import tensorflow as tf\n",
    "from tensorboard.plugins import projector"
   ]
  },
  {
   "cell_type": "code",
   "execution_count": 30,
   "metadata": {},
   "outputs": [],
   "source": [
    "agg_vectors = defaultdict(lambda: [np.nan]*len(dimension_to_id))\n",
    "labels_dict = defaultdict(dict)\n",
    "for j,row in data.iterrows():\n",
    "    agg_vectors[row['instance_id']][dimension_to_id[row['dimension']]] = row['label']\n",
    "    labels_dict[row['instance_id']]['category'] = row['category']\n",
    "    labels_dict[row['instance_id']]['outlet'] = row['outlet']\n",
    "    labels_dict[row['instance_id']]['field'] = row['big_field']\n",
    "# Get a matrix of scores\n",
    "score_mat = np.array(list(score_vector_set.values()))"
   ]
  },
  {
   "cell_type": "code",
   "execution_count": null,
   "metadata": {},
   "outputs": [],
   "source": [
    "# Set up a logs directory, so Tensorboard knows where to look for files.\n",
    "log_dir='./tensorboard/embeddings'\n",
    "if not os.path.exists(log_dir):\n",
    "    os.makedirs(log_dir)\n",
    "    \n",
    "# Make embeddings and labels\n",
    "embs = []\n",
    "labs = []\n",
    "for id_ in agg_vectors:\n",
    "    embs.append(np.array(agg_vectors[id_]))\n",
    "    cat = labels_dict[id_]['category']\n",
    "    outlet = labels_dict[id_]['outlet']\n",
    "    field = labels_dict[id_]['field']\n",
    "    labs.append(f\"{id_}\\t{cat}\\t{outlet}\\t{field}\")\n",
    "# Save Labels separately on a line-by-line manner.\n",
    "with open(os.path.join(log_dir, 'metadata.tsv'), \"w\") as f:\n",
    "    f.write(\"ID\\tCategory\\tOutlet\\tField\\n\")\n",
    "    f.write(\"\\n\".join(labs))\n",
    "    \n",
    "# center and normalize the vectors: we make everything symmetric and have magnitude 1, so \n",
    "# we can look at cosine similarity\n",
    "embs = np.array(embs)\n",
    "embs -= embs.mean(0, keepdims=True)\n",
    "embs = embs / np.linalg.norm(embs, axis=1, keepdims=True)\n",
    "\n",
    "# Save the weights we want to analyze as a variable. Note that the first\n",
    "# value represents any unknown word, which is not in the metadata, here\n",
    "# we will remove this value.\n",
    "weights = tf.Variable(np.array(embs))\n",
    "# Create a checkpoint from embedding, the filename and key are the\n",
    "# name of the tensor.\n",
    "checkpoint = tf.train.Checkpoint(embedding=weights)\n",
    "checkpoint.save(os.path.join(log_dir, \"embedding.ckpt\"))\n",
    "\n",
    "# Set up config.\n",
    "config = projector.ProjectorConfig()\n",
    "embedding = config.embeddings.add()\n",
    "# The name of the tensor will be suffixed by `/.ATTRIBUTES/VARIABLE_VALUE`.\n",
    "embedding.tensor_name = \"embedding/.ATTRIBUTES/VARIABLE_VALUE\"\n",
    "embedding.metadata_path = 'metadata.tsv'\n",
    "projector.visualize_embeddings(log_dir, config)"
   ]
  },
  {
   "cell_type": "code",
   "execution_count": null,
   "metadata": {},
   "outputs": [],
   "source": [
    "np.linalg.norm(embs, axis=1).shape"
   ]
  },
  {
   "cell_type": "code",
   "execution_count": null,
   "metadata": {},
   "outputs": [],
   "source": [
    "data.head()"
   ]
  },
  {
   "cell_type": "code",
   "execution_count": null,
   "metadata": {},
   "outputs": [],
   "source": [
    "A = np.array([[1, 2], [-1,3]])\n",
    "A0 = np.array([[1, -0.5], [-1, 0.5]])\n",
    "sns.scatterplot(x=A[:,0], y=A[:,1])\n",
    "\n",
    "sns.scatterplot(x=A0[:,0], y=A0[:,1])"
   ]
  },
  {
   "cell_type": "code",
   "execution_count": null,
   "metadata": {},
   "outputs": [],
   "source": [
    "A"
   ]
  },
  {
   "cell_type": "markdown",
   "metadata": {},
   "source": [
    "# Latent factor model to learn embeddings of users and articles\n",
    "\n",
    "We'll build a latent factor model (as in collaborative filtering). We have a matrix $U \\in \\mathbb{R}^{N \\times d}$ where $U_{n}$ is the embedding for user $n$; matrix $I \\in \\mathbb{R}^{M \\times d}$ where $I_{m}$ is the embdding of item $m$ and a sparse matrix $S \\in \\mathbb{R}^{N \\times M}$ where $S_{nm}$ is the score that user $n$ gave to item $m$.\n",
    "\n",
    "Given a set of $K$ tuples $(n, m, r) \\in \\tilde{S}$ where $k$ is the rating user $n$ gave to item $k$, we learn $U$ and $I$ by optimizing the following objective:\n",
    "\n",
    "$$\\mathcal{L}(U, I, \\tilde{S}) = \\frac{1}{K}\\sum_{(n,m,r) \\in \\tilde{S}}\\left\\lVert U_{n}I_{m} - r \\right\\rVert_{2}^{2}$$"
   ]
  },
  {
   "cell_type": "code",
   "execution_count": null,
   "metadata": {},
   "outputs": [],
   "source": [
    "# First attempt custom solver using pytorch\n",
    "import torch\n",
    "from torch import nn, optim\n",
    "from torch.utils.data import Dataset\n",
    "import random\n",
    "from torch.utils.data import DataLoader\n",
    "\n",
    "def enforce_reproducibility(seed=1000):\n",
    "    # Sets seed manually for both CPU and CUDA\n",
    "    torch.manual_seed(seed)\n",
    "    torch.cuda.manual_seed_all(seed)\n",
    "    # For atomic operations there is currently\n",
    "    # no simple way to enforce determinism, as\n",
    "    # the order of parallel operations is not known.\n",
    "    # CUDNN\n",
    "    torch.backends.cudnn.deterministic = True\n",
    "    torch.backends.cudnn.benchmark = False\n",
    "    # System based\n",
    "    random.seed(seed)\n",
    "    np.random.seed(seed)\n",
    "\n",
    "class MatrixFactorizer(nn.Module):\n",
    "    def __init__(self, n, m, d):\n",
    "        super().__init__()\n",
    "        # Create embedding matrices for U and I\n",
    "        self.U = nn.Embedding(n, d)\n",
    "        self.I = nn.Embedding(m, d)\n",
    "        \n",
    "    def forward(self, \n",
    "                mn: torch.LongTensor):\n",
    "        # Get the embeddings and return their dot product\n",
    "        m = mn[:,0]\n",
    "        n = mn[:,1]\n",
    "        u = self.U(n)\n",
    "        i = self.I(m)\n",
    "        return (u*i).sum(-1)\n",
    "    \n",
    "class IterDataset(Dataset):\n",
    "    def __init__(self, dataset):\n",
    "        self.dset = dataset\n",
    "        \n",
    "    def __len__(self):\n",
    "        return len(self.dset)\n",
    "    \n",
    "    def __getitem__(self, idx):\n",
    "        item = self.dset[idx]\n",
    "        mn = torch.LongTensor([item[0], item[1]])\n",
    "        r = torch.FloatTensor([item[2]]).squeeze()\n",
    "        \n",
    "        return nm,r"
   ]
  },
  {
   "cell_type": "code",
   "execution_count": null,
   "metadata": {},
   "outputs": [],
   "source": [
    "# Make everything reproducible\n",
    "enforce_reproducibility()"
   ]
  },
  {
   "cell_type": "code",
   "execution_count": null,
   "metadata": {},
   "outputs": [],
   "source": [
    "# Get the data in tuples\n",
    "rating_key = 'Readability and newsworthiness:::The science news story should be published in the news'\n",
    "dataset = []\n",
    "scores = []\n",
    "for j,row in data.iterrows():\n",
    "    if row['dimension'] == rating_key:\n",
    "        for ann,score in zip(row['users'], row['scores']):\n",
    "            dataset.append([instance_to_row[row['instance_id']], ann_to_id[ann], score])\n",
    "            scores.append(score)\n",
    "# Normalize by subtracting the mean and dividing my stddev\n",
    "dataset = np.array(dataset)\n",
    "dataset[:,-1] = (dataset[:,-1] - dataset[:,-1].mean()) / dataset[:,-1].std()"
   ]
  },
  {
   "cell_type": "code",
   "execution_count": null,
   "metadata": {},
   "outputs": [],
   "source": [
    "dset = IterDataset(dataset)\n",
    "loader = DataLoader(dset, batch_size=8, shuffle=True)\n",
    "model = MatrixFactorizer(len(ann_to_id), len(instance_to_row), 16)"
   ]
  },
  {
   "cell_type": "code",
   "execution_count": null,
   "metadata": {},
   "outputs": [],
   "source": [
    "# optimizer = optim.SGD(model.parameters(), lr=0.001)\n",
    "# loss_fn = nn.MSELoss()\n",
    "# epochs = 1000\n",
    "# for e in range(epochs):\n",
    "#     print(f\"Epoch: {e}\")\n",
    "#     for nm,r in loader:\n",
    "\n",
    "#         optimizer.zero_grad()\n",
    "#         out = model(nm)\n",
    "#         loss = loss_fn(out, r)\n",
    "#         loss.backward()\n",
    "#         optimizer.step()\n",
    "\n",
    "#     print(loss)"
   ]
  },
  {
   "cell_type": "code",
   "execution_count": null,
   "metadata": {},
   "outputs": [],
   "source": [
    "from skorch import NeuralNetRegressor\n",
    "from sklearn.model_selection import RandomizedSearchCV\n",
    "\n",
    "model = NeuralNetRegressor(\n",
    "    module=MatrixFactorizer,\n",
    "    max_epochs=150,\n",
    "    batch_size=8,\n",
    "    lr=0.001,\n",
    "    optimizer=optim.AdamW,\n",
    "    module__n=len(ann_to_id), \n",
    "    module__m=len(instance_to_row), \n",
    "    module__d=4\n",
    ")\n",
    "\n",
    "X = dataset[:,:-1].astype(np.int64)\n",
    "Y = dataset[:,1].astype(np.float32)"
   ]
  },
  {
   "cell_type": "code",
   "execution_count": null,
   "metadata": {},
   "outputs": [
    {
     "name": "stdout",
     "output_type": "stream",
     "text": [
      "      7   \u001b[36m177106.0370\u001b[0m   \u001b[32m182298.6601\u001b[0m  0.3023\n",
      "      8   \u001b[36m177064.9026\u001b[0m   \u001b[32m182297.2560\u001b[0m  0.5022\n",
      "      9   \u001b[36m177023.5851\u001b[0m   \u001b[32m182295.8267\u001b[0m  0.3690\n",
      "     10   \u001b[36m176982.0442\u001b[0m   \u001b[32m182294.3875\u001b[0m  0.3919\n",
      "     11   \u001b[36m176940.2358\u001b[0m   \u001b[32m182292.9326\u001b[0m  0.3201\n",
      "     12   \u001b[36m176898.1142\u001b[0m   \u001b[32m182291.4576\u001b[0m  0.2989\n",
      "     13   \u001b[36m176855.6321\u001b[0m   \u001b[32m182289.9695\u001b[0m  0.2833\n",
      "     14   \u001b[36m176812.7433\u001b[0m   \u001b[32m182288.4471\u001b[0m  0.3037\n",
      "     15   \u001b[36m176769.4006\u001b[0m   \u001b[32m182286.8814\u001b[0m  0.3050\n",
      "     16   \u001b[36m176725.5639\u001b[0m   \u001b[32m182285.2535\u001b[0m  0.4137\n",
      "     17   \u001b[36m176681.1888\u001b[0m   \u001b[32m182283.5504\u001b[0m  0.3705\n",
      "     18   \u001b[36m176636.2424\u001b[0m   \u001b[32m182281.7659\u001b[0m  0.3742\n",
      "     19   \u001b[36m176590.6818\u001b[0m   \u001b[32m182279.9186\u001b[0m  0.3748\n",
      "     20   \u001b[36m176544.4761\u001b[0m   \u001b[32m182278.0218\u001b[0m  0.3983\n",
      "  epoch    train_loss    valid_loss     dur\n",
      "-------  ------------  ------------  ------\n",
      "      1   \u001b[36m180360.0861\u001b[0m   \u001b[32m164453.2371\u001b[0m  0.3696\n",
      "      2   \u001b[36m180325.1537\u001b[0m   164455.0086  0.3695\n",
      "      3   \u001b[36m180284.4913\u001b[0m   164456.8600  0.3880\n",
      "      4   \u001b[36m180242.3930\u001b[0m   164458.7721  0.4465\n",
      "      5   \u001b[36m180199.6441\u001b[0m   164460.7356  0.3863\n",
      "      6   \u001b[36m180156.4729\u001b[0m   164462.7602  0.3498\n",
      "      7   \u001b[36m180112.9439\u001b[0m   164464.8524  0.3662\n",
      "      8   \u001b[36m180069.0562\u001b[0m   164467.0014  0.3996\n",
      "      9   \u001b[36m180024.7859\u001b[0m   164469.2169  0.4046\n",
      "     10   \u001b[36m179980.0918\u001b[0m   164471.4983  0.6233\n",
      "     11   \u001b[36m179934.9376\u001b[0m   164473.8397  0.4069\n",
      "     12   \u001b[36m179889.2830\u001b[0m   164476.2401  0.3714\n",
      "     13   \u001b[36m179843.0857\u001b[0m   164478.6814  0.3908\n",
      "     14   \u001b[36m179796.3069\u001b[0m   164481.1434  0.3432\n",
      "     15   \u001b[36m179748.9069\u001b[0m   164483.6010  0.3330\n",
      "     16   \u001b[36m179700.8421\u001b[0m   164486.0408  0.3330\n",
      "     17   \u001b[36m179652.0762\u001b[0m   164488.4413  0.3313\n",
      "     18   \u001b[36m179602.5720\u001b[0m   164490.7989  0.3293\n",
      "     19   \u001b[36m179552.2989\u001b[0m   164493.1234  0.3474\n",
      "     20   \u001b[36m179501.2246\u001b[0m   164495.4087  0.3218\n",
      "  epoch    train_loss    valid_loss     dur\n",
      "-------  ------------  ------------  ------\n",
      "      1   \u001b[36m177272.3198\u001b[0m   \u001b[32m164461.6634\u001b[0m  0.3496\n",
      "      2   \u001b[36m177237.3479\u001b[0m   \u001b[32m164460.7615\u001b[0m  0.3406\n",
      "      3   \u001b[36m177196.6730\u001b[0m   \u001b[32m164459.6847\u001b[0m  0.3333\n",
      "      4   \u001b[36m177154.5925\u001b[0m   \u001b[32m164458.5355\u001b[0m  0.3336\n",
      "      5   \u001b[36m177111.9101\u001b[0m   \u001b[32m164457.3353\u001b[0m  0.3509\n",
      "      6   \u001b[36m177068.8595\u001b[0m   \u001b[32m164456.0909\u001b[0m  0.3298\n",
      "      7   \u001b[36m177025.5080\u001b[0m   \u001b[32m164454.8274\u001b[0m  0.3274\n",
      "      8   \u001b[36m176981.8581\u001b[0m   \u001b[32m164453.5567\u001b[0m  0.3386\n",
      "      9   \u001b[36m176937.8863\u001b[0m   \u001b[32m164452.2956\u001b[0m  0.3309\n",
      "     10   \u001b[36m176893.5495\u001b[0m   \u001b[32m164451.0567\u001b[0m  0.3731\n",
      "     11   \u001b[36m176848.8050\u001b[0m   \u001b[32m164449.8316\u001b[0m  0.3617\n",
      "     12   \u001b[36m176803.6038\u001b[0m   \u001b[32m164448.6248\u001b[0m  0.3202\n",
      "     13   \u001b[36m176757.8963\u001b[0m   \u001b[32m164447.4303\u001b[0m  0.3186\n",
      "     14   \u001b[36m176711.6435\u001b[0m   \u001b[32m164446.2378\u001b[0m  0.3334\n",
      "     15   \u001b[36m176664.8085\u001b[0m   \u001b[32m164445.0377\u001b[0m  0.3464\n",
      "     16   \u001b[36m176617.3548\u001b[0m   \u001b[32m164443.8062\u001b[0m  0.3408\n",
      "     17   \u001b[36m176569.2488\u001b[0m   \u001b[32m164442.5316\u001b[0m  0.3483\n",
      "     18   \u001b[36m176520.4642\u001b[0m   \u001b[32m164441.2334\u001b[0m  0.3149\n",
      "     19   \u001b[36m176470.9688\u001b[0m   \u001b[32m164439.9154\u001b[0m  0.3154\n",
      "     20   \u001b[36m176420.7370\u001b[0m   \u001b[32m164438.5789\u001b[0m  0.3233\n",
      "  epoch    train_loss    valid_loss     dur\n",
      "-------  ------------  ------------  ------\n",
      "      1   \u001b[36m177270.7972\u001b[0m   \u001b[32m182313.5565\u001b[0m  0.3024\n",
      "      2   \u001b[36m177260.2179\u001b[0m   182314.2709  0.2943\n",
      "      3   \u001b[36m177247.8714\u001b[0m   182314.9469  0.3147\n",
      "      4   \u001b[36m177235.0642\u001b[0m   182315.6217  0.3330\n",
      "      5   \u001b[36m177222.0617\u001b[0m   182316.2965  0.3014\n",
      "      6   \u001b[36m177208.9536\u001b[0m   182316.9731  0.3104\n",
      "      7   \u001b[36m177195.7897\u001b[0m   182317.6543  0.3114\n",
      "      8   \u001b[36m177182.5885\u001b[0m   182318.3353  0.3117\n",
      "      9   \u001b[36m177169.3664\u001b[0m   182319.0214  0.3121\n",
      "     10   \u001b[36m177156.1326\u001b[0m   182319.7047  0.3261\n",
      "  epoch    train_loss    valid_loss     dur\n",
      "-------  ------------  ------------  ------\n",
      "      1   \u001b[36m180415.9650\u001b[0m   \u001b[32m164418.3141\u001b[0m  0.2961\n",
      "      2   \u001b[36m180405.4619\u001b[0m   \u001b[32m164418.0161\u001b[0m  0.3087\n",
      "      3   \u001b[36m180393.2810\u001b[0m   \u001b[32m164417.7402\u001b[0m  0.3128\n",
      "      4   \u001b[36m180380.6650\u001b[0m   \u001b[32m164417.4749\u001b[0m  0.3006\n",
      "      5   \u001b[36m180367.8655\u001b[0m   \u001b[32m164417.2103\u001b[0m  0.3185\n",
      "      6   \u001b[36m180354.9768\u001b[0m   \u001b[32m164416.9447\u001b[0m  0.3085\n",
      "      7   \u001b[36m180342.0440\u001b[0m   \u001b[32m164416.6775\u001b[0m  0.3038\n",
      "      8   \u001b[36m180329.0852\u001b[0m   \u001b[32m164416.4068\u001b[0m  0.3091\n",
      "      9   \u001b[36m180316.1171\u001b[0m   \u001b[32m164416.1247\u001b[0m  0.3070\n",
      "     10   \u001b[36m180303.1466\u001b[0m   \u001b[32m164415.8380\u001b[0m  0.3176\n",
      "  epoch    train_loss    valid_loss     dur\n",
      "-------  ------------  ------------  ------\n",
      "      1   \u001b[36m177368.2143\u001b[0m   \u001b[32m164527.8960\u001b[0m  0.3030\n",
      "      2   \u001b[36m177358.3144\u001b[0m   164528.3769  0.3028\n",
      "      3   \u001b[36m177346.6259\u001b[0m   164528.8819  0.3060\n",
      "      4   \u001b[36m177334.4706\u001b[0m   164529.3945  0.3076\n",
      "      5   \u001b[36m177322.1215\u001b[0m   164529.9180  0.3119\n",
      "      6   \u001b[36m177309.6740\u001b[0m   164530.4475  0.3057\n",
      "      7   \u001b[36m177297.1721\u001b[0m   164530.9845  0.3024\n",
      "      8   \u001b[36m177284.6403\u001b[0m   164531.5305  0.3064\n",
      "      9   \u001b[36m177272.0954\u001b[0m   164532.0796  0.3066\n",
      "     10   \u001b[36m177259.5432\u001b[0m   164532.6386  0.3034\n",
      "  epoch    train_loss    valid_loss     dur\n",
      "-------  ------------  ------------  ------\n",
      "      1   \u001b[36m177423.0638\u001b[0m   \u001b[32m182434.1976\u001b[0m  0.2953\n",
      "      2   \u001b[36m177136.5543\u001b[0m   \u001b[32m182431.2103\u001b[0m  0.2993\n",
      "      3   \u001b[36m176801.9772\u001b[0m   \u001b[32m182429.4590\u001b[0m  0.2941\n",
      "      4   \u001b[36m176409.1909\u001b[0m   \u001b[32m182425.2538\u001b[0m  0.3016\n",
      "      5   \u001b[36m175926.5429\u001b[0m   \u001b[32m182419.0479\u001b[0m  0.3065\n",
      "      6   \u001b[36m175328.8942\u001b[0m   \u001b[32m182410.7621\u001b[0m  0.2804\n",
      "      7   \u001b[36m174599.8390\u001b[0m   \u001b[32m182400.0523\u001b[0m  0.2946\n",
      "      8   \u001b[36m173732.2251\u001b[0m   \u001b[32m182387.2537\u001b[0m  0.2754\n",
      "      9   \u001b[36m172727.6567\u001b[0m   \u001b[32m182373.1814\u001b[0m  0.2779\n",
      "     10   \u001b[36m171594.9832\u001b[0m   \u001b[32m182358.9045\u001b[0m  0.2784\n",
      "     11   \u001b[36m170347.4497\u001b[0m   \u001b[32m182345.1016\u001b[0m  0.2936\n",
      "     12   \u001b[36m169000.2652\u001b[0m   \u001b[32m182332.0130\u001b[0m  0.2876\n",
      "     13   \u001b[36m167569.0395\u001b[0m   \u001b[32m182319.7385\u001b[0m  0.2746\n",
      "     14   \u001b[36m166068.8601\u001b[0m   \u001b[32m182308.3899\u001b[0m  0.2933\n",
      "     15   \u001b[36m164513.8809\u001b[0m   \u001b[32m182298.0727\u001b[0m  0.2783\n",
      "     16   \u001b[36m162917.0842\u001b[0m   \u001b[32m182288.9126\u001b[0m  0.2667\n",
      "     17   \u001b[36m161290.1361\u001b[0m   \u001b[32m182280.9525\u001b[0m  0.2618\n",
      "     18   \u001b[36m159643.2625\u001b[0m   \u001b[32m182274.2449\u001b[0m  0.2645\n",
      "     19   \u001b[36m157985.2386\u001b[0m   \u001b[32m182268.6615\u001b[0m  0.2664\n",
      "     20   \u001b[36m156323.4940\u001b[0m   \u001b[32m182263.9971\u001b[0m  0.2691\n",
      "  epoch    train_loss    valid_loss     dur\n",
      "-------  ------------  ------------  ------\n",
      "      1   \u001b[36m180364.9826\u001b[0m   \u001b[32m164390.2052\u001b[0m  0.2711\n",
      "      2   \u001b[36m180070.6747\u001b[0m   164390.2488  0.2707\n",
      "      3   \u001b[36m179716.6926\u001b[0m   \u001b[32m164387.7534\u001b[0m  0.2495\n",
      "      4   \u001b[36m179295.0677\u001b[0m   \u001b[32m164383.1696\u001b[0m  0.2490\n",
      "      5   \u001b[36m178773.8996\u001b[0m   \u001b[32m164376.2847\u001b[0m  0.2696\n",
      "      6   \u001b[36m178128.4316\u001b[0m   \u001b[32m164367.4556\u001b[0m  0.2639\n",
      "      7   \u001b[36m177344.0360\u001b[0m   \u001b[32m164356.9876\u001b[0m  0.2690\n",
      "      8   \u001b[36m176415.7635\u001b[0m   \u001b[32m164344.8484\u001b[0m  0.2517\n",
      "      9   \u001b[36m175346.9517\u001b[0m   \u001b[32m164331.5591\u001b[0m  0.2626\n",
      "     10   \u001b[36m174147.1571\u001b[0m   \u001b[32m164317.8609\u001b[0m  0.2507\n",
      "     11   \u001b[36m172830.0709\u001b[0m   \u001b[32m164304.4497\u001b[0m  0.2494\n",
      "     12   \u001b[36m171411.7247\u001b[0m   \u001b[32m164291.7710\u001b[0m  0.2503\n",
      "     13   \u001b[36m169908.9524\u001b[0m   \u001b[32m164279.9373\u001b[0m  0.2461\n",
      "     14   \u001b[36m168338.1274\u001b[0m   \u001b[32m164268.9511\u001b[0m  0.2545\n",
      "     15   \u001b[36m166714.3422\u001b[0m   \u001b[32m164258.7967\u001b[0m  0.2432\n",
      "     16   \u001b[36m165051.0118\u001b[0m   \u001b[32m164249.3921\u001b[0m  0.2437\n",
      "     17   \u001b[36m163359.8120\u001b[0m   \u001b[32m164240.6297\u001b[0m  0.2444\n",
      "     18   \u001b[36m161650.7618\u001b[0m   \u001b[32m164232.3960\u001b[0m  0.2549\n",
      "     19   \u001b[36m159932.3483\u001b[0m   \u001b[32m164224.6030\u001b[0m  0.2474\n",
      "     20   \u001b[36m158211.7040\u001b[0m   \u001b[32m164217.1807\u001b[0m  0.2440\n",
      "  epoch    train_loss    valid_loss     dur\n",
      "-------  ------------  ------------  ------\n",
      "      1   \u001b[36m177390.1673\u001b[0m   \u001b[32m164363.5795\u001b[0m  0.2501\n",
      "      2   \u001b[36m177091.6975\u001b[0m   164366.1920  0.2620\n",
      "      3   \u001b[36m176746.1185\u001b[0m   164365.0508  0.2561\n",
      "      4   \u001b[36m176343.0826\u001b[0m   \u001b[32m164361.0050\u001b[0m  0.2498\n",
      "      5   \u001b[36m175848.9873\u001b[0m   \u001b[32m164355.3001\u001b[0m  0.2454\n",
      "      6   \u001b[36m175236.5886\u001b[0m   \u001b[32m164347.8931\u001b[0m  0.2650\n",
      "      7   \u001b[36m174488.7939\u001b[0m   \u001b[32m164338.8648\u001b[0m  0.2354\n",
      "      8   \u001b[36m173598.6855\u001b[0m   \u001b[32m164328.6510\u001b[0m  0.2372\n",
      "      9   \u001b[36m172568.1493\u001b[0m   \u001b[32m164317.8864\u001b[0m  0.2399\n",
      "     10   \u001b[36m171406.1262\u001b[0m   \u001b[32m164306.9020\u001b[0m  0.2427\n",
      "     11   \u001b[36m170126.5896\u001b[0m   \u001b[32m164295.7325\u001b[0m  0.2382\n",
      "     12   \u001b[36m168746.2941\u001b[0m   \u001b[32m164284.3358\u001b[0m  0.2383\n",
      "     13   \u001b[36m167282.7615\u001b[0m   \u001b[32m164272.7749\u001b[0m  0.2476\n",
      "     14   \u001b[36m165752.7767\u001b[0m   \u001b[32m164261.1667\u001b[0m  0.2346\n",
      "     15   \u001b[36m164171.5726\u001b[0m   \u001b[32m164249.6650\u001b[0m  0.2330\n",
      "     16   \u001b[36m162552.6056\u001b[0m   \u001b[32m164238.4709\u001b[0m  0.2297\n",
      "     17   \u001b[36m160907.5770\u001b[0m   \u001b[32m164227.7569\u001b[0m  0.2252\n",
      "     18   \u001b[36m159246.5005\u001b[0m   \u001b[32m164217.6663\u001b[0m  0.2423\n",
      "     19   \u001b[36m157577.8265\u001b[0m   \u001b[32m164208.2112\u001b[0m  0.2449\n",
      "     20   \u001b[36m155908.6097\u001b[0m   \u001b[32m164199.3257\u001b[0m  0.2370\n",
      "  epoch    train_loss    valid_loss     dur\n",
      "-------  ------------  ------------  ------\n",
      "      1   \u001b[36m177307.8577\u001b[0m   \u001b[32m182249.8068\u001b[0m  0.2410\n",
      "      2   \u001b[36m177240.2372\u001b[0m   182252.5181  0.2339\n",
      "      3   \u001b[36m177162.2940\u001b[0m   182254.8944  0.2306\n",
      "      4   \u001b[36m177081.4940\u001b[0m   182256.8835  0.2266\n",
      "      5   \u001b[36m176998.6919\u001b[0m   182258.4935  0.2350\n",
      "      6   \u001b[36m176913.7524\u001b[0m   182259.8826  0.2343\n",
      "      7   \u001b[36m176826.2892\u001b[0m   182261.2477  0.2400\n",
      "      8   \u001b[36m176735.8792\u001b[0m   182262.7477  0.2300\n",
      "      9   \u001b[36m176642.1409\u001b[0m   182264.4348  0.2281\n",
      "     10   \u001b[36m176544.7225\u001b[0m   182266.2987  0.2353\n",
      "  epoch    train_loss    valid_loss     dur\n",
      "-------  ------------  ------------  ------\n",
      "      1   \u001b[36m180375.4026\u001b[0m   \u001b[32m164583.5803\u001b[0m  0.2272\n",
      "      2   \u001b[36m180305.8078\u001b[0m   \u001b[32m164581.5437\u001b[0m  0.2394\n",
      "      3   \u001b[36m180225.5190\u001b[0m   \u001b[32m164579.5538\u001b[0m  0.2355\n",
      "      4   \u001b[36m180142.1812\u001b[0m   \u001b[32m164577.6390\u001b[0m  0.2350\n",
      "      5   \u001b[36m180056.7494\u001b[0m   \u001b[32m164575.7500\u001b[0m  0.2370\n",
      "      6   \u001b[36m179969.1253\u001b[0m   \u001b[32m164573.8876\u001b[0m  0.2364\n",
      "      7   \u001b[36m179878.9439\u001b[0m   \u001b[32m164572.0942\u001b[0m  0.2304\n",
      "      8   \u001b[36m179785.7913\u001b[0m   \u001b[32m164570.4331\u001b[0m  0.2290\n",
      "      9   \u001b[36m179689.2557\u001b[0m   \u001b[32m164568.9244\u001b[0m  0.2326\n",
      "     10   \u001b[36m179588.9617\u001b[0m   \u001b[32m164567.5476\u001b[0m  0.2311\n",
      "  epoch    train_loss    valid_loss     dur\n",
      "-------  ------------  ------------  ------\n",
      "      1   \u001b[36m177339.0839\u001b[0m   \u001b[32m164658.0321\u001b[0m  0.2245\n",
      "      2   \u001b[36m177273.9599\u001b[0m   164659.8090  0.2391\n",
      "      3   \u001b[36m177198.2616\u001b[0m   164662.1519  0.2328\n",
      "      4   \u001b[36m177119.8163\u001b[0m   164665.0340  0.2330\n",
      "      5   \u001b[36m177039.6510\u001b[0m   164668.3679  0.2357\n",
      "      6   \u001b[36m176957.7555\u001b[0m   164672.0080  0.2253\n",
      "      7   \u001b[36m176873.8719\u001b[0m   164675.8687  0.2436\n",
      "      8   \u001b[36m176787.6530\u001b[0m   164679.9067  0.2657\n",
      "      9   \u001b[36m176698.7369\u001b[0m   164684.1114  0.2416\n",
      "     10   \u001b[36m176606.7644\u001b[0m   164688.4620  0.2350\n",
      "  epoch    train_loss    valid_loss     dur\n",
      "-------  ------------  ------------  ------\n",
      "      1   \u001b[36m177344.1976\u001b[0m   \u001b[32m182382.5955\u001b[0m  0.2440\n",
      "      2   \u001b[36m177333.5568\u001b[0m   182382.6547  0.2467\n",
      "      3   \u001b[36m177321.2710\u001b[0m   182382.6982  0.2433\n",
      "      4   \u001b[36m177308.5537\u001b[0m   182382.7362  0.2399\n",
      "      5   \u001b[36m177295.6538\u001b[0m   182382.7775  0.2792\n",
      "      6   \u001b[36m177282.6649\u001b[0m   182382.8266  0.2486\n",
      "      7   \u001b[36m177269.6223\u001b[0m   182382.8931  0.2618\n",
      "      8   \u001b[36m177256.5549\u001b[0m   182382.9775  0.2339\n",
      "      9   \u001b[36m177243.4710\u001b[0m   182383.0923  0.2552\n",
      "     10   \u001b[36m177230.3834\u001b[0m   182383.2211  0.2363\n",
      "     11   \u001b[36m177217.2909\u001b[0m   182383.3629  0.2332\n",
      "     12   \u001b[36m177204.1995\u001b[0m   182383.5097  0.2560\n",
      "     13   \u001b[36m177191.1121\u001b[0m   182383.6492  0.2579\n",
      "     14   \u001b[36m177178.0264\u001b[0m   182383.7839  0.2777\n",
      "     15   \u001b[36m177164.9434\u001b[0m   182383.9161  0.2579\n",
      "     16   \u001b[36m177151.8638\u001b[0m   182384.0465  0.2608\n",
      "     17   \u001b[36m177138.7865\u001b[0m   182384.1717  0.2416\n",
      "     18   \u001b[36m177125.7104\u001b[0m   182384.2955  0.2464\n",
      "     19   \u001b[36m177112.6336\u001b[0m   182384.4219  0.2479\n",
      "     20   \u001b[36m177099.5570\u001b[0m   182384.5425  0.2616\n",
      "  epoch    train_loss    valid_loss     dur\n",
      "-------  ------------  ------------  ------\n",
      "      1   \u001b[36m180373.7693\u001b[0m   \u001b[32m164403.2533\u001b[0m  0.2424\n",
      "      2   \u001b[36m180363.7340\u001b[0m   164403.3174  0.2473\n",
      "      3   \u001b[36m180351.9578\u001b[0m   164403.3351  0.2424\n",
      "      4   \u001b[36m180339.7352\u001b[0m   164403.3316  0.2471\n",
      "      5   \u001b[36m180327.3247\u001b[0m   164403.3119  0.2564\n",
      "      6   \u001b[36m180314.8195\u001b[0m   164403.2743  0.2504\n",
      "      7   \u001b[36m180302.2642\u001b[0m   \u001b[32m164403.2198\u001b[0m  0.2431\n",
      "      8   \u001b[36m180289.6796\u001b[0m   \u001b[32m164403.1515\u001b[0m  0.2481\n",
      "      9   \u001b[36m180277.0799\u001b[0m   \u001b[32m164403.0754\u001b[0m  0.2478\n",
      "     10   \u001b[36m180264.4701\u001b[0m   \u001b[32m164402.9841\u001b[0m  0.2446\n",
      "     11   \u001b[36m180251.8552\u001b[0m   \u001b[32m164402.8847\u001b[0m  0.2488\n",
      "     12   \u001b[36m180239.2386\u001b[0m   \u001b[32m164402.7720\u001b[0m  0.2650\n",
      "     13   \u001b[36m180226.6230\u001b[0m   \u001b[32m164402.6500\u001b[0m  0.2493\n",
      "     14   \u001b[36m180214.0049\u001b[0m   \u001b[32m164402.5153\u001b[0m  0.2501\n",
      "     15   \u001b[36m180201.3867\u001b[0m   \u001b[32m164402.3714\u001b[0m  0.2423\n",
      "     16   \u001b[36m180188.7677\u001b[0m   \u001b[32m164402.2115\u001b[0m  0.2591\n",
      "     17   \u001b[36m180176.1454\u001b[0m   \u001b[32m164402.0462\u001b[0m  0.2413\n",
      "     18   \u001b[36m180163.5206\u001b[0m   \u001b[32m164401.8681\u001b[0m  0.2528\n",
      "     19   \u001b[36m180150.8917\u001b[0m   \u001b[32m164401.6815\u001b[0m  0.2393\n",
      "     20   \u001b[36m180138.2550\u001b[0m   \u001b[32m164401.4924\u001b[0m  0.2486\n",
      "  epoch    train_loss    valid_loss     dur\n",
      "-------  ------------  ------------  ------\n",
      "      1   \u001b[36m177294.4920\u001b[0m   \u001b[32m164626.8745\u001b[0m  0.2467\n",
      "      2   \u001b[36m177284.6682\u001b[0m   164627.2777  0.2486\n",
      "      3   \u001b[36m177273.0688\u001b[0m   164627.7109  0.2481\n",
      "      4   \u001b[36m177260.9981\u001b[0m   164628.1612  0.2522\n",
      "      5   \u001b[36m177248.7217\u001b[0m   164628.6242  0.2463\n",
      "      6   \u001b[36m177236.3329\u001b[0m   164629.0970  0.2473\n",
      "      7   \u001b[36m177223.8748\u001b[0m   164629.5800  0.2580\n",
      "      8   \u001b[36m177211.3745\u001b[0m   164630.0672  0.2986\n",
      "      9   \u001b[36m177198.8414\u001b[0m   164630.5569  0.3134\n",
      "     10   \u001b[36m177186.2831\u001b[0m   164631.0417  0.2656\n",
      "     11   \u001b[36m177173.7105\u001b[0m   164631.5170  0.2733\n",
      "     12   \u001b[36m177161.1187\u001b[0m   164631.9899  0.2504\n",
      "     13   \u001b[36m177148.5138\u001b[0m   164632.4595  0.2392\n",
      "     14   \u001b[36m177135.8965\u001b[0m   164632.9289  0.2530\n",
      "     15   \u001b[36m177123.2661\u001b[0m   164633.4032  0.2503\n",
      "     16   \u001b[36m177110.6198\u001b[0m   164633.8899  0.2628\n",
      "     17   \u001b[36m177097.9637\u001b[0m   164634.3912  0.2520\n",
      "     18   \u001b[36m177085.2894\u001b[0m   164634.9020  0.2450\n",
      "     19   \u001b[36m177072.6013\u001b[0m   164635.4103  0.2554\n",
      "     20   \u001b[36m177059.8938\u001b[0m   164635.9222  0.2496\n",
      "  epoch    train_loss    valid_loss     dur\n",
      "-------  ------------  ------------  ------\n",
      "      1   \u001b[36m177336.1754\u001b[0m   \u001b[32m182345.1424\u001b[0m  0.2453\n",
      "      2   \u001b[36m177033.7556\u001b[0m   \u001b[32m182336.9499\u001b[0m  0.2550\n",
      "      3   \u001b[36m176678.9300\u001b[0m   \u001b[32m182330.7958\u001b[0m  0.2469\n",
      "      4   \u001b[36m176260.7129\u001b[0m   \u001b[32m182327.9342\u001b[0m  0.2486\n",
      "      5   \u001b[36m175744.5382\u001b[0m   \u001b[32m182327.6672\u001b[0m  0.2458\n",
      "      6   \u001b[36m175102.9286\u001b[0m   182328.4600  0.2481\n",
      "      7   \u001b[36m174319.5054\u001b[0m   182329.9230  0.2452\n",
      "      8   \u001b[36m173388.9205\u001b[0m   182331.8314  0.2436\n",
      "      9   \u001b[36m172315.7212\u001b[0m   182333.8847  0.2496\n",
      "     10   \u001b[36m171111.9781\u001b[0m   182336.1963  0.2473\n",
      "  epoch    train_loss    valid_loss     dur\n",
      "-------  ------------  ------------  ------\n",
      "      1   \u001b[36m180375.1194\u001b[0m   \u001b[32m164525.0524\u001b[0m  0.2555\n",
      "      2   \u001b[36m180088.5637\u001b[0m   164529.8553  0.2399\n",
      "      3   \u001b[36m179746.1511\u001b[0m   164533.2649  0.2458\n",
      "      4   \u001b[36m179340.1467\u001b[0m   164535.1029  0.2329\n",
      "      5   \u001b[36m178839.7792\u001b[0m   164536.8054  0.2309\n",
      "      6   \u001b[36m178220.3442\u001b[0m   164539.6183  0.2386\n",
      "      7   \u001b[36m177467.3467\u001b[0m   164543.4753  0.2411\n",
      "      8   \u001b[36m176576.9456\u001b[0m   164547.9011  0.2434\n",
      "      9   \u001b[36m175554.1674\u001b[0m   164552.4024  0.2429\n",
      "     10   \u001b[36m174409.8083\u001b[0m   164556.5358  0.2464\n",
      "  epoch    train_loss    valid_loss     dur\n",
      "-------  ------------  ------------  ------\n",
      "      1   \u001b[36m177347.6420\u001b[0m   \u001b[32m164535.8841\u001b[0m  0.2425\n",
      "      2   \u001b[36m177064.4389\u001b[0m   164537.3496  0.2391\n",
      "      3   \u001b[36m176724.7823\u001b[0m   164539.5104  0.2397\n",
      "      4   \u001b[36m176318.0069\u001b[0m   164541.6874  0.2358\n",
      "      5   \u001b[36m175812.4832\u001b[0m   164543.1360  0.2423\n",
      "      6   \u001b[36m175184.0895\u001b[0m   164544.0024  0.2318\n",
      "      7   \u001b[36m174419.8178\u001b[0m   164543.9930  0.2443\n",
      "      8   \u001b[36m173517.6613\u001b[0m   164542.8491  0.2340\n",
      "      9   \u001b[36m172484.3648\u001b[0m   164540.5513  0.2361\n",
      "     10   \u001b[36m171332.1993\u001b[0m   164537.1577  0.2466\n",
      "  epoch    train_loss    valid_loss     dur\n",
      "-------  ------------  ------------  ------\n",
      "      1   \u001b[36m177300.5863\u001b[0m   \u001b[32m174561.7504\u001b[0m  0.3627\n",
      "      2   \u001b[36m177098.7663\u001b[0m   174568.6878  0.3540\n",
      "      3   \u001b[36m176867.6829\u001b[0m   174576.5406  0.3830\n",
      "      4   \u001b[36m176613.5532\u001b[0m   174585.7981  0.3871\n",
      "      5   \u001b[36m176324.3165\u001b[0m   174596.7006  0.3886\n",
      "      6   \u001b[36m175989.1787\u001b[0m   174609.0376  0.3731\n",
      "      7   \u001b[36m175600.9788\u001b[0m   174622.1211  0.3862\n",
      "      8   \u001b[36m175156.1067\u001b[0m   174635.1762  0.3884\n",
      "      9   \u001b[36m174653.9766\u001b[0m   174647.6221  0.4156\n",
      "     10   \u001b[36m174096.2994\u001b[0m   174659.0309  0.3758\n",
      "     11   \u001b[36m173486.4886\u001b[0m   174669.2630  0.3857\n",
      "     12   \u001b[36m172829.0629\u001b[0m   174678.4525  0.3966\n",
      "     13   \u001b[36m172129.0869\u001b[0m   174686.7497  0.4063\n",
      "     14   \u001b[36m171391.6985\u001b[0m   174694.2430  0.3948\n",
      "     15   \u001b[36m170621.8410\u001b[0m   174700.9988  0.3903\n",
      "     16   \u001b[36m169824.1247\u001b[0m   174707.0573  0.4219\n",
      "     17   \u001b[36m169002.7731\u001b[0m   174712.4517  0.4365\n",
      "     18   \u001b[36m168161.6259\u001b[0m   174717.2173  0.4428\n",
      "     19   \u001b[36m167304.1299\u001b[0m   174721.4053  0.3982\n",
      "     20   \u001b[36m166433.3746\u001b[0m   174725.0649  0.3999\n",
      "     21   \u001b[36m165552.1312\u001b[0m   174728.2435  0.3769\n",
      "     22   \u001b[36m164662.8875\u001b[0m   174730.9912  0.3985\n",
      "     23   \u001b[36m163767.8717\u001b[0m   174733.3447  0.3948\n",
      "     24   \u001b[36m162869.0771\u001b[0m   174735.3354  0.3836\n",
      "     25   \u001b[36m161968.2780\u001b[0m   174736.9967  0.3807\n",
      "     26   \u001b[36m161067.0668\u001b[0m   174738.3670  0.3886\n",
      "     27   \u001b[36m160166.8707\u001b[0m   174739.4650  0.3699\n",
      "     28   \u001b[36m159268.9698\u001b[0m   174740.3171  0.3728\n",
      "     29   \u001b[36m158374.5059\u001b[0m   174740.9426  0.3722\n",
      "     30   \u001b[36m157484.4916\u001b[0m   174741.3646  0.3666\n"
     ]
    }
   ],
   "source": [
    "param_grid = {\n",
    "    'max_epochs': [10,20,30],\n",
    "    'lr': np.logspace(np.log(0.0001), np.log(0.01), 20, base=np.exp(1))\n",
    "}\n",
    "grid = RandomizedSearchCV(estimator=model, param_distributions=param_grid, cv=3, error_score='raise', n_iter=20)\n",
    "grid_result = grid.fit(X, Y)"
   ]
  },
  {
   "cell_type": "code",
   "execution_count": null,
   "metadata": {},
   "outputs": [],
   "source": [
    " np.logspace(np.log(0.00001), np.log(0.001), 20, base=np.exp(1))"
   ]
  },
  {
   "cell_type": "code",
   "execution_count": null,
   "metadata": {},
   "outputs": [],
   "source": [
    "list(grid_result.best_estimator_.module_.U.parameters())[0]"
   ]
  },
  {
   "cell_type": "code",
   "execution_count": 25,
   "metadata": {},
   "outputs": [
    {
     "data": {
      "text/plain": [
       "1649    2.0\n",
       "Name: label, dtype: float64"
      ]
     },
     "execution_count": 25,
     "metadata": {},
     "output_type": "execute_result"
    }
   ],
   "source": [
    "data[(data['instance_id'] == 20) & (data['dimension'] == 'Readability and newsworthiness:::The science news story should be published in the news')]['label']\n"
   ]
  },
  {
   "cell_type": "code",
   "execution_count": 33,
   "metadata": {},
   "outputs": [
    {
     "name": "stderr",
     "output_type": "stream",
     "text": [
      "/var/folders/2t/bns057gs0ss5_m20xzbdwvwmb9fq40/T/ipykernel_18666/3257283232.py:15: FutureWarning: Calling float on a single element Series is deprecated and will raise a TypeError in the future. Use float(ser.iloc[0]) instead\n",
      "  score = float(data[(data['instance_id'] == id_) & (data['dimension'] == 'Readability and newsworthiness:::The science news story should be published in the news')]['label'])\n"
     ]
    }
   ],
   "source": [
    "I = np.load('./Item.npy')\n",
    "# Save them and see if there are clusters in tensorboard\n",
    "# Set up a logs directory, so Tensorboard knows where to look for files.\n",
    "log_dir='./tensorboard/item_embeddings_rcv'\n",
    "if not os.path.exists(log_dir):\n",
    "    os.makedirs(log_dir)\n",
    "    \n",
    "# Make embeddings and labels\n",
    "embs = []\n",
    "labs = []\n",
    "for id_ in agg_vectors:\n",
    "    embs.append(np.array(I[id_]))\n",
    "    cat = labels_dict[id_]['category']\n",
    "    outlet = labels_dict[id_]['outlet']\n",
    "    field = labels_dict[id_]['field']\n",
    "    score = float(data[(data['instance_id'] == id_) & (data['dimension'] == 'Readability and newsworthiness:::The science news story should be published in the news')]['label'])\n",
    "    labs.append(f\"{id_}\\t{cat}\\t{outlet}\\t{field}\\t{score}\")\n",
    "# Save Labels separately on a line-by-line manner.\n",
    "with open(os.path.join(log_dir, 'metadata.tsv'), \"w\") as f:\n",
    "    f.write(\"ID\\tCategory\\tOutlet\\tField\\tScore\\n\")\n",
    "    f.write(\"\\n\".join(labs))\n",
    "    \n",
    "# center and normalize the vectors: we make everything symmetric and have magnitude 1, so \n",
    "# we can look at cosine similarity\n",
    "embs = np.array(embs)\n",
    "# embs -= embs.mean(0, keepdims=True)\n",
    "# embs = embs / np.linalg.norm(embs, axis=1, keepdims=True)\n",
    "\n",
    "# Save the weights we want to analyze as a variable. Note that the first\n",
    "# value represents any unknown word, which is not in the metadata, here\n",
    "# we will remove this value.\n",
    "weights = tf.Variable(np.array(embs))\n",
    "# Create a checkpoint from embedding, the filename and key are the\n",
    "# name of the tensor.\n",
    "checkpoint = tf.train.Checkpoint(embedding=weights)\n",
    "checkpoint.save(os.path.join(log_dir, \"embedding.ckpt\"))\n",
    "\n",
    "# Set up config.\n",
    "config = projector.ProjectorConfig()\n",
    "embedding = config.embeddings.add()\n",
    "# The name of the tensor will be suffixed by `/.ATTRIBUTES/VARIABLE_VALUE`.\n",
    "embedding.tensor_name = \"embedding/.ATTRIBUTES/VARIABLE_VALUE\"\n",
    "embedding.metadata_path = 'metadata.tsv'\n",
    "projector.visualize_embeddings(log_dir, config)"
   ]
  },
  {
   "cell_type": "code",
   "execution_count": 66,
   "metadata": {},
   "outputs": [],
   "source": [
    "user_score_dict = defaultdict(list)\n",
    "for i,row in data[data['dimension'] == 'Readability and newsworthiness:::The science news story should be published in the news'].iterrows():\n",
    "    for user,score in zip(row['users'], row['scores']):\n",
    "        user_score_dict[user].append(score)\n",
    "    "
   ]
  },
  {
   "cell_type": "code",
   "execution_count": 72,
   "metadata": {},
   "outputs": [],
   "source": [
    "U = np.load('./User_overfit.npy')\n",
    "# Save them and see if there are clusters in tensorboard\n",
    "# Set up a logs directory, so Tensorboard knows where to look for files.\n",
    "id_to_user = {v:k for k,v in ann_to_id.items()}\n",
    "log_dir='./tensorboard/user_embeddings'\n",
    "if not os.path.exists(log_dir):\n",
    "    os.makedirs(log_dir)\n",
    "    \n",
    "# Make embeddings and labels\n",
    "labs = []\n",
    "for i in range(U.shape[0]):\n",
    "    gender = user_dict[id_to_user[i]]['What is your gender?']\n",
    "    age = user_dict[id_to_user[i]]['What is your age?']\n",
    "    score = np.array(user_score_dict[id_to_user[i]]).mean().round()\n",
    "    labs.append(f\"{i}\\t{gender}\\t{age}\\t{score}\")\n",
    "# Save Labels separately on a line-by-line manner.\n",
    "with open(os.path.join(log_dir, 'metadata.tsv'), \"w\") as f:\n",
    "    f.write(\"ID\\tGender\\tAge\\tAverage Score\\n\")\n",
    "    f.write(\"\\n\".join(labs))\n",
    "    \n",
    "# center and normalize the vectors: we make everything symmetric and have magnitude 1, so \n",
    "# we can look at cosine similarity\n",
    "embs = U#np.array(embs)\n",
    "# embs -= embs.mean(0, keepdims=True)\n",
    "# embs = embs / np.linalg.norm(embs, axis=1, keepdims=True)\n",
    "\n",
    "# Save the weights we want to analyze as a variable. Note that the first\n",
    "# value represents any unknown word, which is not in the metadata, here\n",
    "# we will remove this value.\n",
    "weights = tf.Variable(np.array(embs))\n",
    "# Create a checkpoint from embedding, the filename and key are the\n",
    "# name of the tensor.\n",
    "checkpoint = tf.train.Checkpoint(embedding=weights)\n",
    "checkpoint.save(os.path.join(log_dir, \"embedding.ckpt\"))\n",
    "\n",
    "# Set up config.\n",
    "config = projector.ProjectorConfig()\n",
    "embedding = config.embeddings.add()\n",
    "# The name of the tensor will be suffixed by `/.ATTRIBUTES/VARIABLE_VALUE`.\n",
    "embedding.tensor_name = \"embedding/.ATTRIBUTES/VARIABLE_VALUE\"\n",
    "embedding.metadata_path = 'metadata.tsv'\n",
    "projector.visualize_embeddings(log_dir, config)"
   ]
  },
  {
   "cell_type": "code",
   "execution_count": 65,
   "metadata": {},
   "outputs": [
    {
     "data": {
      "text/plain": [
       "Index(['instance_id', 'scores', 'users', 'scores_num', 'label', 'dimension',\n",
       "       'doi', 'url', 'Mention title', 'category', 'outlet', 'coverage_type',\n",
       "       'statement', 'FleschReadingEase', 'big_field', 'statement_full'],\n",
       "      dtype='object')"
      ]
     },
     "execution_count": 65,
     "metadata": {},
     "output_type": "execute_result"
    }
   ],
   "source": [
    "data.columns"
   ]
  },
  {
   "cell_type": "code",
   "execution_count": null,
   "metadata": {},
   "outputs": [],
   "source": [
    "# Get user gender for each for\n",
    "gender = [user_dict[key[1]]['What is your gender?'] for key in score_vector_set]\n",
    "\n",
    "# Get user age\n",
    "age = [user_dict[key[1]]['What is your age?'] for key in score_vector_set]"
   ]
  },
  {
   "cell_type": "code",
   "execution_count": null,
   "metadata": {},
   "outputs": [],
   "source": [
    "ann_to_id"
   ]
  },
  {
   "cell_type": "code",
   "execution_count": 40,
   "metadata": {},
   "outputs": [],
   "source": [
    "from sklearn.metrics.pairwise import euclidean_distances\n",
    "\n",
    "dists = euclidean_distances(I, I)"
   ]
  },
  {
   "cell_type": "code",
   "execution_count": 42,
   "metadata": {},
   "outputs": [],
   "source": [
    "mask = np.ones(dists.shape, dtype=bool)\n",
    "np.fill_diagonal(mask, 0)"
   ]
  },
  {
   "cell_type": "code",
   "execution_count": 45,
   "metadata": {},
   "outputs": [
    {
     "data": {
      "text/plain": [
       "0.9633764"
      ]
     },
     "execution_count": 45,
     "metadata": {},
     "output_type": "execute_result"
    }
   ],
   "source": [
    "dists[mask].min()"
   ]
  },
  {
   "cell_type": "code",
   "execution_count": 46,
   "metadata": {},
   "outputs": [],
   "source": [
    "Ioverfit = np.load('./Item_overfit.npy')"
   ]
  },
  {
   "cell_type": "code",
   "execution_count": 47,
   "metadata": {},
   "outputs": [],
   "source": [
    "overfit_dists = euclidean_distances(Ioverfit, Ioverfit)"
   ]
  },
  {
   "cell_type": "code",
   "execution_count": 48,
   "metadata": {},
   "outputs": [
    {
     "data": {
      "text/plain": [
       "0.061591487"
      ]
     },
     "execution_count": 48,
     "metadata": {},
     "output_type": "execute_result"
    }
   ],
   "source": [
    "overfit_dists[mask].min()"
   ]
  },
  {
   "cell_type": "code",
   "execution_count": 49,
   "metadata": {},
   "outputs": [
    {
     "data": {
      "text/plain": [
       "array([[ 0.        ,  0.12364747, 21.362642  , ..., 19.873852  ,\n",
       "        18.575727  , 18.780546  ],\n",
       "       [ 0.12364747,  0.        , 21.35857   , ..., 19.83441   ,\n",
       "        18.599684  , 18.752375  ],\n",
       "       [21.362642  , 21.35857   ,  0.        , ..., 27.320564  ,\n",
       "        29.350323  , 32.36317   ],\n",
       "       ...,\n",
       "       [19.873852  , 19.83441   , 27.320564  , ...,  0.        ,\n",
       "        32.948593  , 25.803368  ],\n",
       "       [18.575727  , 18.599684  , 29.350323  , ..., 32.948593  ,\n",
       "         0.        , 24.297575  ],\n",
       "       [18.780546  , 18.752375  , 32.36317   , ..., 25.803368  ,\n",
       "        24.297575  ,  0.        ]], dtype=float32)"
      ]
     },
     "execution_count": 49,
     "metadata": {},
     "output_type": "execute_result"
    }
   ],
   "source": [
    "overfit_dists"
   ]
  },
  {
   "cell_type": "code",
   "execution_count": 50,
   "metadata": {},
   "outputs": [
    {
     "data": {
      "text/plain": [
       "array([[ 0.       ,  1.934025 , 12.929266 , ..., 14.045841 , 13.422909 ,\n",
       "        12.856213 ],\n",
       "       [ 1.934025 ,  0.       , 13.079902 , ..., 14.422361 , 13.407388 ,\n",
       "        12.294878 ],\n",
       "       [12.929266 , 13.079902 ,  0.       , ..., 23.146729 , 13.4432535,\n",
       "        19.212042 ],\n",
       "       ...,\n",
       "       [14.045841 , 14.422361 , 23.146729 , ...,  0.       , 23.307251 ,\n",
       "        21.756573 ],\n",
       "       [13.422909 , 13.407388 , 13.4432535, ..., 23.307251 ,  0.       ,\n",
       "        16.850729 ],\n",
       "       [12.856213 , 12.294878 , 19.212042 , ..., 21.756573 , 16.850729 ,\n",
       "         0.       ]], dtype=float32)"
      ]
     },
     "execution_count": 50,
     "metadata": {},
     "output_type": "execute_result"
    }
   ],
   "source": [
    "dists"
   ]
  },
  {
   "cell_type": "code",
   "execution_count": 57,
   "metadata": {},
   "outputs": [
    {
     "data": {
      "text/plain": [
       "<matplotlib.collections.PathCollection at 0x7ffb79d7ce50>"
      ]
     },
     "execution_count": 57,
     "metadata": {},
     "output_type": "execute_result"
    },
    {
     "data": {
      "image/png": "[encoded data removed]",
      "text/plain": [
       "<Figure size 640x480 with 1 Axes>"
      ]
     },
     "metadata": {},
     "output_type": "display_data"
    }
   ],
   "source": [
    "from sklearn.decomposition import PCA\n",
    "from sklearn.cluster import KMeans\n",
    "\n",
    "pca = PCA(n_components=2)\n",
    "test_vecs = pca.fit_transform(I)\n",
    "plt.scatter(test_vecs[:,0], test_vecs[:,1], s=1)"
   ]
  },
  {
   "cell_type": "code",
   "execution_count": 58,
   "metadata": {},
   "outputs": [
    {
     "data": {
      "text/plain": [
       "<Axes: >"
      ]
     },
     "execution_count": 58,
     "metadata": {},
     "output_type": "execute_result"
    },
    {
     "data": {
      "image/png": "[encoded data removed]",
      "text/plain": [
       "<Figure size 1000x1000 with 1 Axes>"
      ]
     },
     "metadata": {},
     "output_type": "display_data"
    }
   ],
   "source": [
    "kmeans = KMeans(n_clusters=2, random_state=0, n_init=\"auto\").fit(I)\n",
    "plt.figure(figsize=(10,10))\n",
    "sns.scatterplot(x=test_vecs[:,0], y=test_vecs[:,1], s=15, hue=kmeans.labels_)"
   ]
  },
  {
   "cell_type": "code",
   "execution_count": 59,
   "metadata": {},
   "outputs": [
    {
     "name": "stderr",
     "output_type": "stream",
     "text": [
      "/var/folders/2t/bns057gs0ss5_m20xzbdwvwmb9fq40/T/ipykernel_18666/339131334.py:5: FutureWarning: Calling float on a single element Series is deprecated and will raise a TypeError in the future. Use float(ser.iloc[0]) instead\n",
      "  score = float(data[(data['instance_id'] == id_) & (data['dimension'] == 'Readability and newsworthiness:::The science news story should be published in the news')]['label'])\n"
     ]
    }
   ],
   "source": [
    "embs = []\n",
    "scores = []\n",
    "for id_ in agg_vectors:\n",
    "    embs.append(np.array(I[id_]))\n",
    "    score = float(data[(data['instance_id'] == id_) & (data['dimension'] == 'Readability and newsworthiness:::The science news story should be published in the news')]['label'])\n",
    "    scores.append(score)"
   ]
  },
  {
   "cell_type": "code",
   "execution_count": 61,
   "metadata": {},
   "outputs": [],
   "source": [
    "# TODO: load the actual articles and extract topics from them to see if there are any commonalities between the items"
   ]
  },
  {
   "cell_type": "code",
   "execution_count": null,
   "metadata": {},
   "outputs": [],
   "source": []
  }
 ],
 "metadata": {
  "kernelspec": {
   "display_name": "science-news-values",
   "language": "python",
   "name": "science-news-values"
  },
  "language_info": {
   "codemirror_mode": {
    "name": "ipython",
    "version": 3
   },
   "file_extension": ".py",
   "mimetype": "text/x-python",
   "name": "python",
   "nbconvert_exporter": "python",
   "pygments_lexer": "ipython3",
   "version": "3.9.18"
  }
 },
 "nbformat": 4,
 "nbformat_minor": 4
}
