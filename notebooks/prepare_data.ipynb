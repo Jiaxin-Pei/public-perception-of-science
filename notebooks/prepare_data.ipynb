{
 "cells": [
  {
   "cell_type": "code",
   "execution_count": 1,
   "id": "c972a2f9",
   "metadata": {},
   "outputs": [
    {
     "name": "stderr",
     "output_type": "stream",
     "text": [
      "<frozen importlib._bootstrap>:219: RuntimeWarning: scipy._lib.messagestream.MessageStream size changed, may indicate binary incompatibility. Expected 56 from C header, got 64 from PyObject\n"
     ]
    }
   ],
   "source": [
    "import pandas as pd\n",
    "from collections import defaultdict\n",
    "from tqdm import tqdm\n",
    "import json\n",
    "#import seaborn as sns\n",
    "import numpy as np\n",
    "import os\n",
    "import re\n",
    "import Levenshtein as lev\n",
    "import seaborn as sns\n",
    "#import cld2"
   ]
  },
  {
   "cell_type": "code",
   "execution_count": 75,
   "id": "2893c863",
   "metadata": {},
   "outputs": [],
   "source": [
    "df[['outlet','category']].drop_duplicates('outlet').to_csv('outlet_mapping.csv',index=False)"
   ]
  },
  {
   "cell_type": "code",
   "execution_count": 2,
   "id": "d7d9d00f",
   "metadata": {},
   "outputs": [],
   "source": [
    "df = pd.read_csv('/shared/2/projects/jiaxin/media_ethnicity/data/reg_data_single_full.csv')"
   ]
  },
  {
   "cell_type": "code",
   "execution_count": 3,
   "id": "15500c5c",
   "metadata": {},
   "outputs": [
    {
     "name": "stderr",
     "output_type": "stream",
     "text": [
      "4202497it [00:50, 82530.11it/s]\n"
     ]
    }
   ],
   "source": [
    "data_path = '/shared/0/projects/news-quotes/news_mentions.json'\n",
    "m_lines = []\n",
    "mention_dict = defaultdict(list)\n",
    "url2title = {}\n",
    "with open(data_path,'r') as f:\n",
    "    for ln, line in tqdm(enumerate(f)):\n",
    "        #if ln>=100000:\n",
    "        #    break\n",
    "        line = json.loads(line.strip('\\n'))\n",
    "        #tsd, td, tsu = extract(line['Mention URL']) # prints abc, hostname, com\n",
    "        #domain = td + '.' + tsu # will prints as hostname.com\n",
    "        #line['domain'] = domain\n",
    "        for k in line:\n",
    "            mention_dict[k].append(line[k])\n",
    "        m_lines.append(line)\n",
    "        url2title[line['Mention URL']] = line['Mention Title']\n",
    "mention_df = pd.DataFrame(mention_dict)"
   ]
  },
  {
   "cell_type": "code",
   "execution_count": 4,
   "id": "914e1dcd",
   "metadata": {},
   "outputs": [
    {
     "name": "stderr",
     "output_type": "stream",
     "text": [
      "536302it [00:37, 14158.23it/s]"
     ]
    },
    {
     "name": "stdout",
     "output_type": "stream",
     "text": [
      "496286\n"
     ]
    },
    {
     "name": "stderr",
     "output_type": "stream",
     "text": [
      "\n"
     ]
    }
   ],
   "source": [
    "urls_text = {}\n",
    "meta_dict = {}\n",
    "# use stories with more than 100 words.\n",
    "with open('/shared/0/projects/news-quotes/crawl_news/url_text.json', 'r') as ofile:\n",
    "    for row in tqdm(ofile):\n",
    "        row = json.loads(row)\n",
    "        url, text = row['url'], row['text']\n",
    "        meta_dict[url] = row\n",
    "        leng = len(text.split(' '))\n",
    "        if leng > 100 and leng <= 1392:\n",
    "            urls_text[url] = text\n",
    "print(len(urls_text))"
   ]
  },
  {
   "cell_type": "code",
   "execution_count": 5,
   "id": "f935e2ad",
   "metadata": {},
   "outputs": [],
   "source": [
    "cat2sub = {\n",
    "    \"Biology\": [\"Biological Sciences\",\"biological sciences\", \"Life Sciences\", \"Biochemistry And Cell Biology\", \"Genetics\", \"Immunology\", \"Medical Physiology\", \"Environmental Sciences\", \"Ecology\", \"Zoology\", \"Animal Production\", \"Medical Microbiology\", \"Neurosciences\", \"Oncology And Carcinogenesis\", \"Paediatrics And Reproductive Medicine\", \"Nutrition and Dietetics\"],\n",
    "    \"Physics\": [\"Astronomical And Space Sciences\", \"Physical Sciences\", \"Earth Sciences\", \"Geology\", \"Geochemistry\", \"Oceanography\", \"Atmospheric Sciences\", \"Physical Geography and Environmental Geoscience\", \"Astronomy and Space Sciences\", \"Optical Physics\", \"Other Physical Sciences\"],\n",
    "    \"Chemistry\": [\"Chemical Sciences\", \"Analytical Chemistry\", \"Inorganic Chemistry\", \"Organic Chemistry\", \"Medicinal and Biomolecular Chemistry\", \"Macromolecular and Materials Chemistry\", \"Other Chemical Sciences\"],\n",
    "    #\"Mathematics\": [\"Mathematical Sciences\", \"Applied Mathematics\", \"Statistics\"],\n",
    "    \"Engineering\": [\"Engineering\", \"Interdisciplinary Engineering\", \"Mechanical Engineering\", \"Electrical and Electronic Engineering\", \"Biomedical Engineering\", \"Materials Engineering\", \"Information And Computing Sciences\", \"Artificial Intelligence and Image Processing\"],\n",
    "    \"Social Science\": [\"Sociology\", \"Studies in Human Society\", \"Anthropology\", \"Archaeology\", \"Political Science\", \"Policy and Administration\", \"Demography\", \"Psychology\", \"Psychology and Cognitive Sciences\", \"Applied Economics\"],\n",
    "    \"Humanities\": [\"Education\", \"Specialist Studies in Education\", \"Curriculum and Pedagogy\", \"Marketing\", \"Business and Management\", \"Banking, Finance and Investment\", \"Commerce, Management, Tourism and Services\", \"Law\", \"Dentistry\", \"Environmental Science and Management\", \"Environmental Engineering\", \"History and Philosophy of Specific Fields\", \"Art History\", \"Applied Ethics\", \"Cultural Studies\", \"Philosophy\", \"History\"],\n",
    "    #\"Computer Science\": [],\n",
    "    \"Medical\": [\"Nursing\", \"Complementary And Alternative Medicine\", \"medical and health sciences\", \"Medical And Health Sciences\", \"Medical And Health Sciences\", \"cardiovascular medicine and haematology\",\"public health and health services\", \"Clinical Sciences\", \"Public Health and Health Services\", \"Ophthalmology and Optometry\", \"Dental Sciences\", \"Veterinary Sciences\", \"Human Movement and Sports Science\", \"Microbiology\", \"Medical Biochemistry and Metabolomics\", \"Medicinal and Biomolecular Chemistry\", \"Other Medical and Health Sciences\"],\n",
    "}\n",
    "category_mapping = {}\n",
    "for big_category, subcategories in cat2sub.items():\n",
    "    for subcategory in subcategories:\n",
    "        category_mapping[subcategory.lower()] = big_category"
   ]
  },
  {
   "cell_type": "code",
   "execution_count": 6,
   "id": "b00faf80",
   "metadata": {},
   "outputs": [],
   "source": [
    "df['Mention title'] = [url2title[it] if it in url2title else None for it in df['url']]\n",
    "df['raw_text'] = [urls_text[it] if it in urls_text else None for it in df['url']]"
   ]
  },
  {
   "cell_type": "code",
   "execution_count": 7,
   "id": "aef10ae4",
   "metadata": {},
   "outputs": [
    {
     "data": {
      "text/plain": [
       "doi\n",
       "10.1001/2012.jama.11374          1\n",
       "10.1088/0004-637x/712/2/763      1\n",
       "10.1088/0004-637x/716/2/1381     1\n",
       "10.1088/0004-637x/719/1/763      1\n",
       "10.1088/0004-637x/729/2/142      1\n",
       "                                ..\n",
       "10.4103/jfmpc.jfmpc_109_18      59\n",
       "10.1126/science.1260352         64\n",
       "10.1073/pnas.1320040111         75\n",
       "10.1002/lary.25346              80\n",
       "10.1056/nejmsa1803972           99\n",
       "Name: has_indirect_mention, Length: 59041, dtype: int64"
      ]
     },
     "execution_count": 7,
     "metadata": {},
     "output_type": "execute_result"
    }
   ],
   "source": [
    "df.groupby('doi').count()['has_indirect_mention'].sort_values()"
   ]
  },
  {
   "cell_type": "code",
   "execution_count": 8,
   "id": "55963cdf",
   "metadata": {},
   "outputs": [
    {
     "data": {
      "text/plain": [
       "<Axes: >"
      ]
     },
     "execution_count": 8,
     "metadata": {},
     "output_type": "execute_result"
    },
    {
     "data": {
      "image/png": "[encoded data removed]",
      "text/plain": [
       "<Figure size 432x288 with 1 Axes>"
      ]
     },
     "metadata": {
      "needs_background": "light"
     },
     "output_type": "display_data"
    }
   ],
   "source": [
    "df.groupby('doi').count()['has_indirect_mention'].hist(bins=30)"
   ]
  },
  {
   "cell_type": "code",
   "execution_count": 154,
   "id": "96e4a493",
   "metadata": {},
   "outputs": [
    {
     "data": {
      "text/plain": [
       "2.0"
      ]
     },
     "execution_count": 154,
     "metadata": {},
     "output_type": "execute_result"
    }
   ],
   "source": [
    "np.percentile(df.groupby('doi').count()['has_indirect_mention'], 75)"
   ]
  },
  {
   "cell_type": "code",
   "execution_count": 9,
   "id": "24523148",
   "metadata": {},
   "outputs": [],
   "source": [
    "unique_df = df#.drop_duplicates('Mention title')\n",
    "unique_df = unique_df[~unique_df['raw_text'].isna()]\n",
    "unique_df = unique_df[~unique_df['Mention title'].isna()]\n",
    "unique_df = unique_df[unique_df['outlet']!='MSN']"
   ]
  },
  {
   "cell_type": "code",
   "execution_count": 11,
   "id": "432d30ad",
   "metadata": {},
   "outputs": [
    {
     "name": "stderr",
     "output_type": "stream",
     "text": [
      "100%|██████████| 125685/125685 [09:31<00:00, 220.00it/s]\n"
     ]
    }
   ],
   "source": [
    "unique_df['cleaned_text'] = [clean_text(it) for it in tqdm(unique_df['raw_text'])]"
   ]
  },
  {
   "cell_type": "code",
   "execution_count": 12,
   "id": "4b7b4b53",
   "metadata": {},
   "outputs": [
    {
     "name": "stderr",
     "output_type": "stream",
     "text": [
      "125685it [30:49, 67.96it/s] \n"
     ]
    }
   ],
   "source": [
    "unique_df = distance_to_pr(unique_df, 'cleaned_text')"
   ]
  },
  {
   "cell_type": "code",
   "execution_count": 1073,
   "id": "4d43b18b",
   "metadata": {},
   "outputs": [
    {
     "data": {
      "text/plain": [
       "<Axes: xlabel='distance_to_pr', ylabel='Count'>"
      ]
     },
     "execution_count": 1073,
     "metadata": {},
     "output_type": "execute_result"
    },
    {
     "data": {
      "image/png": "[encoded data removed]",
      "text/plain": [
       "<Figure size 432x288 with 1 Axes>"
      ]
     },
     "metadata": {
      "needs_background": "light"
     },
     "output_type": "display_data"
    }
   ],
   "source": [
    "sns.histplot(unique_df[unique_df.category!='PressRelease'].distance_to_pr, binwidth=50)"
   ]
  },
  {
   "cell_type": "code",
   "execution_count": 22,
   "id": "64523483",
   "metadata": {},
   "outputs": [],
   "source": [
    "unique_df['coverage_cnt'] = unique_df.groupby('doi').transform('count')['has_indirect_mention']"
   ]
  },
  {
   "cell_type": "code",
   "execution_count": 12,
   "id": "d14726bc",
   "metadata": {},
   "outputs": [
    {
     "data": {
      "text/plain": [
       "outlet\n",
       "Science Daily                 15570\n",
       "Technology.org                 7082\n",
       "Health Medicinet               5418\n",
       "Newswise                       4980\n",
       "Futurity                       3514\n",
       "Nanowerk                       3042\n",
       "Physician's Briefing           1120\n",
       "7th Space Family Portal         781\n",
       "PR Newswire                     668\n",
       "Environmental News Network      642\n",
       "MIT News                        381\n",
       "AJMC                            297\n",
       "Emaxhealth.com                  244\n",
       "Cornell Chronicle               186\n",
       "PR Web                          182\n",
       "Bio-Medicine.org                157\n",
       "Relief Web                       99\n",
       "Name: count, dtype: int64"
      ]
     },
     "execution_count": 12,
     "metadata": {},
     "output_type": "execute_result"
    }
   ],
   "source": [
    "unique_df[unique_df['category'] == 'PressRelease']['outlet'].value_counts()"
   ]
  },
  {
   "cell_type": "code",
   "execution_count": 13,
   "id": "18c6fdcf",
   "metadata": {},
   "outputs": [],
   "source": [
    "domain_classification = {\"Medicine\": \"Medicine\",'Engineering':'Engineering', \"Law\": \"Others\", \"Condensed_matter_physics\": \"Science\", \"Biomedical_engineering\": \"Engineering\", \"Hydrology\": \"Science\", \"Atomic_physics\": \"Science\", \"Development_economics\": \"Social Science\", \"Optics\": \"Science\", \"Public_policy\": \"Social Science\", \"Lung_cancer\": \"Medicine\", \"Electronic_engineering\": \"Engineering\", \"Artificial_intelligence\": \"Engineering\", \"Machine_learning\": \"Engineering\", \"Gender_studies\": \"Social Science\", \"Chemical_engineering\": \"Engineering\", \"Biophysics\": \"Science\", \"Analytical_chemistry\": \"Science\", \"Computer_science\": \"Engineering\", \"Radiology\": \"Medicine\", \"Urology\": \"Medicine\", \"Architecture\": \"Engineering\", \"Quantum_mechanics\": \"Science\", \"Particle_physics\": \"Science\", \"Materials_science\": \"Science\", \"Computational_biology\": \"Science\", \"Agronomy\": \"Science\", \"Environmental_resource_management\": \"Science\", \"Molecular_biology\": \"Science\", \"Dermatology\": \"Medicine\", \"Surgery\": \"Medicine\", \"Public_health\": \"Medicine\", \"Molecular_physics\": \"Science\", \"Bioinformatics\": \"Science\", \"Physics\": \"Science\", \"Cognitive_psychology\": \"Social Science\", \"Oncology\": \"Medicine\", \"Pathology\": \"Medicine\", \"Biochemistry\": \"Science\", \"Social_science\": \"Social Science\", \"Climatology\": \"Science\", \"Pharmacology\": \"Medicine\", \"Agriculture\": \"Science\", \"Neuroscience\": \"Medicine\", \"Fishery\": \"Science\", \"Virology\": \"Science\", \"Microbiology\": \"Science\", \"Communication\": \"Social Science\", \"Endocrinology\": \"Medicine\", \"Epigenetics\": \"Medicine\", \"Marketing\": \"Social Science\", \"Global_health\": \"Medicine\", \"Agroforestry\": \"Science\", \"Chemistry\": \"Science\", \"Mathematics\": \"Science\", \"Gynecology\": \"Medicine\", \"Gerontology\": \"Medicine\", \"Meteorology\": \"Science\", \"Veterinary_medicine\": \"Medicine\", \"Government\": \"Social Science\", \"Dentistry\": \"Medicine\", \"Microeconomics\": \"Social Science\", \"Sociology\": \"Social Science\", \"Emergency_medicine\": \"Medicine\", \"Pediatrics\": \"Medicine\", \"Advertising\": \"Social Science\", \"Oceanography\": \"Science\", \"Developmental_psychology\": \"Social Science\", \"Internal_medicine\": \"Medicine\", \"Cardiology\": \"Medicine\", \"Environmental_engineering\": \"Engineering\", \"General_surgery\": \"Medicine\", \"Environmental_science\": \"Science\", \"Geophysics\": \"Science\", \"Immunology\": \"Medicine\", \"Clinical_psychology\": \"Social Science\", \"Toxicology\": \"Medicine\", \"Ecology\": \"Science\", \"Biology\": \"Science\", \"Epidemiology\": \"Medicine\", \"Physical_therapy\": \"Medicine\", \"Physiology\": \"Science\", \"Statistics\": \"Science\", \"Psychopathology\": \"Science\", \"Animal_science\": \"Science\", \"Nursing\": \"Medicine\", \"Seismology\": \"Science\", \"History\": \"Humanities\", \"Psychiatry\": \"Medicine\", \"Zoology\": \"Science\", \"Psychology\": \"Social Science\", \"Etiology\": \"Science\", \"Geomorphology\": \"Science\", \"Atmospheric_sciences\": \"Science\", \"Geography\": \"Science\", \"Demography\": \"Social Science\", \"Geology\": \"Science\", \"Family_medicine\": \"Medicine\", \"Evolutionary_biology\": \"Science\", \"Astrobiology\": \"Science\", \"Astronomy\": \"Science\", \"Astrophysics\": \"Science\", \"Geochemistry\": \"Science\", \"Business\": \"Social Science\", \"Finance\": \"Social Science\", \"Management_science\": \"Social Science\", \"Social_psychology\": \"Social Science\", \"Political_science\": \"Social Science\", \"Archaeology\": \"Social Science\", \"Economics\": \"Social Science\", \"Paleontology\": \"Science\", \"Criminology\": \"Social Science\"}\n",
    "def get_single_field(s_df):\n",
    "    #fields = ['Composite_material', 'Chemistry', 'Chromatography', 'Botany', 'Surgery', 'Medicine', 'Cognitive_psychology', 'Affect__psychology_', 'Aggression', 'Psychology', 'Psychiatry', 'Cell_biology', 'Transcriptome', 'Molecular_biology', 'Carcinogenesis', 'Biology', 'Human_sexuality', 'Physical_therapy', 'Testosterone', 'Psychotherapist', 'Prostate_cancer', 'Mood', 'Disease', 'Genetics', 'Genome', 'Randomized_controlled_trial', 'Quality_of_life', 'Comorbidity', 'Severity_of_illness', 'Diabetes_mellitus', 'Prospective_cohort_study', 'Ideology', 'China', 'Law', 'Sociology', 'Environmental_engineering', 'Environmental_resource_management', 'Economics', 'Climate_change', 'Population', 'Evolutionary_biology', 'Cell', 'Phylogenetics', 'Ecology', 'Taxon', 'Biodiversity', 'Atmospheric_sciences', 'Environmental_science', 'Global_warming', 'Meteorology', 'Pedagogy', 'Social_science', 'Social_psychology', 'Confidence_interval', 'Referral', 'Young_adult', 'Medical_prescription', 'Molecule', 'Organic_chemistry', 'Materials_science', 'Environmental_health', 'Obesity', 'Body_mass_index', 'Public_health', 'Biochemistry', 'Endocrinology', 'Internal_medicine', 'Mitochondrion', 'Democracy', 'Political_economy', 'Public_administration', 'Politics', 'Public_opinion', 'Gerontology', 'Cohort_study', 'Lower_risk', 'Developmental_psychology', 'Paleontology', 'Geology', 'Neuroscience', 'Biophysics', 'RNA', 'Atomic_physics', 'Physics', 'Ion', 'Photon', 'Optics', 'Climatology', 'Geography', 'Precipitation', 'Chemical_engineering', 'Membrane', 'Inorganic_chemistry', 'Environmental_chemistry', 'Psychological_resilience', 'Risk_assessment', 'Cardiology', 'Cause_of_death', 'Atrial_fibrillation', 'Stimulus__physiology_', 'Schizophrenia', 'Neuroimaging', 'Perception', 'Intensive_care_medicine', 'Nursing', 'Developing_country', 'Health_care', 'Drug', 'Distress', 'Political_science', 'Prefrontal_cortex', 'Social_relation', 'Chromatin', 'Microbiology', 'Antimicrobial', 'Antibiotics', 'Pregnancy', 'Pathology', 'Applied_psychology', 'Cognition', 'Anxiety', 'Radiology', 'Radiation_therapy', 'Biopsy', 'Chemotherapy', 'Multimedia', 'Autism', 'Socioeconomics', 'Agriculture', 'Gynecology', 'Breast_cancer', 'Obstetrics', 'Gestation', 'Pharmacology', 'Clinical_trial', 'Food_science', 'Escherichia_coli', 'Bacteria', 'Photochemistry', 'Injury_prevention', 'Human_factors_and_ergonomics', 'Suicide_prevention', 'Social_environment', 'Occupational_safety_and_health', 'Heart_failure', 'Predation', 'In_vivo', 'CRISPR', 'Crop', 'Carbon', 'Public_relations', 'Demography', 'Dentistry', 'Logistic_regression', 'Health_equity', 'Medicaid', 'Epidemiology', 'Threatened_species', 'Species_richness', 'Harm', 'Classical_mechanics', 'Quantum_mechanics', 'Odds_ratio', 'Homeostasis', 'Type_2_diabetes', 'Cohort', 'Anatomy', 'Interpersonal_relationship', 'Norm__social_', 'Crystallography', 'Physiology', 'Placebo', 'MEDLINE', 'Pediatrics', 'Adverse_effect', 'Transplantation', 'Dopamine', 'Embryonic_stem_cell', 'Criminology', 'Astrophysics', 'Astronomy', 'Condensed_matter_physics', 'Optoelectronics', 'Molecular_physics', 'Nanotechnology', 'Crystal', 'Animal_science', 'Sediment', 'Melanoma', 'Cell_culture', 'Electronic_engineering', 'Odds', 'Overweight', 'Confounding', 'Communication', 'Child_development', 'Psychological_intervention', 'Gene', 'Management_science', 'Offspring', 'Epigenetics', 'Mental_health', 'Well_being', 'Immigration', 'Coping__psychology_', 'Physical_exercise', 'Personality', 'Particle_physics', 'Alternative_medicine', 'Immunology', 'Big_Five_personality_traits', 'PsycINFO', 'Happiness', 'Extinction', 'Environmental_protection', 'Land_use', 'Agroforestry', 'Vegetation', 'Habitat', 'Ecosystem', 'Mineralogy', 'Geochemistry', 'Economic_growth', 'Vaccination', 'Recall', 'Working_memory', 'Radiation', 'Atmosphere', 'Vulnerability', 'Catalysis', 'Anesthesia', 'Toxicology', 'Cannabis', 'Government', 'European_union', 'Risk_factor', 'Systematic_review', 'General_surgery', 'Clinical_endpoint', 'Lung_cancer', 'Polymer', 'Geophysics', 'Geomorphology', 'Advertising', 'Cross_sectional_study', 'Interquartile_range', 'Weight_loss', 'Health_promotion', 'Academic_achievement', 'Finance', 'Chronic_pain', 'Immune_system', 'T_cell', 'Immunity', 'Virology', 'Dementia', 'Alzheimer_s_disease', 'Socioeconomic_status', 'Allele', 'Insulin', 'Hormone', 'Evidence_based_medicine', 'Meta_analysis', 'Medical_emergency', 'Zoology', 'Actuarial_science', 'Hydrology', 'Functional_magnetic_resonance_imaging', 'Electroencephalography', 'Machine_learning', 'Artificial_intelligence', 'Clinical_psychology', 'Nanoparticle', 'Laser', 'Ethnic_group', 'Cancer', 'Magnetic_field', 'Antigen', 'Antibody', 'Seismology', 'Addiction', 'Vitamin_D_and_neurology', 'Athletes', 'Marketing', 'Receptor', 'Social_support', 'Sleep_deprivation', 'Microeconomics', 'Legislation', 'Transcription_factor', 'Fertility', 'Dermatology', 'Pathogenesis', 'Apoptosis', 'Proinflammatory_cytokine', 'Ovarian_cancer', 'Stem_cell', 'Multivariate_analysis', 'Fishery', 'Mortality_rate', 'Virulence', 'Malaria', 'Knowledge_management', 'Analytical_chemistry', 'Graphene', 'Semiconductor', 'Coronary_artery_disease', 'Heart_disease', 'Cholesterol', 'Veterinary_medicine', 'Engineering', 'Biomarker__medicine_', 'Electron', 'Microbiome', 'Gut_flora', 'Physical_medicine_and_rehabilitation', 'Stroke', 'Bioinformatics', 'Body_weight', 'Arctic', 'Poverty', 'Exoplanet', 'Planet', 'Stars', 'Foraging', 'National_Health_and_Nutrition_Examination_Survey', 'Urine', 'Hazard_ratio', 'Observational_study', 'Proportional_hazards_model', 'Inflammation', 'Kidney_disease', 'Gastroenterology', 'Text_mining', 'Locus__genetics_', 'Genome_wide_association_study', 'Urology', 'Ranging', 'Survival_rate', 'Incentive', 'Phenomenon', 'Statistics', 'Longitudinal_study', 'Brain_mapping', 'Metabolic_syndrome', 'Agronomy', 'Asthma', 'Relative_risk', 'Breastfeeding', 'Endangered_species', 'Climate_model', 'Social_perception', 'Social_media', 'Social_network', 'Business', 'Etiology', 'Mesenchymal_stem_cell', 'Weight_gain', 'Mathematics', 'Nicotine', 'Emergency_department', 'Myocardial_infarction', 'Emergency_medicine', 'Labour_economics', 'Health_policy', 'Qualitative_research', 'Clinical_Practice', 'Guideline', 'Wildlife', 'Family_medicine', 'Regulation_of_gene_expression', 'Cellular_differentiation', 'microRNA', 'Downregulation_and_upregulation', 'Computer_science', 'Developed_country', 'Demographic_economics', 'Colorectal_cancer', 'Nutrient', 'Mutant', 'Cancer_research', 'Allergy', 'Biological_dispersal', 'Magnetic_resonance_imaging', 'Transmission__mechanics_', 'Retrospective_cohort_study', 'Metastasis', 'Feeling', 'Metabolism', 'Signal_transduction', 'Traumatic_brain_injury', 'Genomics', 'DNA_methylation', 'Oncology', 'Mutation', 'Phenotype', 'Smoking_cessation', 'Black_hole', 'Air_pollution', 'Hippocampus', 'Biotechnology', 'Biomass', 'Volcano', 'Longevity', 'Empathy', 'Psychosocial', 'Greenhouse_gas', 'Focus_group', 'Regimen', 'Fetus', 'Computer_vision', 'Computational_biology', 'Gene_expression', 'DNA', 'Nuclear_magnetic_resonance', 'Solar_System', 'Astrobiology', 'Audiology', 'Circadian_rhythm', 'Rehabilitation', 'Toxicity', 'Global_health', 'Reproductive_health', 'Neurodegeneration', 'Galaxy', 'Virus', 'Innate_immune_system', 'Early_childhood', 'Amygdala', 'Vitamin', 'Adipose_tissue', 'Architecture', 'Data_mining', 'Quantum', 'Blood_pressure', 'Waste_management', 'Sustainability', 'Incidence__epidemiology_', 'Substance_abuse', 'In_vitro', 'The_Internet', 'Attention_deficit_hyperactivity_disorder', 'Opioid', 'DNA_damage', 'Visual_perception', 'Sensory_system', 'Genotype', 'Antibiotic_resistance', 'Multiple_sclerosis', 'Case_control_study', 'Single_nucleotide_polymorphism', 'Cancer_cell', 'Trait', 'Empirical_research', 'Simulation', 'Oxidative_stress', 'Antioxidant', 'Progenitor_cell', 'Lung', 'Oceanography', 'Immunotherapy', 'Cytokine', 'Kinase', 'Development_economics', 'Cell_type', 'Social_cognition', 'Major_depressive_disorder', 'Hippocampal_formation', 'Central_nervous_system', 'Medical_record', 'Psychopathology', 'Skeletal_muscle', 'Transcription__biology_', 'Ecosystem_services', 'Heart_rate', 'Outbreak', 'Phylogenetic_tree', 'Enzyme', 'Genetic_variation', 'Psychosis', 'Pathogen', 'History', 'Atom', 'Arousal', 'Remote_sensing', 'Crossover_study', 'Programmed_cell_death', 'Human_brain', 'Stimulation', 'Scattering', 'Antidepressant', 'Population_study', 'Corporate_governance', 'Interpersonal_communication', 'Osteoporosis', 'Alcohol', 'Biomedical_engineering', 'Induced_pluripotent_stem_cell', 'Demographics', 'Insulin_resistance', 'Autism_spectrum_disorder', 'Mindfulness', 'Limiting', 'Cretaceous', 'Spectroscopy', 'Prosocial_behavior', 'Computer_security', 'Gestational_age', 'Archaeology', 'Welfare', 'Mental_illness', 'Phosphorylation', 'Life_expectancy', 'Spin_half', 'Thin_film', 'Narrative', 'Gender_studies', 'Public_policy', 'Epilepsy', 'Metal', 'Instability', 'Particle', 'Spectral_line', 'Cell_growth', 'Cytotoxic_T_cell', 'Cycling', 'Intracellular', 'Ageing', 'Bipolar_disorder', 'Meal', 'Ingestion', 'DNA_sequencing', 'Amino_acid']\n",
    "    \n",
    "    fields = [\"Law\",\"Condensed_matter_physics\",\"Biomedical_engineering\",\"Hydrology\",\"Atomic_physics\",\"Development_economics\",\"Optics\",\n",
    "\"Public_policy\",\"Lung_cancer\",\"Electronic_engineering\",\"Artificial_intelligence\",\"Machine_learning\",\"Gender_studies\",\"Chemical_engineering\",\n",
    "\"Biophysics\",\"Analytical_chemistry\",\"Computer_science\",\"Radiology\",\"Urology\",\"Architecture\",\"Quantum_mechanics\",\"Particle_physics\",\n",
    "\"Materials_science\",\"Computational_biology\",\"Agronomy\",\"Environmental_resource_management\",\"Molecular_biology\",\"Dermatology\",\n",
    "\"Engineering\",\"Surgery\",\"Public_health\",\"Molecular_physics\",\"Bioinformatics\",\"Physics\",\"Cognitive_psychology\",\"Oncology\",\n",
    "\"Pathology\",\"Biochemistry\",\"Social_science\",\"Climatology\",\"Pharmacology\",\"Agriculture\",\"Neuroscience\",\"Fishery\",\"Virology\",\n",
    "\"Microbiology\",\"Communication\",\"Endocrinology\",\"Epigenetics\",\"Marketing\",\"Global_health\",\"Agroforestry\",\"Chemistry\",\"Mathematics\",\n",
    "\"Gynecology\",\"Gerontology\",\"Meteorology\",\"Veterinary_medicine\",\"Government\",\"Dentistry\",\"Microeconomics\",\"Sociology\",\"Emergency_medicine\",\n",
    "\"Pediatrics\",\"Advertising\",\"Oceanography\",\"Developmental_psychology\",\"Internal_medicine\",\"Cardiology\",\"Environmental_engineering\",\n",
    "\"General_surgery\",\"Environmental_science\",\"Geophysics\",\"Immunology\",\"Clinical_psychology\",\"Toxicology\",\"Ecology\",\"Biology\",\n",
    "\"Epidemiology\",\"Physical_therapy\",\"Physiology\",\"Statistics\",\"Psychopathology\",\"Animal_science\",\"Nursing\",\"Seismology\",\"History\",\n",
    "\"Psychiatry\",\"Zoology\",\"Psychology\",\"Etiology\",\"Geomorphology\",\"Atmospheric_sciences\",\"Geography\",\"Demography\",\"Geology\",\"Medicine\",\n",
    "\"Family_medicine\",\"Evolutionary_biology\",\"Astrobiology\",\"Astronomy\",\"Astrophysics\",\"Geochemistry\",\"Business\",\"Finance\",\"Management_science\",\n",
    "\"Social_psychology\",\"Political_science\",\"Archaeology\",\"Economics\",\"Paleontology\",\"Criminology\"]\n",
    "    single_field = []\n",
    "    for i, row in tqdm(s_df.iterrows()):\n",
    "        single_field.append(fields[np.argmax(row[fields])])\n",
    "    return single_field"
   ]
  },
  {
   "cell_type": "code",
   "execution_count": 14,
   "id": "555e3573",
   "metadata": {},
   "outputs": [
    {
     "name": "stderr",
     "output_type": "stream",
     "text": [
      "125685it [01:43, 1209.91it/s]\n"
     ]
    }
   ],
   "source": [
    "unique_df['single_field'] = get_single_field(unique_df)\n",
    "unique_df['big_field'] = [domain_classification[it] for it in unique_df['single_field']]"
   ]
  },
  {
   "cell_type": "code",
   "execution_count": 77,
   "id": "86e042af",
   "metadata": {},
   "outputs": [],
   "source": [
    "unique_df.to_csv('../data/unique_df.csv',index=False)"
   ]
  },
  {
   "cell_type": "code",
   "execution_count": 15,
   "id": "295a737c",
   "metadata": {},
   "outputs": [
    {
     "data": {
      "text/plain": [
       "big_field\n",
       "Science           51671\n",
       "Medicine          48814\n",
       "Social Science    20724\n",
       "Engineering        3953\n",
       "Others              467\n",
       "Humanities           56\n",
       "Name: count, dtype: int64"
      ]
     },
     "execution_count": 15,
     "metadata": {},
     "output_type": "execute_result"
    }
   ],
   "source": [
    "unique_df.big_field.value_counts()"
   ]
  },
  {
   "cell_type": "code",
   "execution_count": 17,
   "id": "3c000186",
   "metadata": {},
   "outputs": [
    {
     "data": {
      "text/html": [
       "<div>\n",
       "<style scoped>\n",
       "    .dataframe tbody tr th:only-of-type {\n",
       "        vertical-align: middle;\n",
       "    }\n",
       "\n",
       "    .dataframe tbody tr th {\n",
       "        vertical-align: top;\n",
       "    }\n",
       "\n",
       "    .dataframe thead th {\n",
       "        text-align: right;\n",
       "    }\n",
       "</style>\n",
       "<table border=\"1\" class=\"dataframe\">\n",
       "  <thead>\n",
       "    <tr style=\"text-align: right;\">\n",
       "      <th></th>\n",
       "      <th>outlet</th>\n",
       "      <th>category</th>\n",
       "      <th>url</th>\n",
       "    </tr>\n",
       "  </thead>\n",
       "  <tbody>\n",
       "    <tr>\n",
       "      <th>0</th>\n",
       "      <td>12 News KBMT</td>\n",
       "      <td>General</td>\n",
       "      <td>9</td>\n",
       "    </tr>\n",
       "    <tr>\n",
       "      <th>1</th>\n",
       "      <td>7th Space Family Portal</td>\n",
       "      <td>PressRelease</td>\n",
       "      <td>781</td>\n",
       "    </tr>\n",
       "    <tr>\n",
       "      <th>2</th>\n",
       "      <td>ABC 7 WKBW Buffalo</td>\n",
       "      <td>General</td>\n",
       "      <td>8</td>\n",
       "    </tr>\n",
       "    <tr>\n",
       "      <th>3</th>\n",
       "      <td>ABC Action News WFTS Tampa Bay</td>\n",
       "      <td>General</td>\n",
       "      <td>12</td>\n",
       "    </tr>\n",
       "    <tr>\n",
       "      <th>4</th>\n",
       "      <td>ABC News</td>\n",
       "      <td>General</td>\n",
       "      <td>216</td>\n",
       "    </tr>\n",
       "    <tr>\n",
       "      <th>...</th>\n",
       "      <td>...</td>\n",
       "      <td>...</td>\n",
       "      <td>...</td>\n",
       "    </tr>\n",
       "    <tr>\n",
       "      <th>249</th>\n",
       "      <td>Yahoo! Finance USA</td>\n",
       "      <td>General</td>\n",
       "      <td>543</td>\n",
       "    </tr>\n",
       "    <tr>\n",
       "      <th>250</th>\n",
       "      <td>azfamily.com</td>\n",
       "      <td>General</td>\n",
       "      <td>155</td>\n",
       "    </tr>\n",
       "    <tr>\n",
       "      <th>251</th>\n",
       "      <td>hellogiggles.com</td>\n",
       "      <td>General</td>\n",
       "      <td>57</td>\n",
       "    </tr>\n",
       "    <tr>\n",
       "      <th>252</th>\n",
       "      <td>newsmax.com</td>\n",
       "      <td>General</td>\n",
       "      <td>320</td>\n",
       "    </tr>\n",
       "    <tr>\n",
       "      <th>253</th>\n",
       "      <td>redOrbit</td>\n",
       "      <td>SciTech</td>\n",
       "      <td>931</td>\n",
       "    </tr>\n",
       "  </tbody>\n",
       "</table>\n",
       "<p>254 rows × 3 columns</p>\n",
       "</div>"
      ],
      "text/plain": [
       "                             outlet      category  url\n",
       "0                      12 News KBMT       General    9\n",
       "1           7th Space Family Portal  PressRelease  781\n",
       "2                ABC 7 WKBW Buffalo       General    8\n",
       "3    ABC Action News WFTS Tampa Bay       General   12\n",
       "4                          ABC News       General  216\n",
       "..                              ...           ...  ...\n",
       "249              Yahoo! Finance USA       General  543\n",
       "250                    azfamily.com       General  155\n",
       "251                hellogiggles.com       General   57\n",
       "252                     newsmax.com       General  320\n",
       "253                        redOrbit       SciTech  931\n",
       "\n",
       "[254 rows x 3 columns]"
      ]
     },
     "execution_count": 17,
     "metadata": {},
     "output_type": "execute_result"
    }
   ],
   "source": [
    "unique_df.groupby(['outlet', 'category']).count()['url'].reset_index()"
   ]
  },
  {
   "cell_type": "code",
   "execution_count": 18,
   "id": "e745b7d8",
   "metadata": {},
   "outputs": [
    {
     "name": "stdout",
     "output_type": "stream",
     "text": [
      "12 News KBMT \t General \t 9\n",
      "7th Space Family Portal \t PressRelease \t 781\n",
      "ABC 7 WKBW Buffalo \t General \t 8\n",
      "ABC Action News WFTS Tampa Bay \t General \t 12\n",
      "ABC News \t General \t 216\n",
      "ABC News 15 Arizona \t General \t 12\n",
      "ABC News WMUR 9 \t General \t 81\n",
      "AJMC \t PressRelease \t 297\n",
      "AOL \t General \t 64\n",
      "Action News Now \t General \t 240\n",
      "Alaska Despatch News \t General \t 93\n",
      "Alternet \t General \t 166\n",
      "American Council on Science and Health \t SciTech \t 164\n",
      "Arizona Public Radio \t General \t 11\n",
      "Arstechnica \t SciTech \t 445\n",
      "Astrobiology Magazine \t SciTech \t 156\n",
      "Becker's Hospital Review \t SciTech \t 350\n",
      "Becker's Spine Review \t SciTech \t 301\n",
      "Benzinga \t General \t 916\n",
      "Billings Gazette \t General \t 33\n",
      "Bio-Medicine.org \t PressRelease \t 157\n",
      "BioTech Gate \t SciTech \t 124\n",
      "Biospace \t SciTech \t 547\n",
      "Boise State Public Radio \t General \t 15\n",
      "Brookings \t General \t 93\n",
      "Business Insider \t General \t 1328\n",
      "Business Wire \t General \t 294\n",
      "Bustle \t General \t 709\n",
      "Buzzfeed \t General \t 69\n",
      "CBS News \t General \t 475\n",
      "CNBC \t General \t 116\n",
      "CNET \t SciTech \t 317\n",
      "Carbon Brief \t SciTech \t 32\n",
      "Cardiovascular Business \t SciTech \t 165\n",
      "Central Coast Public Radio \t General \t 2\n",
      "Centre for Disease Research and Policy \t SciTech \t 186\n",
      "Christian Science Monitor \t General \t 350\n",
      "Clinical Advisor \t SciTech \t 212\n",
      "Common Dreams \t General \t 99\n",
      "Cornell Chronicle \t PressRelease \t 186\n",
      "Dayton Daily News \t General \t 103\n",
      "Delmarva Public Radio \t General \t 1\n",
      "Discover Magazine \t SciTech \t 103\n",
      "Doctors Lounge \t SciTech \t 1179\n",
      "Drugs.com \t SciTech \t 1662\n",
      "ECN \t SciTech \t 534\n",
      "EarthSky \t SciTech \t 298\n",
      "Elite Daily \t General \t 286\n",
      "Emaxhealth.com \t PressRelease \t 244\n",
      "Environmental News Network \t PressRelease \t 642\n",
      "Equities.com \t General \t 144\n",
      "Everyday Health \t SciTech \t 154\n",
      "Fast Company \t General \t 171\n",
      "Fight Aging! \t SciTech \t 233\n",
      "FiveThirtyEight \t General \t 49\n",
      "Futurity \t PressRelease \t 3514\n",
      "GEN \t SciTech \t 423\n",
      "Georgia Public Radio \t General \t 54\n",
      "Google News \t General \t 309\n",
      "Government Executive \t General \t 44\n",
      "Green Car Congress \t SciTech \t 178\n",
      "Guardian Liberty Voice \t General \t 454\n",
      "Hawaii News Now \t General \t 24\n",
      "Headlines & Global News \t General \t 931\n",
      "Health \t SciTech \t 94\n",
      "Health Canal \t SciTech \t 5411\n",
      "Health Imaging \t SciTech \t 256\n",
      "Health Medicinet \t PressRelease \t 5418\n",
      "Herald Sun \t General \t 40\n",
      "Homeland Security News Wire \t General \t 407\n",
      "Houston Chronicle \t General \t 98\n",
      "HowStuffWorks \t General \t 271\n",
      "Idaho Statements \t General \t 7\n",
      "Inc. \t General \t 183\n",
      "Infection Control Today \t SciTech \t 431\n",
      "Inside Science \t SciTech \t 103\n",
      "Insurance News Net \t General \t 126\n",
      "Interlochen Public Radio \t General \t 4\n",
      "International Business Times \t General \t 843\n",
      "Inverse \t General \t 832\n",
      "Iowa Public Radio \t General \t 8\n",
      "Journalist's Resource \t SciTech \t 370\n",
      "KCENG12 \t SciTech \t 6\n",
      "KERA News \t General \t 25\n",
      "KOSU \t General \t 3\n",
      "KPBS \t General \t 339\n",
      "KPCC : Southern California Public Radio \t General \t 129\n",
      "KRWG TV/FM \t General \t 7\n",
      "KTEN \t General \t 38\n",
      "KTEP El Paso \t General \t 1\n",
      "KUNC \t General \t 20\n",
      "KUNM \t General \t 4\n",
      "KUOW \t General \t 28\n",
      "Kansas City Star \t General \t 48\n",
      "Kansas City University Radio \t General \t 23\n",
      "Kansas Public Radio \t General \t 174\n",
      "King 5 \t General \t 14\n",
      "Lexington Herald Leader \t General \t 14\n",
      "Lifehacker \t General \t 90\n",
      "Lincoln Journal Star \t General \t 22\n",
      "LiveScience \t SciTech \t 903\n",
      "MIT News \t PressRelease \t 381\n",
      "MIT Technology Review \t SciTech \t 215\n",
      "MarketWatch \t General \t 180\n",
      "Medcity News \t SciTech \t 163\n",
      "Medical Daily \t SciTech \t 2898\n",
      "Medicinenet \t SciTech \t 767\n",
      "Medium US \t General \t 287\n",
      "Men's Health \t SciTech \t 187\n",
      "Mic \t General \t 51\n",
      "MinnPost \t General \t 251\n",
      "Mongabay \t SciTech \t 224\n",
      "Mother Jones \t General \t 109\n",
      "Mother Nature Network \t SciTech \t 339\n",
      "My Science \t SciTech \t 307\n",
      "NPR \t General \t 414\n",
      "Nanowerk \t PressRelease \t 3042\n",
      "National Geographic \t SciTech \t 610\n",
      "Nature World News \t SciTech \t 2187\n",
      "New Hampshire Public Radio \t General \t 11\n",
      "New York Daily News \t General \t 327\n",
      "New York Magazine \t General \t 80\n",
      "News Channel \t General \t 7\n",
      "News Tribune \t General \t 1\n",
      "Newser \t General \t 394\n",
      "Newsweek \t General \t 1033\n",
      "Newswise \t PressRelease \t 4980\n",
      "North East Public Radio \t General \t 2\n",
      "Northern Public Radio \t General \t 2\n",
      "Northwest Indiana Times \t General \t 53\n",
      "Nutra Ingredients USA \t SciTech \t 142\n",
      "Omaha Public Radio \t General \t 2\n",
      "OnMedica \t SciTech \t 61\n",
      "Oregon Public Broadcasting \t General \t 282\n",
      "Outside \t General \t 112\n",
      "PBS \t General \t 266\n",
      "PM 360 \t SciTech \t 46\n",
      "PR Newswire \t PressRelease \t 668\n",
      "PR Web \t PressRelease \t 182\n",
      "Pacific Standard \t General \t 428\n",
      "Parent Herald \t General \t 380\n",
      "Pettinga: Stock Market \t General \t 12\n",
      "Pharmacy Times \t SciTech \t 66\n",
      "Philly.com \t General \t 245\n",
      "Physician's Briefing \t PressRelease \t 1120\n",
      "Physician's Weekly \t SciTech \t 371\n",
      "Popular Mechanics \t SciTech \t 181\n",
      "Popular Science \t SciTech \t 69\n",
      "Pressfrom \t General \t 54\n",
      "Prevention \t SciTech \t 78\n",
      "Psych Central \t SciTech \t 812\n",
      "Psychology Today \t SciTech \t 226\n",
      "Public Radio International \t General \t 50\n",
      "Quartz \t SciTech \t 938\n",
      "R&D \t SciTech \t 230\n",
      "Radio Acadie \t General \t 6\n",
      "Real Clear Science \t SciTech \t 264\n",
      "Reason \t General \t 122\n",
      "Relief Web \t PressRelease \t 99\n",
      "Renal & Urology News \t SciTech \t 182\n",
      "Rocket News \t General \t 167\n",
      "Runner's World \t SciTech \t 222\n",
      "SDPB Radio \t General \t 7\n",
      "SFGate \t General \t 46\n",
      "SPIE Newsroom \t SciTech \t 120\n",
      "Salon \t General \t 532\n",
      "Sci-News \t SciTech \t 1212\n",
      "Science 2.0 \t SciTech \t 1002\n",
      "Science Alert \t SciTech \t 1039\n",
      "Science Daily \t PressRelease \t 15570\n",
      "Science World Report \t SciTech \t 1701\n",
      "Science/AAAS \t SciTech \t 1178\n",
      "Scientific American \t SciTech \t 1045\n",
      "Seed Daily \t SciTech \t 398\n",
      "SeedQuest \t SciTech \t 191\n",
      "She Knows \t General \t 152\n",
      "Sign of the Times \t General \t 713\n",
      "Slate Magazine \t General \t 151\n",
      "Smithsonian Magazine \t SciTech \t 676\n",
      "Space Daily \t SciTech \t 504\n",
      "Space.com \t SciTech \t 239\n",
      "Springfield News Sun \t General \t 129\n",
      "St. Louis Post-Dispatch \t General \t 63\n",
      "Star Tribune \t General \t 100\n",
      "Star-Telegram \t General \t 5\n",
      "Statesman.com \t General \t 11\n",
      "Sun Herald \t General \t 12\n",
      "TCTMD \t SciTech \t 122\n",
      "TIME Magazine \t General \t 495\n",
      "TODAY \t General \t 96\n",
      "Tech Times \t SciTech \t 1633\n",
      "Tech Xplore \t SciTech \t 332\n",
      "Technology Networks \t SciTech \t 2330\n",
      "Technology.org \t PressRelease \t 7082\n",
      "The ASCO Post \t SciTech \t 544\n",
      "The Atlanta Journal Constitution \t General \t 164\n",
      "The Atlantic \t General \t 732\n",
      "The Bellingham Herald \t General \t 3\n",
      "The Body \t SciTech \t 38\n",
      "The Charlotte Observer \t General \t 5\n",
      "The Columbian \t General \t 136\n",
      "The Daily Beast \t General \t 198\n",
      "The Daily Caller \t General \t 104\n",
      "The Daily Meal \t SciTech \t 47\n",
      "The Denver Post \t General \t 52\n",
      "The Deseret News \t General \t 120\n",
      "The Ecologist \t SciTech \t 40\n",
      "The Epoch Times \t General \t 1081\n",
      "The Fresno Bee \t General \t 11\n",
      "The Hill \t General \t 199\n",
      "The Inquisitr \t General \t 722\n",
      "The Modesto Bee \t General \t 16\n",
      "The New York Observer \t General \t 30\n",
      "The Raw Story \t General \t 540\n",
      "The Sacramento Bee \t General \t 20\n",
      "The San Diego Union-Tribune \t General \t 82\n",
      "The Seattle Times \t General \t 152\n",
      "The University Herald \t General \t 234\n",
      "The Verge \t General \t 142\n",
      "The Week \t General \t 155\n",
      "The Wichita Eagle \t General \t 6\n",
      "UBM Medica \t SciTech \t 833\n",
      "UPI.com \t General \t 2092\n",
      "US News Health \t SciTech \t 43\n",
      "USNews.com \t General \t 1394\n",
      "Value Walk \t General \t 159\n",
      "Vice \t General \t 958\n",
      "Voice of America \t General \t 109\n",
      "Vox.com \t General \t 377\n",
      "WABE \t General \t 133\n",
      "WBUR \t General \t 162\n",
      "WJCT \t General \t 27\n",
      "WKAR \t General \t 2\n",
      "WLRN \t General \t 15\n",
      "WPTV 5 West Palm Beach \t General \t 32\n",
      "WRKF \t General \t 2\n",
      "WTOP \t General \t 74\n",
      "WUNC \t General \t 15\n",
      "WUWM \t General \t 12\n",
      "WVPE \t General \t 10\n",
      "WVXU \t General \t 17\n",
      "WYPR \t General \t 1\n",
      "WebMD News \t SciTech \t 534\n",
      "Winona Daily News \t General \t 26\n",
      "Wired.com \t General \t 224\n",
      "Witchita's Public Radio \t General \t 10\n",
      "Women's Health \t SciTech \t 175\n",
      "Wyoming Public Radio \t General \t 12\n",
      "Yahoo! \t General \t 990\n",
      "Yahoo! Finance USA \t General \t 543\n",
      "azfamily.com \t General \t 155\n",
      "hellogiggles.com \t General \t 57\n",
      "newsmax.com \t General \t 320\n",
      "redOrbit \t SciTech \t 931\n"
     ]
    }
   ],
   "source": [
    "for i, row in unique_df.groupby(['outlet', 'category']).count().reset_index().iterrows():\n",
    "    print(row['outlet'], '\\t', row['category'], '\\t', row['has_indirect_mention'])"
   ]
  },
  {
   "cell_type": "code",
   "execution_count": 19,
   "id": "001869f3",
   "metadata": {},
   "outputs": [
    {
     "data": {
      "text/plain": [
       "outlet\n",
       "Health Canal               5411\n",
       "Medical Daily              2898\n",
       "Technology Networks        2330\n",
       "Nature World News          2187\n",
       "Science World Report       1701\n",
       "Drugs.com                  1662\n",
       "Tech Times                 1633\n",
       "Sci-News                   1212\n",
       "Doctors Lounge             1179\n",
       "Science/AAAS               1178\n",
       "Scientific American        1045\n",
       "Science Alert              1039\n",
       "Science 2.0                1002\n",
       "Quartz                      938\n",
       "redOrbit                    931\n",
       "LiveScience                 903\n",
       "UBM Medica                  833\n",
       "Psych Central               812\n",
       "Medicinenet                 767\n",
       "Smithsonian Magazine        676\n",
       "National Geographic         610\n",
       "Biospace                    547\n",
       "The ASCO Post               544\n",
       "WebMD News                  534\n",
       "ECN                         534\n",
       "Space Daily                 504\n",
       "Arstechnica                 445\n",
       "Infection Control Today     431\n",
       "GEN                         423\n",
       "Seed Daily                  398\n",
       "Name: count, dtype: int64"
      ]
     },
     "execution_count": 19,
     "metadata": {},
     "output_type": "execute_result"
    }
   ],
   "source": [
    "unique_df[unique_df['category'] == 'SciTech']['outlet'].value_counts()[:30]"
   ]
  },
  {
   "cell_type": "code",
   "execution_count": 20,
   "id": "cec7b388",
   "metadata": {},
   "outputs": [
    {
     "data": {
      "text/plain": [
       "0           Science Daily\n",
       "1           Science Daily\n",
       "3              USNews.com\n",
       "4           Science Daily\n",
       "5           Science Daily\n",
       "               ...       \n",
       "133692          Brookings\n",
       "133693    Pediatric News \n",
       "133694        PR Newswire\n",
       "133695           Benzinga\n",
       "133696           Biospace\n",
       "Name: outlet, Length: 125685, dtype: object"
      ]
     },
     "execution_count": 20,
     "metadata": {},
     "output_type": "execute_result"
    }
   ],
   "source": [
    "unique_df['outlet']"
   ]
  },
  {
   "cell_type": "code",
   "execution_count": 21,
   "id": "22e6da57",
   "metadata": {},
   "outputs": [],
   "source": [
    "#unique_df = unique_df[unique_df['outlet']!='Science Daily']"
   ]
  },
  {
   "cell_type": "code",
   "execution_count": 16,
   "id": "0cf7521c",
   "metadata": {},
   "outputs": [
    {
     "name": "stderr",
     "output_type": "stream",
     "text": [
      "125685it [00:35, 3537.78it/s] \n"
     ]
    }
   ],
   "source": [
    "doi2data = {}\n",
    "for i,row in tqdm(unique_df.iterrows()):\n",
    "    if row['doi'] not in doi2data:\n",
    "        doi2data[row['doi']] = defaultdict(list)\n",
    "    if row['distance_to_pr'] != None and row['distance_to_pr'] < 1000:\n",
    "        continue\n",
    "    doi2data[row['doi']][row['category']].append(row)"
   ]
  },
  {
   "cell_type": "code",
   "execution_count": 17,
   "id": "27ee2478",
   "metadata": {},
   "outputs": [
    {
     "name": "stderr",
     "output_type": "stream",
     "text": [
      "100%|██████████| 56686/56686 [00:00<00:00, 353024.80it/s]\n"
     ]
    }
   ],
   "source": [
    "re_df = defaultdict(list)\n",
    "for doi,v in tqdm(doi2data.items()):\n",
    "    re_df['doi'].append(doi)\n",
    "    for key in ['General', 'PressRelease', 'SciTech']:\n",
    "        re_df[key].append(len(doi2data[doi][key]) if key in doi2data[doi] else 0)\n",
    "re_df = pd.DataFrame(re_df)"
   ]
  },
  {
   "cell_type": "code",
   "execution_count": 45,
   "id": "8f3f8809",
   "metadata": {},
   "outputs": [],
   "source": [
    "def sample_from_dois(df, dois):\n",
    "    t_df = df[(df['distance_to_pr'].isna())|(df['distance_to_pr']>=1000)]\n",
    "    res = pd.DataFrame()\n",
    "    for i, doi in tqdm(enumerate(dois)):\n",
    "        items = pd.DataFrame()\n",
    "        for key in ['General', 'PressRelease', 'SciTech']:\n",
    "            a_df = t_df[(t_df['doi']==doi)&(t_df.category==key)]\n",
    "            if len(a_df) == 0:\n",
    "                continue\n",
    "            items = pd.concat([items, a_df.sample(1)])\n",
    "        if len(items) == 0:\n",
    "            print(i, doi)\n",
    "            continue\n",
    "        #print(i, doi, len(items))\n",
    "        \n",
    "        it = list(items[items.category!='PressRelease']['cleaned_text'])\n",
    "        if len(it) <= 1:\n",
    "            res = pd.concat([res, items])\n",
    "        else:\n",
    "            if lev.distance(it[0], it[1]) >= 1000:\n",
    "                res = pd.concat([res, items])\n",
    "        \n",
    "    return res"
   ]
  },
  {
   "cell_type": "code",
   "execution_count": 44,
   "id": "10faef81",
   "metadata": {},
   "outputs": [
    {
     "name": "stdout",
     "output_type": "stream",
     "text": [
      "30\n"
     ]
    }
   ],
   "source": [
    "# sample data for pilot 2\n",
    "all_covered = re_df[(re_df.PressRelease!=0)&((re_df.General!=0)&(re_df.SciTech!=0))].sample(10)\n",
    "pr_sci_covered = re_df[(re_df.PressRelease!=0)&((re_df.General==0)&(re_df.SciTech!=0))].sample(10)\n",
    "pr_gen_covered = re_df[(re_df.PressRelease!=0)&((re_df.General!=0)&(re_df.SciTech==0))].sample(10)\n",
    "sel_dois = set(pd.concat([all_covered, pr_sci_covered, pr_gen_covered])['doi'])\n",
    "print(len(sel_dois))\n",
    "\n",
    "s_df = sample_from_dois(unique_df, sel_dois)\n",
    "print(len(s_df))\n",
    "\n",
    "#s_df = unique_df.sample(50)\n",
    "s_df['id'] = s_df['url']\n",
    "s_df['text'] = ['<div style=\"width: 1000px; height: 600px; overflow-y:scroll;\"> Please read the following unpublished science news drafted by a journalist and rate the statements below <hr size=\"10\"> <strong>Title :%s</Strong> <br> <hr size=\"2\"> %s </div>'%(t,q.replace('\\n','<br>')) for t,q in zip(s_df['Mention title'],s_df['raw_text'])]\n",
    "s_df.to_csv('../annotation/news_values/data_files/news_pair_sample_70.csv',index=False)"
   ]
  },
  {
   "cell_type": "code",
   "execution_count": 35,
   "id": "a9ef8838",
   "metadata": {},
   "outputs": [
    {
     "name": "stdout",
     "output_type": "stream",
     "text": [
      "60\n"
     ]
    }
   ],
   "source": [
    "# sample data for pilot 3\n",
    "# more balanced outlets, especially for PR\n",
    "# also include PR that are not covered in news \n",
    "cv_dict = {}\n",
    "cv_dict['all_covered'] = re_df[(re_df.PressRelease!=0)&((re_df.General!=0)&(re_df.SciTech!=0))].sample(10)\n",
    "cv_dict['pr_sci_covered'] = re_df[(re_df.PressRelease!=0)&((re_df.General==0)&(re_df.SciTech!=0))].sample(10)\n",
    "cv_dict['pr_gen_covered'] = re_df[(re_df.PressRelease!=0)&((re_df.General!=0)&(re_df.SciTech==0))].sample(10)\n",
    "cv_dict['pr_only_covered'] = re_df[(re_df.PressRelease!=0)&((re_df.General==0)&(re_df.SciTech==0))].sample(30)\n",
    "sel_dois = set(pd.concat([cv_dict['all_covered'], cv_dict['pr_sci_covered'], cv_dict['pr_gen_covered'], cv_dict['pr_only_covered']])['doi'])\n",
    "print(len(sel_dois))\n",
    "\n",
    "doi2type = {}\n",
    "for key,value in cv_dict.items():\n",
    "    for doi in value['doi']:\n",
    "        doi2type[doi] = key\n",
    "\n",
    "s_df = sample_from_dois(unique_df, sel_dois)\n",
    "s_df['coverage_type'] = [doi2type[doi] for doi in s_df['doi']]"
   ]
  },
  {
   "cell_type": "code",
   "execution_count": 40,
   "id": "f8c85af3",
   "metadata": {},
   "outputs": [],
   "source": [
    "s_df['id'] = s_df['url']\n",
    "s_df['text'] = ['<div style=\"width: 1000px; height: 600px; overflow-y:scroll;\"> Please read the following unpublished science news drafted by a journalist and rate the statements below <hr size=\"10\"> <strong>Title :%s</Strong> <br> <hr size=\"2\"> %s </div>'%(t,q.replace('\\n','<br>')) for t,q in zip(s_df['Mention title'],s_df['raw_text'])]\n",
    "s_df.to_csv('../annotation/news_values/data_files/news_pair_sample_100_pilot3.csv',index=False)"
   ]
  },
  {
   "cell_type": "code",
   "execution_count": 1116,
   "id": "f39feb01",
   "metadata": {},
   "outputs": [
    {
     "name": "stdout",
     "output_type": "stream",
     "text": [
      "294\n"
     ]
    }
   ],
   "source": [
    "# sample data for full batch 1  500\n",
    "# more balanced outlets, especially for PR\n",
    "# also include PR that are not covered in news \n",
    "cv_dict = {}\n",
    "cv_dict['all_covered'] = re_df[(re_df.PressRelease!=0)&((re_df.General!=0)&(re_df.SciTech!=0))].sample(40)\n",
    "cv_dict['pr_sci_covered'] = re_df[(re_df.PressRelease!=0)&((re_df.General==0)&(re_df.SciTech!=0))].sample(40)\n",
    "cv_dict['pr_gen_covered'] = re_df[(re_df.PressRelease!=0)&((re_df.General!=0)&(re_df.SciTech==0))].sample(40)\n",
    "cv_dict['pr_only_covered'] = re_df[(re_df.PressRelease!=0)&((re_df.General==0)&(re_df.SciTech==0))].sample(25)\n",
    "cv_dict['gen_only_covered'] = re_df[(re_df.PressRelease==0)&((re_df.General!=0)&(re_df.SciTech==0))].sample(25)\n",
    "cv_dict['sci_only_covered'] = re_df[(re_df.PressRelease==0)&((re_df.General==0)&(re_df.SciTech!=0))].sample(25)\n",
    "cv_dict['social_science_sup'] = unique_df[(unique_df.big_field=='Social Science')].sample(25)\n",
    "cv_dict['engineering_sup'] = unique_df[(unique_df.big_field=='Engineering')].sample(50)\n",
    "cv_dict['humanities_sup'] = unique_df[(unique_df.big_field=='Humanities')&(unique_df.single_field!='Law')].sample(15)\n",
    "cv_dict['coverage_10-30_sup'] = unique_df[(unique_df.coverage_cnt>10)&(unique_df.coverage_cnt<=30)].sample(10)\n",
    "cv_dict['coverage_30_sup'] = unique_df[(unique_df.coverage_cnt>30)].sample(5)\n",
    "\n",
    "\n",
    "sel_dois = set(pd.concat([cv_dict['all_covered'], cv_dict['pr_sci_covered'], cv_dict['pr_gen_covered'], cv_dict['pr_only_covered'], cv_dict['gen_only_covered'], \n",
    "                          cv_dict['sci_only_covered'], cv_dict['social_science_sup'], cv_dict['engineering_sup'], cv_dict['humanities_sup'], cv_dict['coverage_10-30_sup'], cv_dict['coverage_30_sup']])['doi'])\n",
    "\n",
    "print(len(sel_dois))\n",
    "\n",
    "doi2type = {}\n",
    "for key,value in cv_dict.items():\n",
    "    for doi in value['doi']:\n",
    "        doi2type[doi] = key\n",
    "\n",
    "s_df = sample_from_dois(unique_df, sel_dois)\n",
    "s_df['coverage_type'] = [doi2type[doi] for doi in s_df['doi']]\n",
    "s_df['single_field'] = get_single_field(s_df)\n",
    "s_df['big_field'] = [domain_classification[it] for it in s_df['single_field']]\n",
    "s_df['len'] = [len(it.split()) for it in s_df['cleaned_text']]\n",
    "s_df.sort_values('cleaned_text')[['doi','Mention title','category','distance_to_pr','raw_text','cleaned_text','original_pr']].to_csv('batch_1_cleaned.csv')\n",
    "\n",
    "s_df['id'] = [str(i) for i in range(len(s_df))]\n",
    "s_df['text'] = ['<div style=\"width: 1000px; height: 600px; overflow-y:scroll;\"> Please read the following draft of a science news article and rate the statements below <hr size=\"10\"> <strong>Title: %s</Strong> <br> <hr size=\"2\"> %s </div>'%(t,q.replace('\\n','<br>')) for t,q in zip(s_df['Mention title'],s_df['cleaned_text'])]\n",
    "s_df.to_csv('../annotation/news_values/data_files/news_pair_sample_500_batch1.csv',index=False)\n"
   ]
  },
  {
   "cell_type": "code",
   "execution_count": 19,
   "id": "ed35b5b5",
   "metadata": {},
   "outputs": [],
   "source": [
    "used_ids = set()\n",
    "used_ids = used_ids | set(pd.read_csv('../annotation/news_values/data_files/news_pair_sample_500_batch1.csv')['doi'])\n",
    "re_df = re_df[~re_df['doi'].isin(used_ids)]"
   ]
  },
  {
   "cell_type": "code",
   "execution_count": 33,
   "id": "67886805",
   "metadata": {},
   "outputs": [
    {
     "data": {
      "text/plain": [
       "{'10.1002/oa.2479',\n",
       " '10.1007/bf03217098',\n",
       " '10.1007/s11759-019-09356-9',\n",
       " '10.1007/s41982-018-0016-8',\n",
       " '10.1016/j.cub.2019.01.069',\n",
       " '10.1038/s41558-018-0222-x',\n",
       " '10.1038/s41586-019-1099-1',\n",
       " '10.1038/s41586-019-1119-1',\n",
       " '10.1038/srep08719',\n",
       " '10.1056/nejmsa1803972',\n",
       " '10.1073/pnas.1319780111',\n",
       " '10.1073/pnas.1721355115',\n",
       " '10.1073/pnas.1817972116',\n",
       " '10.1080/02639904.2019.1599566',\n",
       " '10.1176/appi.ps.201700250'}"
      ]
     },
     "execution_count": 33,
     "metadata": {},
     "output_type": "execute_result"
    }
   ],
   "source": []
  },
  {
   "cell_type": "code",
   "execution_count": 47,
   "id": "cb2aa272",
   "metadata": {},
   "outputs": [
    {
     "name": "stdout",
     "output_type": "stream",
     "text": [
      "585\n",
      "set()\n"
     ]
    },
    {
     "name": "stderr",
     "output_type": "stream",
     "text": [
      "82it [00:04, 17.29it/s]"
     ]
    },
    {
     "name": "stdout",
     "output_type": "stream",
     "text": [
      "80 10.1016/j.jtbi.2007.08.032\n"
     ]
    },
    {
     "name": "stderr",
     "output_type": "stream",
     "text": [
      "585it [00:36, 16.18it/s]\n",
      "1006it [00:00, 1134.06it/s]\n"
     ]
    }
   ],
   "source": [
    "# sample data for full batch 2  1000\n",
    "# more balanced outlets, especially for PR\n",
    "# also include PR that are not covered in news \n",
    "t_df = unique_df[~unique_df['doi'].isin(used_ids)]\n",
    "#t_df = t_df[(t_df['distance_to_pr'].isna())|(t_df['distance_to_pr']>=1000)]\n",
    "cv_dict = {}\n",
    "cv_dict['all_covered'] = re_df[(re_df.PressRelease!=0)&((re_df.General!=0)&(re_df.SciTech!=0))].sample(80)\n",
    "cv_dict['pr_sci_covered'] = re_df[(re_df.PressRelease!=0)&((re_df.General==0)&(re_df.SciTech!=0))].sample(80)\n",
    "cv_dict['pr_gen_covered'] = re_df[(re_df.PressRelease!=0)&((re_df.General!=0)&(re_df.SciTech==0))].sample(80)\n",
    "cv_dict['pr_only_covered'] = re_df[(re_df.PressRelease!=0)&((re_df.General==0)&(re_df.SciTech==0))].sample(50)\n",
    "cv_dict['gen_only_covered'] = re_df[(re_df.PressRelease==0)&((re_df.General!=0)&(re_df.SciTech==0))].sample(50)\n",
    "cv_dict['sci_only_covered'] = re_df[(re_df.PressRelease==0)&((re_df.General==0)&(re_df.SciTech!=0))].sample(50)\n",
    "cv_dict['social_science_sup'] = t_df[(t_df.big_field=='Social Science')].sample(50)\n",
    "cv_dict['engineering_sup'] = t_df[(t_df.big_field=='Engineering')].sample(100)\n",
    "cv_dict['humanities_sup'] = t_df[(t_df.big_field=='Humanities')&(t_df.single_field!='Law')].sample(30)\n",
    "cv_dict['coverage_10-30_sup'] = t_df[(t_df.coverage_cnt>10)&(t_df.coverage_cnt<=30)].sample(20)\n",
    "cv_dict['coverage_30_sup'] = t_df[(t_df.coverage_cnt>30)].sample(10)\n",
    "\n",
    "\n",
    "sel_dois = set(pd.concat([cv_dict['all_covered'], cv_dict['pr_sci_covered'], cv_dict['pr_gen_covered'], cv_dict['pr_only_covered'], cv_dict['gen_only_covered'], \n",
    "                          cv_dict['sci_only_covered'], cv_dict['social_science_sup'], cv_dict['engineering_sup'], cv_dict['humanities_sup'], cv_dict['coverage_10-30_sup'], cv_dict['coverage_30_sup']])['doi'])\n",
    "\n",
    "print(len(sel_dois))\n",
    "print(used_ids & set(sel_dois))\n",
    "\n",
    "doi2type = {}\n",
    "for key,value in cv_dict.items():\n",
    "    for doi in value['doi']:\n",
    "        doi2type[doi] = key\n",
    "\n",
    "s_df = sample_from_dois(unique_df, sel_dois)\n",
    "s_df['coverage_type'] = [doi2type[doi] for doi in s_df['doi']]\n",
    "s_df['single_field'] = get_single_field(s_df)\n",
    "s_df['big_field'] = [domain_classification[it] for it in s_df['single_field']]\n",
    "s_df['len'] = [len(it.split()) for it in s_df['cleaned_text']]\n",
    "s_df.sort_values('cleaned_text')[['doi','Mention title','category','distance_to_pr','raw_text','cleaned_text','original_pr']].to_csv('batch_2_cleaned.csv')"
   ]
  },
  {
   "cell_type": "code",
   "execution_count": 59,
   "id": "e12b92be",
   "metadata": {},
   "outputs": [],
   "source": [
    "reviewed = pd.read_csv('batch_2_manually_checked.csv')\n",
    "url2cleaned = {u:c for u,c in zip(reviewed['url'],reviewed['cleaned_text'])}"
   ]
  },
  {
   "cell_type": "code",
   "execution_count": 62,
   "id": "b1578c89",
   "metadata": {},
   "outputs": [],
   "source": [
    "s_df['cleaned_text'] = [url2cleaned[it] for it in s_df['url']]\n",
    "s_df = s_df[s_df['cleaned_text']!='remove']"
   ]
  },
  {
   "cell_type": "code",
   "execution_count": 70,
   "id": "cf81759d",
   "metadata": {},
   "outputs": [
    {
     "data": {
      "text/plain": [
       "994"
      ]
     },
     "execution_count": 70,
     "metadata": {},
     "output_type": "execute_result"
    }
   ],
   "source": [
    "len(s_df)"
   ]
  },
  {
   "cell_type": "code",
   "execution_count": 71,
   "id": "1503f0b4",
   "metadata": {},
   "outputs": [],
   "source": [
    "s_df['id'] = [str(i) for i in range(len(s_df))]\n",
    "s_df['text'] = ['<div style=\"width: 1000px; height: 600px; overflow-y:scroll;\"> Please read the following draft of a science news article and rate the statements below <hr size=\"10\"> <strong>Title: %s</Strong> <br> <hr size=\"2\"> %s </div>'%(t,q.replace('\\n','<br>')) for t,q in zip(s_df['Mention title'],s_df['cleaned_text'])]\n",
    "s_df.to_csv('../annotation/news_values/data_files/news_pair_sample_1000_batch2.csv',index=False)"
   ]
  },
  {
   "cell_type": "code",
   "execution_count": 64,
   "id": "50f2d069",
   "metadata": {},
   "outputs": [
    {
     "data": {
      "text/plain": [
       "single_field\n",
       "Social_psychology            65\n",
       "Biology                      55\n",
       "Computer_science             47\n",
       "Medicine                     42\n",
       "Ecology                      40\n",
       "Environmental_engineering    25\n",
       "Biomedical_engineering       24\n",
       "Chemistry                    24\n",
       "Demography                   23\n",
       "History                      22\n",
       "Molecular_biology            22\n",
       "Endocrinology                21\n",
       "Family_medicine              20\n",
       "Developmental_psychology     19\n",
       "Immunology                   18\n",
       "Paleontology                 18\n",
       "Pediatrics                   16\n",
       "Architecture                 16\n",
       "Climatology                  16\n",
       "Engineering                  16\n",
       "Neuroscience                 15\n",
       "Psychology                   15\n",
       "Machine_learning             15\n",
       "Clinical_psychology          15\n",
       "Astronomy                    14\n",
       "Psychiatry                   14\n",
       "Virology                     13\n",
       "Biochemistry                 12\n",
       "Internal_medicine            11\n",
       "Electronic_engineering       11\n",
       "Name: count, dtype: int64"
      ]
     },
     "execution_count": 64,
     "metadata": {},
     "output_type": "execute_result"
    }
   ],
   "source": [
    "s_df.single_field.value_counts()[:30]"
   ]
  },
  {
   "cell_type": "code",
   "execution_count": 65,
   "id": "00df8b6d",
   "metadata": {},
   "outputs": [
    {
     "data": {
      "text/plain": [
       "<Axes: ylabel='big_field'>"
      ]
     },
     "execution_count": 65,
     "metadata": {},
     "output_type": "execute_result"
    },
    {
     "data": {
      "image/png": "[encoded data removed]",
      "text/plain": [
       "<Figure size 432x288 with 1 Axes>"
      ]
     },
     "metadata": {
      "needs_background": "light"
     },
     "output_type": "display_data"
    }
   ],
   "source": [
    "s_df.big_field.value_counts().plot.barh()"
   ]
  },
  {
   "cell_type": "code",
   "execution_count": 66,
   "id": "f42f4b18",
   "metadata": {},
   "outputs": [
    {
     "data": {
      "text/plain": [
       "<Axes: ylabel='single_field'>"
      ]
     },
     "execution_count": 66,
     "metadata": {},
     "output_type": "execute_result"
    },
    {
     "data": {
      "image/png": "[encoded data removed]",
      "text/plain": [
       "<Figure size 720x720 with 1 Axes>"
      ]
     },
     "metadata": {
      "needs_background": "light"
     },
     "output_type": "display_data"
    }
   ],
   "source": [
    "s_df.single_field.value_counts()[:30].plot.barh(figsize=(10, 10))"
   ]
  },
  {
   "cell_type": "code",
   "execution_count": 67,
   "id": "40274d33",
   "metadata": {},
   "outputs": [
    {
     "data": {
      "text/plain": [
       "<Axes: >"
      ]
     },
     "execution_count": 67,
     "metadata": {},
     "output_type": "execute_result"
    },
    {
     "data": {
      "image/png": "[encoded data removed]",
      "text/plain": [
       "<Figure size 432x288 with 1 Axes>"
      ]
     },
     "metadata": {
      "needs_background": "light"
     },
     "output_type": "display_data"
    }
   ],
   "source": [
    "s_df.drop_duplicates('doi').coverage_cnt.hist(bins=30)"
   ]
  },
  {
   "cell_type": "code",
   "execution_count": 68,
   "id": "077c9aa2",
   "metadata": {},
   "outputs": [
    {
     "data": {
      "text/plain": [
       "<Axes: ylabel='category'>"
      ]
     },
     "execution_count": 68,
     "metadata": {},
     "output_type": "execute_result"
    },
    {
     "data": {
      "image/png": "[encoded data removed]",
      "text/plain": [
       "<Figure size 432x288 with 1 Axes>"
      ]
     },
     "metadata": {
      "needs_background": "light"
     },
     "output_type": "display_data"
    }
   ],
   "source": [
    "s_df.category.value_counts().plot.barh()"
   ]
  },
  {
   "cell_type": "code",
   "execution_count": 69,
   "id": "2b080ee3",
   "metadata": {},
   "outputs": [
    {
     "data": {
      "text/plain": [
       "<Axes: ylabel='outlet'>"
      ]
     },
     "execution_count": 69,
     "metadata": {},
     "output_type": "execute_result"
    },
    {
     "data": {
      "image/png": "[encoded data removed]",
      "text/plain": [
       "<Figure size 432x288 with 1 Axes>"
      ]
     },
     "metadata": {
      "needs_background": "light"
     },
     "output_type": "display_data"
    }
   ],
   "source": [
    "s_df[s_df.category=='PressRelease'].outlet.value_counts()[:30].plot.barh()"
   ]
  },
  {
   "cell_type": "code",
   "execution_count": 54,
   "id": "4de43d16",
   "metadata": {},
   "outputs": [
    {
     "data": {
      "text/plain": [
       "<Axes: ylabel='outlet'>"
      ]
     },
     "execution_count": 54,
     "metadata": {},
     "output_type": "execute_result"
    },
    {
     "data": {
      "image/png": "[encoded data removed]",
      "text/plain": [
       "<Figure size 360x360 with 1 Axes>"
      ]
     },
     "metadata": {
      "needs_background": "light"
     },
     "output_type": "display_data"
    }
   ],
   "source": [
    "s_df[s_df.category=='SciTech'].outlet.value_counts()[:30].plot.barh(figsize=(5,5))"
   ]
  },
  {
   "cell_type": "code",
   "execution_count": 32,
   "id": "68e2af18",
   "metadata": {},
   "outputs": [
    {
     "data": {
      "text/plain": [
       "<Axes: xlabel='distance_to_pr', ylabel='Count'>"
      ]
     },
     "execution_count": 32,
     "metadata": {},
     "output_type": "execute_result"
    },
    {
     "data": {
      "image/png": "[encoded data removed]",
      "text/plain": [
       "<Figure size 432x288 with 1 Axes>"
      ]
     },
     "metadata": {
      "needs_background": "light"
     },
     "output_type": "display_data"
    }
   ],
   "source": [
    "sns.histplot(s_df[s_df.category!='PressRelease'].distance_to_pr, binwidth=50)"
   ]
  },
  {
   "cell_type": "code",
   "execution_count": 1131,
   "id": "d93bd9a4",
   "metadata": {},
   "outputs": [],
   "source": []
  },
  {
   "cell_type": "code",
   "execution_count": 1133,
   "id": "ed0f62ea",
   "metadata": {},
   "outputs": [],
   "source": []
  },
  {
   "cell_type": "code",
   "execution_count": 958,
   "id": "577ca29b",
   "metadata": {},
   "outputs": [
    {
     "name": "stdout",
     "output_type": "stream",
     "text": [
      "1081 5\n"
     ]
    }
   ],
   "source": [
    "\n",
    "s_df['remove'] = [True if re.search('Eyenuk Inc., uma empresa mundial|Kathy O\\'Brien is a certified laughologist|Une seconde mission avait pour|COMMUNIQUE DE PRESSE INFORMATIONS|Science translational medicine', it) else False for it in s_df['raw_text']]\n",
    "s_df['text'] = ['<div style=\"width: 1000px; height: 600px; overflow-y:scroll;\"> Please read the following draft of a science news article and rate the statements below <hr size=\"10\"> <strong>Title: %s</Strong> <br> <hr size=\"2\"> %s </div>'%(clean_title(t),q.replace('\\n','<br>')) for t,q in zip(s_df['Mention title'],s_df['raw_text'])]\n",
    "print(len(s_df[s_df['remove']!=True]), len(s_df[s_df['remove']==True]))\n",
    "s_df[s_df['remove']!=True].to_csv('../annotation/news_values/data_files/news_pair_sample_1000_batch2.csv',index=False)"
   ]
  },
  {
   "cell_type": "code",
   "execution_count": 10,
   "id": "f391929b",
   "metadata": {},
   "outputs": [],
   "source": [
    "def clean_text(te):\n",
    "    te = te.strip()\n",
    "    if re.search('PRNewswire', te):\n",
    "        te = re.split('\\s--[\\s]{0,1}', te)[-1].strip(' -\\n/')\n",
    "        #te = re.split('USNewswire', te)[-1].strip(' -\\n/')\n",
    "        if re.search('You just read:', te):\n",
    "            te = te.split('You just read:')[0]\n",
    "        te = re.split('More news releases in similar topics|original content to download|View original content', te)[0]\n",
    "    if re.search('HealthDay', te):\n",
    "        #te = re.split('\\s--[\\s]{0,1}', te)[-1].strip(' -\\n/')\n",
    "        te = re.split('\\(HealthDay\\)\\s{0,1}--|\\(HealthDay News\\) --', te)[-1].strip(' -\\n/')\n",
    "        te = re.split('\\n\\n\\(c\\)|\\n\\nCopyright|\\n\\nAbstract/Full Text', te)[0]\n",
    "        te = re.sub('\\n\\n.{0,25}--', '--', te)\n",
    "        te = re.split('2018 -- ', te)[-1]\n",
    "    if re.search('^\\(c\\)', te):\n",
    "        te = te.split('\\n\\n\\n\\n')[-1]\n",
    "    if re.search('NEWSWIRE', te):\n",
    "        te = te.split('GLOBE NEWSWIRE')[-1]\n",
    "    if re.search('You are free to share this article',te):\n",
    "        te = re.sub('You are free to share this article under the Attribution 4.0 International license.{0,60}\\n\\n', '', te)\n",
    "    te = re.sub('/ no comments\\n\\n|\\(Newser\\) -||\\(Inside Science\\) -|Newswise --|^.{0,10}\\d{1,4}.{0,10}-|^.{0,50}201[0-9].{0,10}-', '', te).strip('\\n\\) -')\n",
    "    te = re.sub('/ no comments\\n\\n|\\(Newser\\) -||\\(Inside Science\\) -|Newswise --|^.{0,10}\\d{1,4}.{0,10}-|^.{0,50}201[0-9].{0,10}-|Share this\\n\\nArticle Facebook\\n\\nTwitter\\n\\nEmail', '', te).strip('\\n\\) -')\n",
    "    te = re.sub('\\n\\n.{0,12}UPI', '', te)#.strip('\\n\\) -')\n",
    "    te = re.sub('^.{0,30}UPI', '', te).strip('\\n\\) -')\n",
    "    te = re.sub('\\n\\n\\n.{0,60}\\d{4}\\s-', '', te).strip('\\n\\) -')\n",
    "    te = re.sub('Please call 800-589-3331 to upgrade your subscription.','',te)\n",
    "    te = te.split('65 6212 1000')[-1]\n",
    "    te = te.replace('Video and photographs\\n\\nVancouver, BC, August 22nd, 2018 - ','')\n",
    "    te = re.sub('\\n+by\\sStaff\\sWriters\\n+.{0,50}\\d+\\n+|\\n+Published.{0,20}201[0-9].{0,3}\\n+','\\n', te)\n",
    "    te = re.sub('\\n+Released by.{0,50}\\n+|\\n+Patients newly diagnosed with|\\n+[Aa]dvertisement:{0,1}\\n+|\\n+[Aa]dvertisement:{0,1}$|\\n\\n>>.{0,100}\\n\\n|\\n\\nRELATED.{0,100}\\n\\n|\\n\\nRELATED.{0,100}$|\\n\\nMore.{0,100}\\n\\n|\\n+MORE.{0,60}\\n+|\\n\\nMORE.{0,100}$','\\n\\n', te)\n",
    "    te = re.split('\\n\\n\\[Photo via|\\n+Comments\\n+comments|\\n+Written by|\\n\\n---\\n\\n|\\n+A full listing of papers included|\\n+Continue reading|\\n\\nAbstract\\n\\nFull Text\\n\\nEditorial|\\n+For more information|\\n+For additional information|\\n+By\\sMargaret|\\n\\n\\n\\nRelated Links|\\n+By\\sNatalia Sanchez|\\n+c\\s\\d{4}|\\n+Chinese|\\n+Contact|\\n+Media\\sContact|Correspondence|\\n+MEDIA CONTACT|Contact:|\\n+Correction|To learn more about the all-digital|To learn more about Venminder|To learn more about iCivics|Additional risks and uncertainties|\\n+To learn more, please visit|\\n+This article was originally published|\\n#|\\n+More information|\\n+Read next', te)[0]\n",
    "    te = re.split('\\n+Source.{0,300}$|\\n+SOURCE.{0,300}$', te)[0]\n",
    "    te = re.split('\\n+Research\\spaper$', te)[0]\n",
    "    te = te.replace('This article was originally published at The Conversation. The publication contributed the article to Live Science\\'s Expert Voices: Op-Ed & Insights.\\n\\n','')\n",
    "    te = re.split('\\n+\\(\\'You Might Also Like|\\n+Copyright|\\n+This article is republished|\\n+Read more at|\\n+\\(This story was updated|\\n+To view PDF documents',te)[0]\n",
    "    te = te.split('866-893-5722')[-1]\n",
    "    te = re.split('By a News Reporter.{0,100}--|^Screenshot by.{0,50}\\n|^Read Time:\\n+|BUSINESS WIRE\\)--',te)[-1]\n",
    "    te = re.sub('\\n{3,6}','\\n\\n', te)\n",
    "    if re.search('Reuters', te):\n",
    "        te = re.sub('^.{0,60}\\s+-\\s+','', te)\n",
    "        te = te.replace('By Lisa Rapaport\\n\\n(Reuters Health) - ','')\n",
    "        te = te.replace('By Julie Steenhuysen\\n\\nCHICAGO (Reuters) - ','')\n",
    "    te = te.replace('This story was published in partnership with the Trace.','').replace('Embargoed until 4 a.m. CT / 5 a.m. ET Monday, March 26, 2018\\n\\n(NewMediaWire) - March 26, 2018 - DALLAS -','')\n",
    "    if re.search('^.{0,20}-{1,2}',te):\n",
    "        li = 'Washington, D.C. -|WASHINGTON, DC--|STRATFORD -|SALT LAKE CITY --|PARIS, France--|MANHATTAN, Kansas --|ITHACA, N.Y. -|HOUSTON -|CINCINNATI--|NEW YORK --|NEW YORK -|LOUISVILLE, Ky. -|(BRONX, NY)--|AMES, Iowa -|AMES, Iowa --|BINGHAMTON, N.Y. -'\n",
    "        for l in li.split('|'):\n",
    "            te = te.replace(l,'')\n",
    "    return te.strip('#\\n ')\n",
    "\n",
    "def clean_title(te):\n",
    "    te = te.replace('April 30 9:56 AM ','')\n",
    "    return te.strip('#\\n ')\n",
    "\n",
    "def cal_distance(li,s):\n",
    "     return min([lev.distance(l, s) for l in li])\n",
    "\n",
    "\n",
    "\n",
    "def distance_to_pr(df, key = 'cleaned_text'):\n",
    "    pr_dict = defaultdict(list)\n",
    "    for i, row in df.iterrows():\n",
    "        if row['category'] == 'PressRelease':\n",
    "            pr_dict[row['doi']].append(row[key])\n",
    "    \n",
    "    if key != 'cleaned_text':\n",
    "        df['distance_to_pr_raw'] = [cal_distance(pr_dict[row['doi']], row[key]) if (row['doi'] in pr_dict) and row['category'] != 'PressRelease' else None for i, row in tqdm(df.iterrows())]\n",
    "        df['original_pr_raw'] = [pr_dict[row['doi']] if (row['doi'] in pr_dict) and row['category'] != 'PressRelease' and len(pr_dict[row['doi']]) == 1 else None for i, row in df.iterrows()]\n",
    "    else:\n",
    "        df['distance_to_pr'] = [cal_distance(pr_dict[row['doi']], row[key]) if (row['doi'] in pr_dict) and row['category'] != 'PressRelease' else None for i, row in tqdm(df.iterrows())]\n",
    "        df['original_pr'] = [pr_dict[row['doi']] if (row['doi'] in pr_dict) and row['category'] != 'PressRelease' and len(pr_dict[row['doi']]) == 1 else None for i, row in df.iterrows()]\n",
    "    return df"
   ]
  },
  {
   "cell_type": "code",
   "execution_count": 1033,
   "id": "e463773d",
   "metadata": {},
   "outputs": [],
   "source": []
  },
  {
   "cell_type": "code",
   "execution_count": 992,
   "id": "7b74958d",
   "metadata": {},
   "outputs": [
    {
     "data": {
      "text/plain": [
       "coverage_type\n",
       "all_covered           237\n",
       "engineering_sup       181\n",
       "pr_gen_covered        160\n",
       "pr_sci_covered        158\n",
       "social_science_sup     88\n",
       "coverage_10-30_sup     58\n",
       "pr_only_covered        50\n",
       "gen_only_covered       50\n",
       "sci_only_covered       50\n",
       "humanities_sup         28\n",
       "coverage_30_sup        26\n",
       "Name: count, dtype: int64"
      ]
     },
     "execution_count": 992,
     "metadata": {},
     "output_type": "execute_result"
    }
   ],
   "source": [
    "s_df.coverage_type.value_counts()"
   ]
  },
  {
   "cell_type": "code",
   "execution_count": 1034,
   "id": "931c52d2",
   "metadata": {},
   "outputs": [
    {
     "data": {
      "text/plain": [
       "remove\n",
       "False    1027\n",
       "True       71\n",
       "Name: count, dtype: int64"
      ]
     },
     "execution_count": 1034,
     "metadata": {},
     "output_type": "execute_result"
    }
   ],
   "source": [
    "s_df.remove.value_counts()"
   ]
  },
  {
   "cell_type": "code",
   "execution_count": 1004,
   "id": "e6ea11af",
   "metadata": {},
   "outputs": [
    {
     "data": {
      "text/plain": [
       "<Axes: xlabel='distance_to_pr', ylabel='Count'>"
      ]
     },
     "execution_count": 1004,
     "metadata": {},
     "output_type": "execute_result"
    },
    {
     "data": {
      "image/png": "[encoded data removed]",
      "text/plain": [
       "<Figure size 432x288 with 1 Axes>"
      ]
     },
     "metadata": {
      "needs_background": "light"
     },
     "output_type": "display_data"
    }
   ],
   "source": [
    "sns.histplot(s_df[s_df.category!='PressRelease'].distance_to_pr, binwidth=50)"
   ]
  },
  {
   "cell_type": "code",
   "execution_count": 949,
   "id": "a303b1d5",
   "metadata": {},
   "outputs": [
    {
     "data": {
      "text/plain": [
       "[]"
      ]
     },
     "execution_count": 949,
     "metadata": {},
     "output_type": "execute_result"
    }
   ],
   "source": [
    "sorted([clean_title(te) for te in s_df['Mention title'] if re.search(r'Reuters', te)], reverse=True)"
   ]
  },
  {
   "cell_type": "code",
   "execution_count": 957,
   "id": "f921fcc6",
   "metadata": {},
   "outputs": [
    {
     "data": {
      "text/plain": [
       "['n the US, child-resistant packaging for most medications has contributed to the prevention of thousands of pediatric deaths. Nevertheless, over 500,000 calls are made to poison control centers each year after accidental ingestion of medications by young children, and the number of emergency department visits for unsupervised medication ingestions is rising. In a new study scheduled for publication in The Journal of Pediatrics, researchers studied whether adding flow restrictors to bottles can limit the amount of liquid medication a child could access even if child-resistant caps are missing or improperly closed.\\n\\nStandard child-resistant packaging is designed to prevent or delay young children from opening bottles, giving caregivers reasonable time to intervene. However, in order for the packaging to work effectively, \"Caregivers must correctly resecure the cap after each and every use. If the cap is not correctly resecured, children can open and drink whatever medication is in the bottle,\" according to Daniel S. Budnitz, MD, MPH, and colleagues from the Centers for Disease Control and Prevention, Emory University, and the Georgia Poison Center.\\n\\nTo address a potential second line of defense, the researchers studied whether flow restrictors (adapters added to the neck of a bottle to limit the release of liquid) had any effect on the ability of children to remove test liquid, as well as how much they were able to remove in a given amount of time. 110 children, aged 3-4 years, participated in two tests. In one test, the children were given an uncapped medication bottle with a flow restrictor, and in the other test, the children received either a traditional bottle without a cap or with an incompletely-closed child-resistant cap. For each test, children were given 10 minutes to remove as much test liquid as possible.\\n\\nWithin 2 minutes, 96% of bottles without caps and 82% of bottles with incompletely-closed caps were emptied. In contrast, none of the uncapped bottles with flow restrictors were emptied before 6 minutes, and only 6% of children were able to empty bottles with flow restrictors within the 10-minute test period. Overall, older children were more successful than younger children at removing liquid from the flow-resistant bottles. None of the youngest children (36-41 months) were able to remove 5 mL of test liquid, the amount in a standard dose of acetaminophen for a 2- to 3-year-old child.\\n\\nManufacturers voluntarily added flow restrictors to over-the-counter infant acetaminophen in 2011. Based on their effectiveness, the authors suggest that flow restrictors could be added to other liquid medications, especially those harmful in small doses. Importantly, according to study co-author Maribeth C. Lovegrove, MPH, \"Flow restrictors are designed as a secondary barrier and caregivers should not rely on flow restrictors alone; adding flow restrictors could complement the safety provided by current child-resistant packaging.\" Caregiver education should continue to focus on consistently locking child-resistant caps and storing medications away and out of sight of children.']"
      ]
     },
     "execution_count": 957,
     "metadata": {},
     "output_type": "execute_result"
    }
   ],
   "source": [
    "sorted([clean_text(te) for te in s_df['raw_text'] if re.search(r'n the US, child', te)], reverse=True)"
   ]
  },
  {
   "cell_type": "code",
   "execution_count": 997,
   "id": "be61bd11",
   "metadata": {},
   "outputs": [
    {
     "data": {
      "text/plain": [
       "outlet\n",
       "Health Canal                   17\n",
       "Technology Networks            16\n",
       "Benzinga                       14\n",
       "ECN                            10\n",
       "The Epoch Times                 6\n",
       "Tech Xplore                     5\n",
       "Space Daily                     4\n",
       "Headlines & Global News         4\n",
       "Psych Central                   4\n",
       "Drugs.com                       3\n",
       "Doctors Lounge                  3\n",
       "Biospace                        3\n",
       "Science World Report            3\n",
       "My Science                      2\n",
       "Astrobiology Magazine           2\n",
       "Science 2.0                     2\n",
       "Slate Magazine                  1\n",
       "Sign of the Times               1\n",
       "Green Car Congress              1\n",
       "Seed Daily                      1\n",
       "Equities.com                    1\n",
       "Homeland Security News Wire     1\n",
       "Name: count, dtype: int64"
      ]
     },
     "execution_count": 997,
     "metadata": {},
     "output_type": "execute_result"
    }
   ],
   "source": [
    "s_df[s_df['remove']==True].outlet.value_counts()"
   ]
  },
  {
   "cell_type": "code",
   "execution_count": 879,
   "id": "ac2736e8",
   "metadata": {},
   "outputs": [
    {
     "data": {
      "text/plain": [
       "1086"
      ]
     },
     "execution_count": 879,
     "metadata": {},
     "output_type": "execute_result"
    }
   ],
   "source": [
    "len(s_df)"
   ]
  },
  {
   "cell_type": "code",
   "execution_count": 880,
   "id": "c46f97f6",
   "metadata": {},
   "outputs": [
    {
     "data": {
      "text/plain": [
       "<Axes: ylabel='mention_year'>"
      ]
     },
     "execution_count": 880,
     "metadata": {},
     "output_type": "execute_result"
    },
    {
     "data": {
      "image/png": "[encoded data removed]",
      "text/plain": [
       "<Figure size 432x288 with 1 Axes>"
      ]
     },
     "metadata": {
      "needs_background": "light"
     },
     "output_type": "display_data"
    }
   ],
   "source": [
    "s_df['mention_year'].value_counts().plot.barh()"
   ]
  },
  {
   "cell_type": "code",
   "execution_count": 881,
   "id": "6f19274d",
   "metadata": {},
   "outputs": [
    {
     "data": {
      "text/plain": [
       "<Axes: ylabel='mention_year'>"
      ]
     },
     "execution_count": 881,
     "metadata": {},
     "output_type": "execute_result"
    },
    {
     "data": {
      "image/png": "[encoded data removed]",
      "text/plain": [
       "<Figure size 432x288 with 1 Axes>"
      ]
     },
     "metadata": {
      "needs_background": "light"
     },
     "output_type": "display_data"
    }
   ],
   "source": [
    "unique_df['mention_year'].value_counts().plot.barh()"
   ]
  },
  {
   "cell_type": "code",
   "execution_count": 882,
   "id": "d5cd242a",
   "metadata": {},
   "outputs": [
    {
     "data": {
      "text/plain": [
       "109659                PR Newswire\n",
       "865                 Science Daily\n",
       "25724               Science Daily\n",
       "122800                PR Newswire\n",
       "63330                    Nanowerk\n",
       "                   ...           \n",
       "78743                    Newswise\n",
       "114437             Technology.org\n",
       "25873            Health Medicinet\n",
       "122063    7th Space Family Portal\n",
       "88048                    Futurity\n",
       "Name: outlet, Length: 365, dtype: object"
      ]
     },
     "execution_count": 882,
     "metadata": {},
     "output_type": "execute_result"
    }
   ],
   "source": [
    "s_df[(s_df['coverage_type']!='pr_only_covered')&(s_df['category']=='PressRelease')]['outlet']"
   ]
  },
  {
   "cell_type": "code",
   "execution_count": 39,
   "id": "7f1bdd6a",
   "metadata": {},
   "outputs": [
    {
     "data": {
      "text/plain": [
       "5433          Health Medicinet\n",
       "84693                 Newswise\n",
       "48690     Physician's Briefing\n",
       "70037           Technology.org\n",
       "114889                Nanowerk\n",
       "60337                 Newswise\n",
       "131466          Technology.org\n",
       "34806         Health Medicinet\n",
       "100491          Technology.org\n",
       "131338                Nanowerk\n",
       "32295         Health Medicinet\n",
       "99855           Technology.org\n",
       "108939                Futurity\n",
       "100626          Technology.org\n",
       "51174           Technology.org\n",
       "15565         Health Medicinet\n",
       "104496                Nanowerk\n",
       "115873                MIT News\n",
       "60916           Technology.org\n",
       "35469         Health Medicinet\n",
       "36958         Health Medicinet\n",
       "130700          Technology.org\n",
       "39785         Health Medicinet\n",
       "62040           Technology.org\n",
       "109435          Technology.org\n",
       "67135                 Futurity\n",
       "103827          Technology.org\n",
       "82561                 Nanowerk\n",
       "73191                 Newswise\n",
       "78293           Technology.org\n",
       "Name: outlet, dtype: object"
      ]
     },
     "execution_count": 39,
     "metadata": {},
     "output_type": "execute_result"
    }
   ],
   "source": [
    "s_df[(s_df['coverage_type']=='pr_only_covered')&(s_df['category']=='PressRelease')]['outlet']"
   ]
  },
  {
   "cell_type": "code",
   "execution_count": 45,
   "id": "05959740",
   "metadata": {},
   "outputs": [
    {
     "data": {
      "text/html": [
       "<div>\n",
       "<style scoped>\n",
       "    .dataframe tbody tr th:only-of-type {\n",
       "        vertical-align: middle;\n",
       "    }\n",
       "\n",
       "    .dataframe tbody tr th {\n",
       "        vertical-align: top;\n",
       "    }\n",
       "\n",
       "    .dataframe thead th {\n",
       "        text-align: right;\n",
       "    }\n",
       "</style>\n",
       "<table border=\"1\" class=\"dataframe\">\n",
       "  <thead>\n",
       "    <tr style=\"text-align: right;\">\n",
       "      <th></th>\n",
       "      <th>outlet</th>\n",
       "      <th>category</th>\n",
       "      <th>Mention title</th>\n",
       "      <th>coverage_type</th>\n",
       "    </tr>\n",
       "  </thead>\n",
       "  <tbody>\n",
       "    <tr>\n",
       "      <th>129929</th>\n",
       "      <td>The University Herald</td>\n",
       "      <td>General</td>\n",
       "      <td>Preschool Math Should Focus On Patterns Not Nu...</td>\n",
       "      <td>pr_gen_covered</td>\n",
       "    </tr>\n",
       "    <tr>\n",
       "      <th>129928</th>\n",
       "      <td>Futurity</td>\n",
       "      <td>PressRelease</td>\n",
       "      <td>Preschool math should go beyond numbers - Futu...</td>\n",
       "      <td>pr_gen_covered</td>\n",
       "    </tr>\n",
       "    <tr>\n",
       "      <th>5433</th>\n",
       "      <td>Health Medicinet</td>\n",
       "      <td>PressRelease</td>\n",
       "      <td>Ringing in the ears and chronic pain enter by ...</td>\n",
       "      <td>pr_only_covered</td>\n",
       "    </tr>\n",
       "    <tr>\n",
       "      <th>84693</th>\n",
       "      <td>Newswise</td>\n",
       "      <td>PressRelease</td>\n",
       "      <td>Some Children Find It Harder to Understand Wha...</td>\n",
       "      <td>pr_only_covered</td>\n",
       "    </tr>\n",
       "    <tr>\n",
       "      <th>48690</th>\n",
       "      <td>Physician's Briefing</td>\n",
       "      <td>PressRelease</td>\n",
       "      <td>Decrease in Mean Platelet Counts Seen During P...</td>\n",
       "      <td>pr_only_covered</td>\n",
       "    </tr>\n",
       "    <tr>\n",
       "      <th>...</th>\n",
       "      <td>...</td>\n",
       "      <td>...</td>\n",
       "      <td>...</td>\n",
       "      <td>...</td>\n",
       "    </tr>\n",
       "    <tr>\n",
       "      <th>65727</th>\n",
       "      <td>ABC News</td>\n",
       "      <td>General</td>\n",
       "      <td>Curiosity Closer to Finding Habitable Environm...</td>\n",
       "      <td>all_covered</td>\n",
       "    </tr>\n",
       "    <tr>\n",
       "      <th>65725</th>\n",
       "      <td>Technology.org</td>\n",
       "      <td>PressRelease</td>\n",
       "      <td>SwRI scientists publish first radiation measur...</td>\n",
       "      <td>all_covered</td>\n",
       "    </tr>\n",
       "    <tr>\n",
       "      <th>10055</th>\n",
       "      <td>Science/AAAS</td>\n",
       "      <td>SciTech</td>\n",
       "      <td>New Results Send Mars Rover on a Quest for Anc...</td>\n",
       "      <td>all_covered</td>\n",
       "    </tr>\n",
       "    <tr>\n",
       "      <th>88852</th>\n",
       "      <td>Technology.org</td>\n",
       "      <td>PressRelease</td>\n",
       "      <td>When a black hole shreds a star, a bright flar...</td>\n",
       "      <td>pr_sci_covered</td>\n",
       "    </tr>\n",
       "    <tr>\n",
       "      <th>23499</th>\n",
       "      <td>Scientific American</td>\n",
       "      <td>SciTech</td>\n",
       "      <td>Big Gulp: Flaring Galaxy Marks the Messy Demis...</td>\n",
       "      <td>pr_sci_covered</td>\n",
       "    </tr>\n",
       "  </tbody>\n",
       "</table>\n",
       "<p>100 rows × 4 columns</p>\n",
       "</div>"
      ],
      "text/plain": [
       "                       outlet      category   \n",
       "129929  The University Herald       General  \\\n",
       "129928               Futurity  PressRelease   \n",
       "5433         Health Medicinet  PressRelease   \n",
       "84693                Newswise  PressRelease   \n",
       "48690    Physician's Briefing  PressRelease   \n",
       "...                       ...           ...   \n",
       "65727                ABC News       General   \n",
       "65725          Technology.org  PressRelease   \n",
       "10055            Science/AAAS       SciTech   \n",
       "88852          Technology.org  PressRelease   \n",
       "23499     Scientific American       SciTech   \n",
       "\n",
       "                                            Mention title    coverage_type  \n",
       "129929  Preschool Math Should Focus On Patterns Not Nu...   pr_gen_covered  \n",
       "129928  Preschool math should go beyond numbers - Futu...   pr_gen_covered  \n",
       "5433    Ringing in the ears and chronic pain enter by ...  pr_only_covered  \n",
       "84693   Some Children Find It Harder to Understand Wha...  pr_only_covered  \n",
       "48690   Decrease in Mean Platelet Counts Seen During P...  pr_only_covered  \n",
       "...                                                   ...              ...  \n",
       "65727   Curiosity Closer to Finding Habitable Environm...      all_covered  \n",
       "65725   SwRI scientists publish first radiation measur...      all_covered  \n",
       "10055   New Results Send Mars Rover on a Quest for Anc...      all_covered  \n",
       "88852   When a black hole shreds a star, a bright flar...   pr_sci_covered  \n",
       "23499   Big Gulp: Flaring Galaxy Marks the Messy Demis...   pr_sci_covered  \n",
       "\n",
       "[100 rows x 4 columns]"
      ]
     },
     "execution_count": 45,
     "metadata": {},
     "output_type": "execute_result"
    }
   ],
   "source": [
    "s_df[['outlet','category','Mention title','coverage_type']]"
   ]
  },
  {
   "cell_type": "code",
   "execution_count": 883,
   "id": "5cbf5dc0",
   "metadata": {},
   "outputs": [
    {
     "data": {
      "text/plain": [
       "outlet\n",
       "Science Daily        162\n",
       "Technology.org        49\n",
       "Newswise              45\n",
       "Health Canal          37\n",
       "Nanowerk              33\n",
       "                    ... \n",
       "Houston Chronicle      1\n",
       "Action News Now        1\n",
       "Lifehacker             1\n",
       "The Columbian          1\n",
       "The ASCO Post          1\n",
       "Name: count, Length: 158, dtype: int64"
      ]
     },
     "execution_count": 883,
     "metadata": {},
     "output_type": "execute_result"
    }
   ],
   "source": [
    "s_df['outlet'].value_counts()"
   ]
  },
  {
   "cell_type": "code",
   "execution_count": 967,
   "id": "7bfe8ba9",
   "metadata": {},
   "outputs": [
    {
     "data": {
      "text/plain": [
       "27191      pr_only_covered\n",
       "109660      pr_gen_covered\n",
       "109659      pr_gen_covered\n",
       "50814      engineering_sup\n",
       "865        engineering_sup\n",
       "                ...       \n",
       "2674       pr_only_covered\n",
       "105668    sci_only_covered\n",
       "88050          all_covered\n",
       "88048          all_covered\n",
       "88051          all_covered\n",
       "Name: coverage_type, Length: 1086, dtype: object"
      ]
     },
     "execution_count": 967,
     "metadata": {},
     "output_type": "execute_result"
    }
   ],
   "source": [
    "s_df['coverage_type']"
   ]
  },
  {
   "cell_type": "code",
   "execution_count": 969,
   "id": "9be9416d",
   "metadata": {},
   "outputs": [],
   "source": [
    "s_df.sort_values('doi')[['doi','cleaned_text','Mention title','distance_to_pr','coverage_type']].to_csv('batch_1_cleaned.csv')"
   ]
  },
  {
   "cell_type": "code",
   "execution_count": 57,
   "id": "b23bfd85",
   "metadata": {},
   "outputs": [
    {
     "data": {
      "text/plain": [
       "'http://www.sciencedaily.com/releases/2014/04/140418141121.htm?utm_source=feedburner&utm_medium=feed&utm_campaign=Feed%3A+sciencedaily+%28Latest+Science+News+--+ScienceDaily%29'"
      ]
     },
     "execution_count": 57,
     "metadata": {},
     "output_type": "execute_result"
    }
   ],
   "source": [
    "df[df['outlet'] == 'Science Daily']['url'][4]"
   ]
  },
  {
   "cell_type": "code",
   "execution_count": null,
   "id": "0da4339b",
   "metadata": {},
   "outputs": [],
   "source": [
    "# sample data for full batch 1\n",
    "# more balanced outlets, especially for PR\n",
    "# also include PR that are not covered in news \n",
    "cv_dict = {}\n",
    "cv_dict['all_covered'] = re_df[(re_df.PressRelease!=0)&((re_df.General!=0)&(re_df.SciTech!=0))].sample(80)\n",
    "cv_dict['pr_sci_covered'] = re_df[(re_df.PressRelease!=0)&((re_df.General==0)&(re_df.SciTech!=0))].sample(80)\n",
    "cv_dict['pr_gen_covered'] = re_df[(re_df.PressRelease!=0)&((re_df.General!=0)&(re_df.SciTech==0))].sample(80)\n",
    "cv_dict['pr_only_covered'] = re_df[(re_df.PressRelease!=0)&((re_df.General==0)&(re_df.SciTech==0))].sample(50)\n",
    "cv_dict['gen_only_covered'] = re_df[(re_df.PressRelease==0)&((re_df.General!=0)&(re_df.SciTech==0))].sample(50)\n",
    "cv_dict['sci_only_covered'] = re_df[(re_df.PressRelease==0)&((re_df.General==0)&(re_df.SciTech!=0))].sample(50)\n",
    "cv_dict['social_science_sup'] = unique_df[(unique_df.big_field=='Social Science')].sample(50)\n",
    "cv_dict['engineering_sup'] = unique_df[(unique_df.big_field=='Engineering')].sample(100)\n",
    "cv_dict['humanities_sup'] = unique_df[(unique_df.big_field=='Humanities')&(unique_df.single_field!='Law')].sample(30)\n",
    "cv_dict['coverage_10-30_sup'] = unique_df[(unique_df.coverage_cnt>10)&(unique_df.coverage_cnt<=30)].sample(20)\n",
    "cv_dict['coverage_30_sup'] = unique_df[(unique_df.coverage_cnt>30)].sample(10)\n",
    "\n",
    "\n",
    "sel_dois = set(pd.concat([cv_dict['all_covered'], cv_dict['pr_sci_covered'], cv_dict['pr_gen_covered'], cv_dict['pr_only_covered'], cv_dict['gen_only_covered'], \n",
    "                          cv_dict['sci_only_covered'], cv_dict['social_science_sup'], cv_dict['engineering_sup'], cv_dict['humanities_sup'], cv_dict['coverage_10-30_sup'], cv_dict['coverage_30_sup']])['doi'])\n",
    "\n",
    "print(len(sel_dois))\n",
    "\n",
    "doi2type = {}\n",
    "for key,value in cv_dict.items():\n",
    "    for doi in value['doi']:\n",
    "        doi2type[doi] = key\n",
    "\n",
    "s_df = sample_from_dois(unique_df, sel_dois)\n",
    "s_df['coverage_type'] = [doi2type[doi] for doi in s_df['doi']]"
   ]
  },
  {
   "cell_type": "code",
   "execution_count": 92,
   "id": "8b503e96",
   "metadata": {},
   "outputs": [],
   "source": [
    "def load_jsonl_folder(folder_path):\n",
    "    # Get a list of all files in the folder with the .jsonl extension\n",
    "    jsonl_files = [file for file in os.listdir(folder_path) if file.endswith('.jsonl')]\n",
    "    \n",
    "    # Initialize an empty list to store the data from all JSONL files\n",
    "    all_data = []\n",
    "    \n",
    "    # Loop through each JSONL file and load its contents\n",
    "    for file_name in tqdm(jsonl_files):\n",
    "        file_path = os.path.join(folder_path, file_name)\n",
    "        with open(file_path, 'r') as file:\n",
    "            lines = file.readlines()\n",
    "            for line in lines:\n",
    "                try:\n",
    "                    data = pd.read_json(line, lines=True)\n",
    "                    all_data.append(data)\n",
    "                except:\n",
    "                    print(file_path)\n",
    "    \n",
    "    # Concatenate all loaded data into a single DataFrame\n",
    "    df = pd.concat(all_data, ignore_index=True)\n",
    "    \n",
    "    return df\n",
    "\n",
    "def process_eurek(df):\n",
    "    df = pd.concat([df, pd.DataFrame().from_records(list(df.media_contact))] , axis=1)\n",
    "    df['from_university'] = [str(it)[-4:]=='.edu' for it in list(df['email'])]\n",
    "    df['release_year'] = [str(it)[-4:] for it in df.release_date]\n",
    "    df['doi'] = [str(it)[18:] if len(str(it))>4 else np.nan for it in tqdm(df['related_journal_article_link'])]\n",
    "    \n",
    "    return df\n",
    "\n",
    "def get_eurek_dict(df):\n",
    "    res = {}\n",
    "    for i,row in df.iterrows():\n",
    "        res[row['doi']] = dict(row)\n",
    "    return res\n",
    "\n",
    "def attach_eurek_data(df, eurek_dict):\n",
    "    res = defaultdict(list)\n",
    "    for doi in tqdm(df['doi']):\n",
    "        if doi in eurek_dict:\n",
    "            for key in ['page_title', 'full_text', 'keywords']:\n",
    "                res[key].append(eurek_dict[doi][key])\n",
    "        else:\n",
    "            for key in ['page_title', 'full_text', 'keywords']:\n",
    "                res[key].append(np.nan)\n",
    "    for key in res:\n",
    "        df[key] = res[key]\n",
    "    print(len(df[~df['page_title'].isna()]))\n",
    "    return df"
   ]
  },
  {
   "cell_type": "code",
   "execution_count": 61,
   "id": "85001a41",
   "metadata": {},
   "outputs": [
    {
     "name": "stderr",
     "output_type": "stream",
     "text": [
      " 28%|██▊       | 30/107 [03:07<07:12,  5.62s/it]"
     ]
    },
    {
     "name": "stdout",
     "output_type": "stream",
     "text": [
      "/shared/3/projects/jiaxin/datasets/eurekalert/wget/archive.eurekalert.org/extracted4match/2014-06.jsonl\n"
     ]
    },
    {
     "name": "stderr",
     "output_type": "stream",
     "text": [
      "100%|██████████| 107/107 [12:22<00:00,  6.94s/it]\n"
     ]
    }
   ],
   "source": [
    "folder_path = '/shared/3/projects/jiaxin/datasets/eurekalert/wget/archive.eurekalert.org/extracted4match/'\n",
    "eurek = load_jsonl_folder(folder_path)"
   ]
  },
  {
   "cell_type": "code",
   "execution_count": 63,
   "id": "97a9f45a",
   "metadata": {},
   "outputs": [
    {
     "name": "stderr",
     "output_type": "stream",
     "text": [
      "100%|██████████| 261542/261542 [00:00<00:00, 1014768.11it/s]\n"
     ]
    }
   ],
   "source": [
    "eurek = process_eurek(eurek)"
   ]
  },
  {
   "cell_type": "code",
   "execution_count": 81,
   "id": "b2ffd18a",
   "metadata": {},
   "outputs": [],
   "source": [
    "eurek_dois = set(eurek['doi'])\n",
    "eurek_dict = get_eurek_dict(eurek)"
   ]
  },
  {
   "cell_type": "code",
   "execution_count": 95,
   "id": "efda8abc",
   "metadata": {},
   "outputs": [
    {
     "name": "stderr",
     "output_type": "stream",
     "text": [
      "100%|██████████| 125685/125685 [00:00<00:00, 635689.12it/s]\n"
     ]
    },
    {
     "name": "stdout",
     "output_type": "stream",
     "text": [
      "28596\n"
     ]
    }
   ],
   "source": [
    "unique_df = attach_eurek_data(unique_df, eurek_dict)"
   ]
  },
  {
   "cell_type": "code",
   "execution_count": 134,
   "id": "d8f9b521",
   "metadata": {},
   "outputs": [
    {
     "data": {
      "text/plain": [
       "0.18277881663902903"
      ]
     },
     "execution_count": 134,
     "metadata": {},
     "output_type": "execute_result"
    }
   ],
   "source": [
    "len(set(unique_df.doi) & eurek_dois) / len(set(unique_df.doi))"
   ]
  },
  {
   "cell_type": "code",
   "execution_count": 135,
   "id": "ac836943",
   "metadata": {},
   "outputs": [
    {
     "data": {
      "text/plain": [
       "0.2653179190751445"
      ]
     },
     "execution_count": 135,
     "metadata": {},
     "output_type": "execute_result"
    }
   ],
   "source": [
    "4131 / len(unique_df[(unique_df['outlet']=='Science Daily')])"
   ]
  },
  {
   "cell_type": "code",
   "execution_count": 146,
   "id": "cf8044f1",
   "metadata": {},
   "outputs": [
    {
     "data": {
      "text/plain": [
       "0.1794089550399063"
      ]
     },
     "execution_count": 146,
     "metadata": {},
     "output_type": "execute_result"
    }
   ],
   "source": [
    "len(unique_df[(unique_df['category']=='General')&(~unique_df['page_title'].isna())]) / len(unique_df[(unique_df['category']=='General')])"
   ]
  },
  {
   "cell_type": "code",
   "execution_count": 142,
   "id": "1a14f711",
   "metadata": {},
   "outputs": [],
   "source": [
    "tt_df = unique_df[(unique_df['category']=='General')&(~unique_df['page_title'].isna())]"
   ]
  },
  {
   "cell_type": "code",
   "execution_count": 139,
   "id": "1c301816",
   "metadata": {},
   "outputs": [
    {
     "name": "stderr",
     "output_type": "stream",
     "text": [
      "<ipython-input-139-22727719097c>:1: SettingWithCopyWarning: \n",
      "A value is trying to be set on a copy of a slice from a DataFrame.\n",
      "Try using .loc[row_indexer,col_indexer] = value instead\n",
      "\n",
      "See the caveats in the documentation: https://pandas.pydata.org/pandas-docs/stable/user_guide/indexing.html#returning-a-view-versus-a-copy\n",
      "  tt_df['page_title'] = [it.strip() for it in tt_df['page_title']]\n",
      "<ipython-input-139-22727719097c>:2: SettingWithCopyWarning: \n",
      "A value is trying to be set on a copy of a slice from a DataFrame.\n",
      "Try using .loc[row_indexer,col_indexer] = value instead\n",
      "\n",
      "See the caveats in the documentation: https://pandas.pydata.org/pandas-docs/stable/user_guide/indexing.html#returning-a-view-versus-a-copy\n",
      "  tt_df['Mention title'] = [it.replace(' -- ScienceDaily','') for it in tt_df['Mention title']]\n"
     ]
    }
   ],
   "source": [
    "tt_df['page_title'] = [it.strip() for it in tt_df['page_title']]\n",
    "tt_df['Mention title'] = [it.replace(' -- ScienceDaily','') for it in tt_df['Mention title']]"
   ]
  },
  {
   "cell_type": "code",
   "execution_count": 143,
   "id": "0d44c102",
   "metadata": {},
   "outputs": [
    {
     "data": {
      "text/html": [
       "<div>\n",
       "<style scoped>\n",
       "    .dataframe tbody tr th:only-of-type {\n",
       "        vertical-align: middle;\n",
       "    }\n",
       "\n",
       "    .dataframe tbody tr th {\n",
       "        vertical-align: top;\n",
       "    }\n",
       "\n",
       "    .dataframe thead th {\n",
       "        text-align: right;\n",
       "    }\n",
       "</style>\n",
       "<table border=\"1\" class=\"dataframe\">\n",
       "  <thead>\n",
       "    <tr style=\"text-align: right;\">\n",
       "      <th></th>\n",
       "      <th>Mention title</th>\n",
       "      <th>page_title</th>\n",
       "    </tr>\n",
       "  </thead>\n",
       "  <tbody>\n",
       "    <tr>\n",
       "      <th>6</th>\n",
       "      <td>Scientists Hope Lab-Grown Embryos Can Save Rhi...</td>\n",
       "      <td>A breakthrough to rescue the Northern White Rhino</td>\n",
       "    </tr>\n",
       "    <tr>\n",
       "      <th>7</th>\n",
       "      <td>Northern White Rhino: World's Most Endangered ...</td>\n",
       "      <td>A breakthrough to rescue the Northern White Rhino</td>\n",
       "    </tr>\n",
       "    <tr>\n",
       "      <th>8</th>\n",
       "      <td>Scientists hope test-tube embryos can save nea...</td>\n",
       "      <td>A breakthrough to rescue the Northern White Rhino</td>\n",
       "    </tr>\n",
       "    <tr>\n",
       "      <th>9</th>\n",
       "      <td>Saving The Northern White Rhino's Genes Is Imp...</td>\n",
       "      <td>A breakthrough to rescue the Northern White Rhino</td>\n",
       "    </tr>\n",
       "    <tr>\n",
       "      <th>10</th>\n",
       "      <td>IVF Could Resurrect Functionally-Extinct North...</td>\n",
       "      <td>A breakthrough to rescue the Northern White Rhino</td>\n",
       "    </tr>\n",
       "    <tr>\n",
       "      <th>...</th>\n",
       "      <td>...</td>\n",
       "      <td>...</td>\n",
       "    </tr>\n",
       "    <tr>\n",
       "      <th>133602</th>\n",
       "      <td>Study shows money linked to happiness, but onl...</td>\n",
       "      <td>Money only buys happiness for a certain amount</td>\n",
       "    </tr>\n",
       "    <tr>\n",
       "      <th>133604</th>\n",
       "      <td>The World Is Still at Record Levels of Sadness...</td>\n",
       "      <td>Money only buys happiness for a certain amount</td>\n",
       "    </tr>\n",
       "    <tr>\n",
       "      <th>133664</th>\n",
       "      <td>Renewable Energy Linked To A 5.5 Mag Earthquak...</td>\n",
       "      <td>Mw 5.4 Pohang earthquake tied to geothermal ac...</td>\n",
       "    </tr>\n",
       "    <tr>\n",
       "      <th>133665</th>\n",
       "      <td>Earthquakes from underground water injection c...</td>\n",
       "      <td>Mw 5.4 Pohang earthquake tied to geothermal ac...</td>\n",
       "    </tr>\n",
       "    <tr>\n",
       "      <th>133669</th>\n",
       "      <td>Kanazawa University Research: High-precision O...</td>\n",
       "      <td>High-precision on-site analysis of precious me...</td>\n",
       "    </tr>\n",
       "  </tbody>\n",
       "</table>\n",
       "<p>5822 rows × 2 columns</p>\n",
       "</div>"
      ],
      "text/plain": [
       "                                            Mention title  \\\n",
       "6       Scientists Hope Lab-Grown Embryos Can Save Rhi...   \n",
       "7       Northern White Rhino: World's Most Endangered ...   \n",
       "8       Scientists hope test-tube embryos can save nea...   \n",
       "9       Saving The Northern White Rhino's Genes Is Imp...   \n",
       "10      IVF Could Resurrect Functionally-Extinct North...   \n",
       "...                                                   ...   \n",
       "133602  Study shows money linked to happiness, but onl...   \n",
       "133604  The World Is Still at Record Levels of Sadness...   \n",
       "133664  Renewable Energy Linked To A 5.5 Mag Earthquak...   \n",
       "133665  Earthquakes from underground water injection c...   \n",
       "133669  Kanazawa University Research: High-precision O...   \n",
       "\n",
       "                                               page_title  \n",
       "6       A breakthrough to rescue the Northern White Rhino  \n",
       "7       A breakthrough to rescue the Northern White Rhino  \n",
       "8       A breakthrough to rescue the Northern White Rhino  \n",
       "9       A breakthrough to rescue the Northern White Rhino  \n",
       "10      A breakthrough to rescue the Northern White Rhino  \n",
       "...                                                   ...  \n",
       "133602     Money only buys happiness for a certain amount  \n",
       "133604     Money only buys happiness for a certain amount  \n",
       "133664  Mw 5.4 Pohang earthquake tied to geothermal ac...  \n",
       "133665  Mw 5.4 Pohang earthquake tied to geothermal ac...  \n",
       "133669  High-precision on-site analysis of precious me...  \n",
       "\n",
       "[5822 rows x 2 columns]"
      ]
     },
     "execution_count": 143,
     "metadata": {},
     "output_type": "execute_result"
    }
   ],
   "source": [
    "tt_df[['Mention title', 'page_title']]"
   ]
  },
  {
   "cell_type": "code",
   "execution_count": 144,
   "id": "bac39baa",
   "metadata": {},
   "outputs": [
    {
     "data": {
      "text/html": [
       "<div>\n",
       "<style scoped>\n",
       "    .dataframe tbody tr th:only-of-type {\n",
       "        vertical-align: middle;\n",
       "    }\n",
       "\n",
       "    .dataframe tbody tr th {\n",
       "        vertical-align: top;\n",
       "    }\n",
       "\n",
       "    .dataframe thead th {\n",
       "        text-align: right;\n",
       "    }\n",
       "</style>\n",
       "<table border=\"1\" class=\"dataframe\">\n",
       "  <thead>\n",
       "    <tr style=\"text-align: right;\">\n",
       "      <th></th>\n",
       "      <th>Mention title</th>\n",
       "      <th>page_title</th>\n",
       "    </tr>\n",
       "  </thead>\n",
       "  <tbody>\n",
       "    <tr>\n",
       "      <th>6</th>\n",
       "      <td>Scientists Hope Lab-Grown Embryos Can Save Rhi...</td>\n",
       "      <td>A breakthrough to rescue the Northern White Rhino</td>\n",
       "    </tr>\n",
       "    <tr>\n",
       "      <th>7</th>\n",
       "      <td>Northern White Rhino: World's Most Endangered ...</td>\n",
       "      <td>A breakthrough to rescue the Northern White Rhino</td>\n",
       "    </tr>\n",
       "    <tr>\n",
       "      <th>8</th>\n",
       "      <td>Scientists hope test-tube embryos can save nea...</td>\n",
       "      <td>A breakthrough to rescue the Northern White Rhino</td>\n",
       "    </tr>\n",
       "    <tr>\n",
       "      <th>9</th>\n",
       "      <td>Saving The Northern White Rhino's Genes Is Imp...</td>\n",
       "      <td>A breakthrough to rescue the Northern White Rhino</td>\n",
       "    </tr>\n",
       "    <tr>\n",
       "      <th>10</th>\n",
       "      <td>IVF Could Resurrect Functionally-Extinct North...</td>\n",
       "      <td>A breakthrough to rescue the Northern White Rhino</td>\n",
       "    </tr>\n",
       "    <tr>\n",
       "      <th>...</th>\n",
       "      <td>...</td>\n",
       "      <td>...</td>\n",
       "    </tr>\n",
       "    <tr>\n",
       "      <th>133602</th>\n",
       "      <td>Study shows money linked to happiness, but onl...</td>\n",
       "      <td>Money only buys happiness for a certain amount</td>\n",
       "    </tr>\n",
       "    <tr>\n",
       "      <th>133604</th>\n",
       "      <td>The World Is Still at Record Levels of Sadness...</td>\n",
       "      <td>Money only buys happiness for a certain amount</td>\n",
       "    </tr>\n",
       "    <tr>\n",
       "      <th>133664</th>\n",
       "      <td>Renewable Energy Linked To A 5.5 Mag Earthquak...</td>\n",
       "      <td>Mw 5.4 Pohang earthquake tied to geothermal ac...</td>\n",
       "    </tr>\n",
       "    <tr>\n",
       "      <th>133665</th>\n",
       "      <td>Earthquakes from underground water injection c...</td>\n",
       "      <td>Mw 5.4 Pohang earthquake tied to geothermal ac...</td>\n",
       "    </tr>\n",
       "    <tr>\n",
       "      <th>133669</th>\n",
       "      <td>Kanazawa University Research: High-precision O...</td>\n",
       "      <td>High-precision on-site analysis of precious me...</td>\n",
       "    </tr>\n",
       "  </tbody>\n",
       "</table>\n",
       "<p>5778 rows × 2 columns</p>\n",
       "</div>"
      ],
      "text/plain": [
       "                                            Mention title  \\\n",
       "6       Scientists Hope Lab-Grown Embryos Can Save Rhi...   \n",
       "7       Northern White Rhino: World's Most Endangered ...   \n",
       "8       Scientists hope test-tube embryos can save nea...   \n",
       "9       Saving The Northern White Rhino's Genes Is Imp...   \n",
       "10      IVF Could Resurrect Functionally-Extinct North...   \n",
       "...                                                   ...   \n",
       "133602  Study shows money linked to happiness, but onl...   \n",
       "133604  The World Is Still at Record Levels of Sadness...   \n",
       "133664  Renewable Energy Linked To A 5.5 Mag Earthquak...   \n",
       "133665  Earthquakes from underground water injection c...   \n",
       "133669  Kanazawa University Research: High-precision O...   \n",
       "\n",
       "                                               page_title  \n",
       "6       A breakthrough to rescue the Northern White Rhino  \n",
       "7       A breakthrough to rescue the Northern White Rhino  \n",
       "8       A breakthrough to rescue the Northern White Rhino  \n",
       "9       A breakthrough to rescue the Northern White Rhino  \n",
       "10      A breakthrough to rescue the Northern White Rhino  \n",
       "...                                                   ...  \n",
       "133602     Money only buys happiness for a certain amount  \n",
       "133604     Money only buys happiness for a certain amount  \n",
       "133664  Mw 5.4 Pohang earthquake tied to geothermal ac...  \n",
       "133665  Mw 5.4 Pohang earthquake tied to geothermal ac...  \n",
       "133669  High-precision on-site analysis of precious me...  \n",
       "\n",
       "[5778 rows x 2 columns]"
      ]
     },
     "execution_count": 144,
     "metadata": {},
     "output_type": "execute_result"
    }
   ],
   "source": [
    "tt_df[tt_df['Mention title']!=tt_df['page_title']][['Mention title', 'page_title']]"
   ]
  },
  {
   "cell_type": "code",
   "execution_count": 147,
   "id": "a75e04ed",
   "metadata": {},
   "outputs": [
    {
     "data": {
      "text/plain": [
       "0.992442459635864"
      ]
     },
     "execution_count": 147,
     "metadata": {},
     "output_type": "execute_result"
    }
   ],
   "source": [
    "5778 / 5822"
   ]
  },
  {
   "cell_type": "code",
   "execution_count": 129,
   "id": "dca10054",
   "metadata": {},
   "outputs": [
    {
     "data": {
      "text/plain": [
       "['A breakthrough to rescue the Northern White Rhino: First ever hybrid embryo produced outside the womb',\n",
       " 'Could a particle accelerator using laser-driven implosion become a reality? Scientists discover new particle acceleration by micro-bubbles',\n",
       " 'The universality of shame',\n",
       " \"Skin's immune 'alarm' may explain light-induced rashes in lupus patients: Researchers are studying an overabundant signaling protein tied to UV light sensitivity in patients with lupus\",\n",
       " 'Next 5 years predicted to be abnormally hot',\n",
       " \"Study unlocks full potential of 'supermaterial' graphene: Researchers remove silicon contamination from graphene to double its performance\",\n",
       " 'How fruits got their eye-catching colors: Fruits owe their rainbow of colors to the various animals that eat them',\n",
       " 'Like mountaineers, nerves need expert guidance to find their way: Scientists discover that motor neurons receive a multitude of cues to successfully navigate to their destinations in the body',\n",
       " 'Why chikungunya, other arthritis-causing viruses target joints: Study finds molecular handle that viruses use to get inside certain cells',\n",
       " 'Target for chikungunya treatment',\n",
       " 'Engineering a plastic-eating enzyme',\n",
       " 'Moving a cardiac regulatory protein to the right place',\n",
       " 'Rare pediatric skin conditions often get expensive, inconsistent care: More research needed on Stevens-Johnson syndrome, toxic epidermal necrolysis in children',\n",
       " '3D-printed smart gel that walks underwater, moves objects: New technology has biomedical, soft robot and other applications',\n",
       " \"Neanderthals' main food source was definitely meat: Isotope analyses performed on single amino acids in Neanderthals' collagen samples shed new light on their debated diet\",\n",
       " 'Asian elephants could be the math kings of the jungle: Experimental evidence shows that Asian elephants possess numerical skills similar to those in humans',\n",
       " 'Measles vaccination linked to health and schooling benefits',\n",
       " 'Fuels from air-conditioning systems',\n",
       " 'New model predicts how ground shipping will affect future human health, environment',\n",
       " 'Machine learning links dimensions of mental illness to abnormalities of brain networks: Penn study pinpoints four brain-guided dimensions of psychopathology -- mood, psychosis, fear, and disruptive behavior']"
      ]
     },
     "execution_count": 129,
     "metadata": {},
     "output_type": "execute_result"
    }
   ],
   "source": [
    "list(tt_df[tt_df['Mention title']!=tt_df['page_title']][['Mention title', 'page_title']]['Mention title'])[:20]"
   ]
  },
  {
   "cell_type": "code",
   "execution_count": 130,
   "id": "ec58a6f8",
   "metadata": {},
   "outputs": [
    {
     "data": {
      "text/plain": [
       "['A breakthrough to rescue the Northern White Rhino',\n",
       " 'Could a particle accelerator using laser-driven implosion become a reality?',\n",
       " 'The value of pride',\n",
       " \"Skin's immune 'alarm' may explain light-induced rashes in lupus patients\",\n",
       " '2018-2022 expected to be abnormally hot years',\n",
       " \"Study unlocks full potential of 'supermaterial' graphene\",\n",
       " 'How fruits got their eye-catching colors',\n",
       " 'Like mountaineers, nerves need expert guidance to find their way',\n",
       " 'NIH-funded researchers identify target for chikungunya treatment',\n",
       " 'NIH-funded researchers identify target for chikungunya treatment',\n",
       " 'Research enhances enzyme that degrades plastic',\n",
       " 'Of hearts and giants: Moving a cardiac regulatory protein to the right place',\n",
       " 'Rare pediatric skin conditions often get expensive, inconsistent care',\n",
       " 'Rutgers researchers create a 3D-printed smart gel that walks underwater, moves objects',\n",
       " \"Neandertals' main food source was definitely meat\",\n",
       " 'Asian elephants could be the maths kings of the jungle',\n",
       " 'Measles vaccination linked to health & schooling benefits among children in LMICS',\n",
       " 'Crowd oil -- Fuels from air-conditioning systems',\n",
       " 'With uncanny accuracy, computer model predicts how certain policies impact air pollution',\n",
       " 'Machine learning links dimensions of mental illness to abnormalities of brain networks']"
      ]
     },
     "execution_count": 130,
     "metadata": {},
     "output_type": "execute_result"
    }
   ],
   "source": [
    "list(tt_df[tt_df['Mention title']!=tt_df['page_title']][['Mention title', 'page_title']]['page_title'])[:20]"
   ]
  },
  {
   "cell_type": "code",
   "execution_count": 137,
   "id": "ff200624",
   "metadata": {},
   "outputs": [],
   "source": [
    "tt_df[tt_df['Mention title']!=tt_df['page_title']][['Mention title', 'page_title']].to_csv('../data/science_daily_unmatched_sample.csv', index=False)"
   ]
  },
  {
   "cell_type": "code",
   "execution_count": null,
   "id": "4b72072f",
   "metadata": {},
   "outputs": [],
   "source": []
  }
 ],
 "metadata": {
  "kernelspec": {
   "display_name": "Python 3",
   "language": "python",
   "name": "python3"
  },
  "language_info": {
   "codemirror_mode": {
    "name": "ipython",
    "version": 3
   },
   "file_extension": ".py",
   "mimetype": "text/x-python",
   "name": "python",
   "nbconvert_exporter": "python",
   "pygments_lexer": "ipython3",
   "version": "3.9.12"
  }
 },
 "nbformat": 4,
 "nbformat_minor": 5
}
