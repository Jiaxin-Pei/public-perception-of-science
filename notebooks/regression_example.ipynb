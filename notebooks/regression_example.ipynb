{
 "cells": [
  {
   "cell_type": "code",
   "execution_count": 1,
   "id": "a540cced-a861-4878-adac-38ee5eb97240",
   "metadata": {},
   "outputs": [
    {
     "name": "stdout",
     "output_type": "stream",
     "text": [
      "[2023-11-15 05:08:46,247] [INFO] [real_accelerator.py:158:get_accelerator] Setting ds_accelerator to cuda (auto detect)\n"
     ]
    }
   ],
   "source": [
    "\n",
    "from inference import Estimator\n",
    "import os"
   ]
  },
  {
   "cell_type": "code",
   "execution_count": 2,
   "id": "6d0a1fee-bea7-4644-b98e-4b8b87bb1bdc",
   "metadata": {},
   "outputs": [],
   "source": [
    "statements = ['General news outlets', 'A public segment', 'Finding is surprising to me', 'Needs specialized knowledge', 'News story is exaggerated', 'My social media feed', \"Shouldn't be public outside science\", 'Tackles an important issue', 'Would share on wider forum', 'Unlikely to share', 'Other popular media', 'Sci-Tech media', 'Popular print media', 'I understand the news story', 'I learned something useful', 'Should be published in news', 'General public', 'News story is fun to read', 'Policy makers', 'Could benefit many people', 'Related industry companies', 'Would share directly', 'News story is interesting to me', 'Could interest the general public', 'Finding could be controversial']\n",
    "def get_news_values(texts):\n",
    "    os.environ[\"CUDA_DEVICE_ORDER\"]=\"PCI_BUS_ID\"   \n",
    "    os.environ[\"CUDA_VISIBLE_DEVICES\"]=\"1\"\n",
    "    model = Estimator(tokenizer='roberta-large', model='../models/src/new_model/roberta-large-seeds/0/best_model',num_labels=len(statements),cuda = False)\n",
    "    return model.predict(texts)"
   ]
  },
  {
   "cell_type": "code",
   "execution_count": null,
   "id": "f6692301-4656-4036-9f7f-b917f846c554",
   "metadata": {},
   "outputs": [],
   "source": []
  },
  {
   "cell_type": "code",
   "execution_count": 3,
   "id": "bdc64dfe-b95b-4893-b3d9-a1237ad39b10",
   "metadata": {},
   "outputs": [
    {
     "name": "stderr",
     "output_type": "stream",
     "text": [
      "0it [00:00, ?it/s]"
     ]
    },
    {
     "name": "stdout",
     "output_type": "stream",
     "text": [
      "start tokenizing 1 lines of text\n"
     ]
    },
    {
     "name": "stderr",
     "output_type": "stream",
     "text": [
      "/opt/anaconda/lib/python3.9/site-packages/torch/nn/parallel/data_parallel.py:32: UserWarning: \n",
      "    There is an imbalance between your GPUs. You may want to exclude GPU 2 which\n",
      "    has less than 75% of the memory or cores of GPU 0. You can do so by setting\n",
      "    the device_ids argument to DataParallel, or by setting the CUDA_VISIBLE_DEVICES\n",
      "    environment variable.\n",
      "  warnings.warn(imbalance_warn.format(device_ids[min_pos], device_ids[max_pos]))\n",
      "/opt/anaconda/lib/python3.9/site-packages/torch/nn/parallel/_functions.py:68: UserWarning: Was asked to gather along dimension 0, but all input tensors were scalars; will instead unsqueeze and return a vector.\n",
      "  warnings.warn('Was asked to gather along dimension 0, but all '\n"
     ]
    },
    {
     "data": {
      "text/html": [],
      "text/plain": [
       "<IPython.core.display.HTML object>"
      ]
     },
     "metadata": {},
     "output_type": "display_data"
    },
    {
     "name": "stderr",
     "output_type": "stream",
     "text": [
      "1it [00:01,  1.68s/it]\n"
     ]
    },
    {
     "data": {
      "text/plain": [
       "[array([2.578956 , 2.1054902, 3.2795985, 2.104621 , 2.9153862, 3.216155 ,\n",
       "        1.3796545, 2.044024 , 3.0316179, 2.8119135, 3.167055 , 2.108531 ,\n",
       "        1.8722103, 3.0290413, 1.9077861, 2.1753738, 3.0854301, 1.2300345,\n",
       "        3.1600997, 1.4868089, 2.8067648, 2.8349936, 3.0506375, 2.0141323,\n",
       "        2.445287 ], dtype=float32)]"
      ]
     },
     "execution_count": 3,
     "metadata": {},
     "output_type": "execute_result"
    }
   ],
   "source": [
    "texts = ['Scientists find a new drug']\n",
    "get_news_values(texts)"
   ]
  },
  {
   "cell_type": "code",
   "execution_count": null,
   "id": "2aae9617-e382-410e-8ff0-46a4aa592e5b",
   "metadata": {},
   "outputs": [],
   "source": []
  }
 ],
 "metadata": {
  "kernelspec": {
   "display_name": "Python 3 (ipykernel)",
   "language": "python",
   "name": "python3"
  },
  "language_info": {
   "codemirror_mode": {
    "name": "ipython",
    "version": 3
   },
   "file_extension": ".py",
   "mimetype": "text/x-python",
   "name": "python",
   "nbconvert_exporter": "python",
   "pygments_lexer": "ipython3",
   "version": "3.11.5"
  }
 },
 "nbformat": 4,
 "nbformat_minor": 5
}
