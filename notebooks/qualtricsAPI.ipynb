{
 "cells": [
  {
   "cell_type": "code",
   "execution_count": 5,
   "metadata": {},
   "outputs": [],
   "source": [
    "import requests\n",
    "import json\n",
    "\n",
    "# Set up the API endpoint\n",
    "api_endpoint = 'https://yourdatacenterid.qualtrics.com/API/v3/surveys/{}/questions/{}'\n",
    "\n",
    "# Set the survey ID and question ID\n",
    "survey_id = '9uZtx5y8Rh4Qt4a'\n",
    "question_id = 'QID14'\n",
    "\n",
    "# Set the new choices for the question\n",
    "new_choices = {\n",
    "    \"1\": \"Choice 1\",\n",
    "    \"2\": \"Choice 2\",\n",
    "    \"3\": \"Choice 3\"\n",
    "}\n",
    "\n",
    "# Set up the API call\n",
    "headers = {\n",
    "    'X-API-Token': 'kQMhTzRj8EiMY7ZffnBjnFeFcuw76v9pRhF2efVw',\n",
    "    'Content-Type': 'application/json'\n",
    "}\n",
    "url = api_endpoint.format(survey_id, question_id)\n",
    "data = {\n",
    "    'Choices': new_choices\n",
    "}\n",
    "\n",
    "# Make the API call\n",
    "response = requests.get(url, headers=headers)"
   ]
  },
  {
   "cell_type": "code",
   "execution_count": 6,
   "metadata": {},
   "outputs": [
    {
     "data": {
      "text/plain": [
       "<Response [404]>"
      ]
     },
     "execution_count": 6,
     "metadata": {},
     "output_type": "execute_result"
    }
   ],
   "source": [
    "response"
   ]
  },
  {
   "cell_type": "code",
   "execution_count": 7,
   "metadata": {},
   "outputs": [
    {
     "data": {
      "text/plain": [
       "'https://yourdatacenterid.qualtrics.com/API/v3/surveys/9uZtx5y8Rh4Qt4a/questions/QID14'"
      ]
     },
     "execution_count": 7,
     "metadata": {},
     "output_type": "execute_result"
    }
   ],
   "source": [
    "url"
   ]
  },
  {
   "cell_type": "code",
   "execution_count": null,
   "metadata": {},
   "outputs": [],
   "source": []
  }
 ],
 "metadata": {
  "kernelspec": {
   "display_name": "Python 3",
   "language": "python",
   "name": "python3"
  },
  "language_info": {
   "codemirror_mode": {
    "name": "ipython",
    "version": 3
   },
   "file_extension": ".py",
   "mimetype": "text/x-python",
   "name": "python",
   "nbconvert_exporter": "python",
   "pygments_lexer": "ipython3",
   "version": "3.8.5"
  }
 },
 "nbformat": 4,
 "nbformat_minor": 4
}
